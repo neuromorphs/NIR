{
 "cells": [
  {
   "cell_type": "markdown",
   "metadata": {},
   "source": [
    "# jaxsnn\n",
    "\n",
    "[jaxsnn](https://github.com/electronicvisions/jaxsnn) is an event-based training framework for spiking neural networks (SNNs) implemented in JAX. It provides support for numerical model simulation.\n",
    "\n",
    "Training of SNNs is done in the init/apply style, where an `init` function contains the initial parameters and the `apply` function represents the forward pass as well as the backward pass through the SNN."
   ]
  },
  {
   "cell_type": "markdown",
   "metadata": {},
   "source": [
    "### Export a NIR graph from NIR to jaxsnn"
   ]
  },
  {
   "cell_type": "code",
   "execution_count": null,
   "metadata": {},
   "outputs": [],
   "source": [
    "from jax import random\n",
    "import jaxsnn\n",
    "import nir\n",
    "import numpy as np\n",
    "\n",
    "input_size = 3\n",
    "output_size = 2\n",
    "\n",
    "np_rng = np.random.default_rng(42)\n",
    "weight = np_rng.uniform(low=0.5, high=1.5, size=(output_size, input_size))\n",
    "\n",
    "# Create a simple NIR graph\n",
    "nir_model = nir.NIRGraph(\n",
    "    nodes={\n",
    "        \"input\": nir.Input(input_type=np.array([input_size])),\n",
    "        \"linear\": nir.Linear(weight=weight),\n",
    "        \"cubalif\": nir.CubaLIF(\n",
    "            tau_mem=np.array([4e-4]*output_size),\n",
    "            tau_syn=np.array([2e-4]*output_size),\n",
    "            r=np.array([1]*output_size),\n",
    "            v_leak=np.array([0]*output_size),\n",
    "            v_reset=np.array([-1]*output_size),\n",
    "            v_threshold=np.array([1]*output_size),\n",
    "        ),\n",
    "        \"output\": nir.Output(output_type=np.array([output_size])),\n",
    "    },\n",
    "    edges=[(\"input\", \"linear\"), (\"linear\", \"cubalif\"), (\"cubalif\", \"output\")],\n",
    ")\n",
    "\n",
    "# Convert to jaxsnn\n",
    "config = jaxsnn.ConversionConfig(t_max = 4*2e-4,\n",
    "                                 n_spikes = {\"cubalif\": 20})\n",
    "init, apply = jaxsnn.from_nir(nir_model, config)"
   ]
  },
  {
   "cell_type": "markdown",
   "metadata": {},
   "source": [
    "Note that here, the `apply` function performs the forward pass as well as the backward pass (pure simulator).\n",
    "It is also possible to perform the forward pass externally, e.g. on a [BrainScaleS-2](https://wiki.ebrains.eu/bin/view/Collabs/neuromorphic/BrainScaleS/) chip or other neuromorphic hardware and use jaxsnn only for gradient computation on the external spike times. This needs to be specified by the `external` argument in the `ConversionConfig` object."
   ]
  },
  {
   "cell_type": "markdown",
   "metadata": {},
   "source": [
    "### Test the network with some input spikes"
   ]
  },
  {
   "cell_type": "code",
   "execution_count": 4,
   "metadata": {},
   "outputs": [
    {
     "data": {
      "image/png": "[encoded data removed]",
      "text/plain": [
       "<Figure size 700x400 with 1 Axes>"
      ]
     },
     "metadata": {},
     "output_type": "display_data"
    }
   ],
   "source": [
    "import jax.numpy as jnp\n",
    "from jaxsnn.event.types import EventPropSpike\n",
    "import matplotlib.pyplot as plt\n",
    "\n",
    "rng = random.PRNGKey(42)\n",
    "\n",
    "# Create input spikes\n",
    "input_spikes = EventPropSpike(\n",
    "    time=jnp.array([0.0, 1e-4, 2e-4, 4e-4, 6e-4, 7e-4]),\n",
    "    idx=jnp.array([0, 2, 1, 1, 0, 2]),\n",
    "    current=jnp.array([0.0, 0.0, 0.0, 0.0, 0.0]))\n",
    "\n",
    "# Apply the model\n",
    "_, weight = init(rng, 1)\n",
    "_, _, output, _ = apply(weight, input_spikes)\n",
    "\n",
    "# Plot spike times\n",
    "is_input = output.idx < input_size  # Input neurons are indexed 0, 1 and 2\n",
    "is_output = output.idx >= input_size  # Output neurons are indexed 3 and 4\n",
    "\n",
    "plt.figure(figsize=(7, 4))\n",
    "plt.scatter(output.time[is_input]*1000, output.idx[is_input], marker='o',\n",
    "            label='Input Spikes', s=100)\n",
    "plt.scatter(output.time[is_output]*1000, output.idx[is_output], marker='^',\n",
    "            label='Output Spikes', s=100)\n",
    "plt.title(\"Spike Times\")\n",
    "plt.xlabel(\"Time (ms)\")\n",
    "plt.ylabel(\"Neuron Index\")\n",
    "plt.ylim(-0.5, 4.5)  # Adjust x-axis limits based on t_max\n",
    "plt.grid()\n",
    "plt.legend()\n",
    "plt.show()\n"
   ]
  }
 ],
 "metadata": {
  "kernelspec": {
   "display_name": "visionary-dls",
   "language": "python",
   "name": "python3"
  },
  "language_info": {
   "codemirror_mode": {
    "name": "ipython",
    "version": 3
   },
   "file_extension": ".py",
   "mimetype": "text/x-python",
   "name": "python",
   "nbconvert_exporter": "python",
   "pygments_lexer": "ipython3",
   "version": "3.11.10"
  }
 },
 "nbformat": 4,
 "nbformat_minor": 4
}
