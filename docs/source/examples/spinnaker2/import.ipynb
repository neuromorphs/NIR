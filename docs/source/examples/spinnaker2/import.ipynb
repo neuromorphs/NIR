{
 "cells": [
  {
   "cell_type": "markdown",
   "metadata": {},
   "source": [
    "# SpiNNaker2\n",
    "\n",
    "SpiNNaker2 is a neuromorphic chip based around a grid of ARM Cortex-M4F processors which are tighly coupled with accelerators and a network-on-chip optimized for, but not limited to transmission of spikes.\n",
    "\n",
    "Running this requires the following library and installed SpiNNaker2 hardware: [py-spinnaker2](https://gitlab.com/spinnaker2/py-spinnaker2). Currently the branch `py-spinnaker2_nir` is required.\n",
    "\n",
    "## Create a graph"
   ]
  },
  {
   "cell_type": "code",
   "execution_count": null,
   "metadata": {
    "vscode": {
     "languageId": "plaintext"
    }
   },
   "outputs": [],
   "source": [
    "import numpy as np\n",
    "from spinnaker2 import s2_nir\n",
    "\n",
    "import nir\n",
    "\n",
    "nir_model = nir.NIRGraph(\n",
    "    nodes={\n",
    "        \"in\": nir.Input(input_type=np.array([3])),\n",
    "        \"affine\": nir.Affine(\n",
    "            weight=np.array([[8, 2, 10], [14, 3, 14]]).T * 32,\n",
    "            bias=np.array([0, 8]) * 32,\n",
    "        ),\n",
    "        \"lif\": nir.LIF(\n",
    "            tau=np.array([4] * 2),\n",
    "            r=np.array([1.25, 0.8]),\n",
    "            v_leak=np.array([0.5] * 2),\n",
    "            v_threshold=np.array([5] * 2) * 32,\n",
    "        ),\n",
    "        \"out\": nir.Output(output_type=np.array([2])),\n",
    "    },\n",
    "    edges=[(\"in\", \"affine\"), (\"affine\", \"lif\"), (\"lif\", \"out\")],\n",
    ")\n",
    "nir.write(\"nir_model.hdf5\", nir_model)\n",
    "\n",
    "print(nir_model)\n",
    "print(\"read back\")\n",
    "net = s2_nir.from_nir(nir_model)\n",
    "print(net)\n"
   ]
  },
  {
   "cell_type": "markdown",
   "metadata": {},
   "source": [
    "## Import to Spinnaker2"
   ]
  },
  {
   "cell_type": "code",
   "execution_count": null,
   "metadata": {
    "vscode": {
     "languageId": "plaintext"
    }
   },
   "outputs": [],
   "source": [
    "import matplotlib.pyplot as plt\n",
    "import numpy as np\n",
    "from spinnaker2 import hardware, helpers, s2_nir\n",
    "\n",
    "import nir\n",
    "\n",
    "np.random.seed(123)\n",
    "\n",
    "timesteps = 50\n",
    "\n",
    "# load NIR model\n",
    "nir_model = nir.read(\"nir_model.hdf5\")\n",
    "print(nir_model)\n",
    "net, inp, outp = s2_nir.from_nir(\n",
    "    nir_model, outputs=[\"v\", \"spikes\"], discretization_timestep=1, conn_delay=0\n",
    ")\n",
    "\n",
    "\n",
    "# Create some input spikes\n",
    "input_size = inp[0].size\n",
    "input_spikes = {}\n",
    "input_data = np.random.randn(input_size, timesteps)\n",
    "input_data = (input_data > 1) * 1\n",
    "print(input_data)\n",
    "\n",
    "for i in range(input_size):\n",
    "    input_spikes[i] = input_data[i].nonzero()[0].tolist()\n",
    "\n",
    "inp[0].params = input_spikes\n",
    "\n",
    "\n",
    "# Load up hardware + run\n",
    "hw = hardware.SpiNNaker2Chip(eth_ip=\"192.168.1.52\")  # use ethernet\n",
    "\n",
    "timesteps += 3\n",
    "hw.run(net, timesteps)\n",
    "\n",
    "\n",
    "# get results and plot\n",
    "spike_times = outp[0].get_spikes()\n",
    "voltages = outp[0].get_voltages()\n",
    "\n",
    "fig, axs = plt.subplots(1, 3, sharex=True)\n",
    "\n",
    "indices, times = helpers.spike_times_dict_to_arrays(input_spikes)\n",
    "axs[0].plot(times, indices, \".\")\n",
    "axs[0].set_xlim(0, timesteps)\n",
    "axs[0].set_ylim(-0.5, len(input_spikes.keys()) - 0.5)\n",
    "axs[0].set_ylabel(\"neuron\")\n",
    "\n",
    "indices, times = helpers.spike_times_dict_to_arrays(spike_times)\n",
    "axs[1].plot(times, indices, \".\")\n",
    "axs[1].set_xlim(0, timesteps)\n",
    "axs[1].set_ylim(-0.5, outp[0].size - 0.5)\n",
    "axs[1].set_ylabel(\"neuron\")\n",
    "\n",
    "for i, _ in voltages.items():\n",
    "    axs[2].plot(_, label=i)\n",
    "    axs[2].set_xlabel(\"time step\")\n",
    "    axs[2].set_ylabel(\"membrane potential\")\n",
    "    axs[2].set_xlim(0, timesteps)\n",
    "    axs[2].legend()\n",
    "    axs[2].grid()\n",
    "\n",
    "plt.show()\n"
   ]
  }
 ],
 "metadata": {
  "language_info": {
   "name": "python"
  },
  "orig_nbformat": 4
 },
 "nbformat": 4,
 "nbformat_minor": 2
}
