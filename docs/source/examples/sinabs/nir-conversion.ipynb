{
 "cells": [
  {
   "cell_type": "markdown",
   "metadata": {},
   "source": [
    "# Sinabs\n",
    "\n",
    "Sinabs is a deep learning library for spiking neural networks which is based on PyTorch and focuses on fast training as well as inference on neuromorphic hardware.\n",
    "\n",
    "`sinabs.to_nir` and `sinabs.from_nir` methods allow you to seemlessly navigate between `nir` and `sinabs`. Once your model is in sinabs, you can use this model to train or directly deploy your models to Speck/DynapCNN. \n",
    "\n",
    "\n",
    "## Import a NIR graph to Sinabs"
   ]
  },
  {
   "cell_type": "code",
   "execution_count": null,
   "metadata": {},
   "outputs": [],
   "source": [
    "import torch\n",
    "from sinabs import from_nir\n",
    "\n",
    "import nir\n",
    "\n",
    "# Create a NIR graph\n",
    "affine_weights = torch.tensor([[1.0, 2.0], [3.0, 4.0]])\n",
    "affine_bias = torch.tensor([1.0, 2.0])\n",
    "li_tau = torch.tensor([0.9, 0.8])\n",
    "li_r = torch.tensor([1.0, 1.0])\n",
    "li_v_leak = torch.tensor([0.0, 0.0])\n",
    "nir_network = nir.NIRGraph.from_list(\n",
    "    nir.Affine(affine_weights, affine_bias), nir.LI(li_tau, li_r, li_v_leak)\n",
    ")\n",
    "\n",
    "# Create Sinabs model from NIR graph.\n",
    "# You need to define the batch size because Sinabs will use Squeeze\n",
    "# versions of layers by default.\n",
    "sinabs_model = from_nir(nir_network, batch_size=10)\n",
    "print(sinabs_model)"
   ]
  },
  {
   "cell_type": "markdown",
   "metadata": {},
   "source": [
    "## Export a NIR graph from Sinabs"
   ]
  },
  {
   "cell_type": "code",
   "execution_count": null,
   "metadata": {
    "vscode": {
     "languageId": "plaintext"
    }
   },
   "outputs": [],
   "source": [
    "import sinabs.layers as sl\n",
    "import torch\n",
    "import torch.nn as nn\n",
    "from sinabs import from_nir, to_nir\n",
    "\n",
    "batch_size = 4\n",
    "\n",
    "# Create Sinabs model\n",
    "orig_model = nn.Sequential(\n",
    "    torch.nn.Linear(10, 2),\n",
    "    sl.ExpLeakSqueeze(tau_mem=10.0, batch_size=batch_size),\n",
    "    sl.LIFSqueeze(tau_mem=10.0, batch_size=batch_size),\n",
    "    torch.nn.Linear(2, 1),\n",
    ")\n",
    "\n",
    "# Convert model to NIR graph with a random input of representative shape\n",
    "nir_graph = to_nir(orig_model, torch.randn(batch_size, 10))\n",
    "print(nir_graph)\n",
    "\n",
    "\n",
    "# Reload sinabs model from NIR\n",
    "sinabs_model = from_nir(nir_graph, batch_size)\n"
   ]
  }
 ],
 "metadata": {
  "language_info": {
   "name": "python"
  },
  "orig_nbformat": 4
 },
 "nbformat": 4,
 "nbformat_minor": 2
}
