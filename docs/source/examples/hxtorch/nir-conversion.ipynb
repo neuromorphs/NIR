{
 "cells": [
  {
   "cell_type": "markdown",
   "metadata": {},
   "source": [
    "# hxtorch\n",
    "\n",
    "[hxtorch](https://github.com/electronicvisions/hxtorch) hxtorch is a deep learning Python library used for numerical simulation, neuromorphic emulation and training of spiking neural networks (SNNs). Built on top of PyTorch, it integrates the automatic differentiation and modular design of the PyTorch ecosystem with neuromorphic experiment execution, enabling hardware-in-the-loop training workflows on the neuromorphic hardware system [BrainScaleS-2](https://wiki.ebrains.eu/bin/view/Collabs/neuromorphic/BrainScaleS/).\n",
    "\n",
    "```{include} ../../../tmp/examples/hxtorch/supported_primitives.md"
   ]
  },
  {
   "cell_type": "markdown",
   "metadata": {},
   "source": [
    "### Import a NIR graph to NIR from hxtorch"
   ]
  },
  {
   "cell_type": "code",
   "execution_count": null,
   "metadata": {},
   "outputs": [],
   "source": [
    "import hxtorch.spiking as hxsnn\n",
    "from hxtorch.spiking.utils.to_nir import SNN, to_nir\n",
    "import torch\n",
    "\n",
    "# Your SNN definition in hxtorch\n",
    "class One_Layer_SNN(SNN):\n",
    "    def __init__(self, dt: float = 1.0e-6, mock: bool = True,\n",
    "                 device: torch.device = torch.device(\"cpu\")):\n",
    "        super().__init__(dt, mock, device)\n",
    "\n",
    "        # Layers\n",
    "        self.linear_h = hxsnn.Synapse(in_features=5, out_features=10, experiment=self.exp)\n",
    "        self.lif_h = hxsnn.LIF(size=10, experiment=self.exp)\n",
    "        self.linear_o = hxsnn.Synapse(in_features=10, out_features=2, experiment=self.exp)\n",
    "        self.li_readout = hxsnn.LI(size=2, experiment=self.exp)\n",
    "\n",
    "    def forward(self, spikes: torch.Tensor) -> torch.Tensor:\n",
    "        \"\"\"\n",
    "        Perform a forward pass for an SNN with one hidden LIF layer and an LI \n",
    "        readout.\n",
    "\n",
    "        :param spikes: torch.Tensor holding spikes as input.\n",
    "\n",
    "        :return: Returns the output of the network, i.e. membrane traces of the\n",
    "            readout neurons.\n",
    "        \"\"\"\n",
    "        # Spike input handle\n",
    "        spikes_handle = hxsnn.LIFObservables(spikes=spikes)\n",
    "\n",
    "        # Forward\n",
    "        c_h = self.linear_h(spikes_handle)\n",
    "        self.s_h = self.lif_h(c_h)\n",
    "        c_o = self.linear_o(self.s_h)\n",
    "        y_o = self.li_readout(c_o)\n",
    "\n",
    "        # Execute on hardware\n",
    "        hxsnn.run(self.exp, spikes.shape[0])\n",
    "\n",
    "        return y_o.membrane_cadc\n",
    "\n",
    "snn = One_Layer_SNN()\n",
    "input_sample = torch.randint(0, 2, (10, 1, 5), dtype=torch.float32)\n",
    "nir_graph = to_nir(snn, input_sample)"
   ]
  },
  {
   "cell_type": "markdown",
   "metadata": {},
   "source": [
    "### Export a NIR graph from NIR to hxtorch"
   ]
  },
  {
   "cell_type": "code",
   "execution_count": null,
   "metadata": {},
   "outputs": [],
   "source": [
    "import hxtorch.spiking as hxsnn\n",
    "from hxtorch.spiking.utils.from_nir import ConversionConfig\n",
    "import nir\n",
    "import numpy as np\n",
    "import torch\n",
    "\n",
    "cfg = ConversionConfig()\n",
    "\n",
    "nir_graph = nir.NIRGraph(\n",
    "    nodes={\n",
    "        \"input\": nir.Input(input_type=np.array([3])),\n",
    "        \"linear\": nir.Linear(weight=np.random.rand(5, 3)),\n",
    "        \"lif\": nir.CubaLIF(\n",
    "            tau_mem=np.array([0.02] * 5),\n",
    "            tau_syn=np.array([0.005] * 5),\n",
    "            r=np.array([1.0] * 5),\n",
    "            v_leak=np.array([0.1] * 5),\n",
    "            v_reset=np.array([0.0] * 5),\n",
    "            v_threshold=np.array([1.0] * 5)\n",
    "        ),\n",
    "        \"output\": nir.Output(output_type=np.array([5]))\n",
    "    },\n",
    "    edges=[\n",
    "        (\"input\", \"linear\"),\n",
    "        (\"linear\", \"lif\"),\n",
    "        (\"lif\", \"output\")\n",
    "    ]\n",
    ")\n",
    "\n",
    "hxtorch_network = hxsnn.from_nir(nir_graph, cfg)\n",
    "\n",
    "# Example usage (10 time steps, 100 samples, input size 3)\n",
    "sample_input = {\"input\": torch.randint(0, 2, (10, 100, 3), dtype=torch.float32)}\n",
    "output = hxtorch_network(sample_input)"
   ]
  },
  {
   "cell_type": "markdown",
   "metadata": {},
   "source": [
    "The attribute `mock`/`ConversionConfig.mock` configures where the experiment is\n",
    "executed: Either it is simulated on CPU/GPU or emulated on a BrainScaleS-2 chip.\n",
    "The resulting `hxtorch_network` is constructed such that the input must be \n",
    "provided as a `dict` of the input node keys. The network's output is also \n",
    "returned as `dict`."
   ]
  }
 ],
 "metadata": {
  "kernelspec": {
   "display_name": "Python 3",
   "language": "python",
   "name": "python3"
  },
  "language_info": {
   "codemirror_mode": {
    "name": "ipython",
    "version": 3
   },
   "file_extension": ".py",
   "mimetype": "text/x-python",
   "name": "python",
   "nbconvert_exporter": "python",
   "pygments_lexer": "ipython3",
   "version": "3.9.2"
  }
 },
 "nbformat": 4,
 "nbformat_minor": 4
}
