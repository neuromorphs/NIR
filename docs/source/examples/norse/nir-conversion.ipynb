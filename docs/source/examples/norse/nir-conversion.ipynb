{
 "cells": [
  {
   "cell_type": "markdown",
   "metadata": {},
   "source": [
    "# Norse\n",
    "\n",
    "Norse is a deep learning simulator for spiking neural networks, built on PyTorch.\n",
    "\n",
    "## Import a NIR graph to Norse"
   ]
  },
  {
   "cell_type": "code",
   "execution_count": null,
   "metadata": {},
   "outputs": [],
   "source": [
    "import norse.torch as norse\n",
    "import torch\n",
    "\n",
    "import nir\n",
    "\n",
    "# Create a NIR Network\n",
    "affine_weights = torch.tensor([[1.0, 2.0], [3.0, 4.0]])\n",
    "affine_bias = torch.tensor([1.0, 2.0])\n",
    "li_tau = torch.tensor([0.9, 0.8])\n",
    "li_r = torch.tensor([1.0, 1.0])\n",
    "li_v_leak = torch.tensor([0.0, 0.0])\n",
    "nir_network = nir.NIRGraph.from_list(\n",
    "    nir.Affine(affine_weights, affine_bias), nir.LI(li_tau, li_r, li_v_leak)\n",
    ")\n",
    "\n",
    "# Import to Norse\n",
    "norse_network = norse.from_nir(nir_network)"
   ]
  },
  {
   "cell_type": "markdown",
   "metadata": {},
   "source": [
    "## Export a NIR graph from Norse"
   ]
  },
  {
   "cell_type": "code",
   "execution_count": null,
   "metadata": {
    "vscode": {
     "languageId": "plaintext"
    }
   },
   "outputs": [],
   "source": [
    "import norse.torch as norse\n",
    "import torch\n",
    "\n",
    "import nir\n",
    "\n",
    "# Create a network\n",
    "network = norse.SequentialState(norse.LIFCell(), torch.nn.Linear(1, 1))\n",
    "\n",
    "# Export to nir\n",
    "sample_data = torch.randn(1, 1)\n",
    "nir_model = norse.to_nir(network, sample_data)\n",
    "\n",
    "# Save to file\n",
    "nir.write(\"nir_model.nir\", nir_model)"
   ]
  }
 ],
 "metadata": {
  "kernelspec": {
   "display_name": "Python 3 (ipykernel)",
   "language": "python",
   "name": "python3"
  },
  "language_info": {
   "codemirror_mode": {
    "name": "ipython",
    "version": 3
   },
   "file_extension": ".py",
   "mimetype": "text/x-python",
   "name": "python",
   "nbconvert_exporter": "python",
   "pygments_lexer": "ipython3",
   "version": "3.10.12"
  }
 },
 "nbformat": 4,
 "nbformat_minor": 4
}
