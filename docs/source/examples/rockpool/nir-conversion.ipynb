{
 "cells": [
  {
   "cell_type": "markdown",
   "metadata": {},
   "source": [
    "# Rockpool\n",
    "\n",
    "Rockpool (https://rockpool.ai) is a deep learning toolchain for deep spiking neural networks and other dynamical NN architectures, supporting deployment to Neuromorphic computing hardware.\n",
    "\n",
    "Rockpool provides a convenient interface for designing, training and evaluating networks, which can operate both with continuous-time dynamics and event-driven dynamics.\n",
    "\n",
    "You can import a model from NIR with the `from_nir` method in `rockpool.nn.modules.torch.nir`. Once it is in Rockpool, you can deploy your model to Synsense's Xylo chips.\n",
    "\n",
    "## Import a NIR graph to Rockpool"
   ]
  },
  {
   "cell_type": "code",
   "execution_count": 2,
   "metadata": {},
   "outputs": [
    {
     "name": "stdout",
     "output_type": "stream",
     "text": [
      "GraphExecutor(\n",
      "  (input): Identity()\n",
      "  (affine): LinearTorch()\n",
      "  (li): ExpSynTorch()\n",
      "  (output): Identity()\n",
      ")\n"
     ]
    }
   ],
   "source": [
    "from rockpool.nn.modules import from_nir\n",
    "\n",
    "import nir\n",
    "import torch\n",
    "\n",
    "# Supress warnings\n",
    "import warnings\n",
    "# warnings.filterwarnings('ignore')\n",
    "\n",
    "# Create a NIR graph\n",
    "affine_weights = torch.tensor([[1.0, 2.0], [3.0, 4.0]])\n",
    "affine_bias = torch.tensor([1.0, 2.0])\n",
    "li_tau = torch.tensor([0.9, 0.8])\n",
    "li_r = torch.tensor([1.0, 1.0])\n",
    "li_v_leak = torch.tensor([0.0, 0.0])\n",
    "nir_network = nir.NIRGraph.from_list(\n",
    "    nir.Affine(affine_weights, affine_bias), nir.LI(li_tau, li_r, li_v_leak)\n",
    ")\n",
    "\n",
    "# Create Rockpool model from NIR graph.\n",
    "with warnings.catch_warnings():\n",
    "    # Supress unrelated warnings from Rockpool\n",
    "    warnings.simplefilter(\"ignore\")\n",
    "    rockpool_model = from_nir(nir_network)\n",
    "print(rockpool_model)\n"
   ]
  },
  {
   "cell_type": "markdown",
   "metadata": {
    "tags": []
   },
   "source": [
    "## Export a NIR graph from Rockpool"
   ]
  },
  {
   "cell_type": "code",
   "execution_count": 4,
   "metadata": {},
   "outputs": [
    {
     "name": "stdout",
     "output_type": "stream",
     "text": [
      "NIRGraph(nodes={'input': Input(input_type={'input': array([1, 2])}), '0_LinearTorch': Linear(weight=tensor([[-0.5091,  0.9906],\n",
      "        [ 0.6462,  0.4613],\n",
      "        [-1.6254, -1.5708],\n",
      "        [ 1.3620, -0.1414]])), '1_LIFTorch': CubaLIF(tau_syn=array([0.02, 0.02, 0.02, 0.02], dtype=float32), tau_mem=array([0.02, 0.02, 0.02, 0.02], dtype=float32), r=array([19.024588, 19.024588, 19.024588, 19.024588], dtype=float32), v_leak=array([0., 0., 0., 0.], dtype=float32), v_threshold=array([1., 1., 1., 1.], dtype=float32), w_in=array([1., 1., 1., 1.], dtype=float32), input_type={'input': array([4])}, output_type={'output': array([4])}, metadata={}), '2_LinearTorch': Linear(weight=tensor([[ 0.6191,  0.3268, -0.3174, -0.8611],\n",
      "        [ 0.7899,  1.0755, -1.0221,  1.0548]])), '3_LIFTorch': CubaLIF(tau_syn=array([0.02, 0.02], dtype=float32), tau_mem=array([0.02, 0.02], dtype=float32), r=array([19.024588, 19.024588], dtype=float32), v_leak=array([0., 0.], dtype=float32), v_threshold=array([1., 1.], dtype=float32), w_in=array([1., 1.], dtype=float32), input_type={'input': array([2])}, output_type={'output': array([2])}, metadata={}), 'output': Output(output_type={'output': array([1, 1, 2])})}, edges=[('input', '0_LinearTorch'), ('1_LIFTorch', '2_LinearTorch'), ('2_LinearTorch', '3_LIFTorch'), ('3_LIFTorch', 'output'), ('0_LinearTorch', '1_LIFTorch')], input_type={'input': {'input': array([1, 2])}}, output_type={'output': {'output': array([1, 1, 2])}}, metadata={})\n",
      "GraphExecutor(\n",
      "  (input): Identity()\n",
      "  (0_LinearTorch): LinearTorch()\n",
      "  (1_LIFTorch): LIFTorch()\n",
      "  (2_LinearTorch): LinearTorch()\n",
      "  (3_LIFTorch): LIFTorch()\n",
      "  (output): Identity()\n",
      ")\n"
     ]
    },
    {
     "name": "stderr",
     "output_type": "stream",
     "text": [
      "/Users/dylan/SynSense Dropbox/Dylan Muir/LiveSync/Development/Projects/nir/rockpool_nir/rockpool/nn/modules/torch/torch_module.py:258: UserWarning: To copy construct from a tensor, it is recommended to use sourceTensor.clone().detach() or sourceTensor.clone().detach().requires_grad_(True), rather than torch.tensor(sourceTensor).\n",
      "  super().register_parameter(key, nn.Parameter(torch.tensor(value.data)))\n",
      "/Users/dylan/SynSense Dropbox/Dylan Muir/LiveSync/Development/Projects/nir/rockpool_nir/rockpool/nn/modules/torch/linear_torch.py:111: UserWarning: To copy construct from a tensor, it is recommended to use sourceTensor.clone().detach() or sourceTensor.clone().detach().requires_grad_(True), rather than torch.tensor(sourceTensor).\n",
      "  torch.tensor(weight) if weight is not None else None,\n",
      "/Users/dylan/SynSense Dropbox/Dylan Muir/LiveSync/Development/Projects/nir/rockpool_nir/rockpool/nn/modules/torch/nir.py:115: UserWarning: To copy construct from a tensor, it is recommended to use sourceTensor.clone().detach() or sourceTensor.clone().detach().requires_grad_(True), rather than torch.tensor(sourceTensor).\n",
      "  dt=torch.min(torch.tensor(_to_tensor(node.tau_mem / (1 + node.r)))).item(),\n"
     ]
    }
   ],
   "source": [
    "from rockpool.nn.modules import to_nir, LinearTorch, LIFTorch\n",
    "from rockpool.nn.combinators import Sequential\n",
    "\n",
    "n_in = 2\n",
    "n_hidden = 4\n",
    "n_out = 2\n",
    "dt = 1e-3\n",
    "\n",
    "# Create Rockpool model\n",
    "net = Sequential(\n",
    "    LinearTorch((n_in, n_hidden), has_bias=False),\n",
    "    LIFTorch(n_hidden, dt=dt),\n",
    "    LinearTorch((n_hidden, n_out), has_bias=False),\n",
    "    LIFTorch(n_out, dt=dt),\n",
    ")\n",
    "\n",
    "# Convert model to NIR graph with a random input of representative shape\n",
    "nir_graph = to_nir(net, torch.randn(1, 2))\n",
    "print(nir_graph)\n",
    "\n",
    "# Reload model from NIR\n",
    "rockpool_model = from_nir(nir_graph)\n",
    "print(rockpool_model)\n"
   ]
  },
  {
   "cell_type": "markdown",
   "metadata": {},
   "source": [
    "## Deployment\n",
    "\n",
    "As all Rockpool modules, imported networks support the `.as_graph()` method needed for mapping and deployment to neuromoprhic hardware. Note that Rockpool and several sub-dependencies are needed to support deployment. You can install these with\n",
    "\n",
    "```\n",
    "pip install 'rockpool[xylo]'\n",
    "```\n",
    "\n",
    "For more information, see the Rockpool tutorial notebooks describing deployment to Xylo:\n",
    "https://rockpool.ai/devices/xylo-overview.html"
   ]
  },
  {
   "cell_type": "code",
   "execution_count": null,
   "metadata": {},
   "outputs": [],
   "source": [
    "from rockpool.devices.xylo.syns61201 import mapper, config_from_specification, XyloSim\n",
    "from rockpool.transform.quantize_methods import channel_quantize\n",
    "\n",
    "spec = mapper(rockpool_model.as_graph())\n",
    "config, is_valid, msg = config_from_specification(**channel_quantize(**spec))\n",
    "xylo = XyloSim.from_config(config)"
   ]
  },
  {
   "cell_type": "markdown",
   "metadata": {},
   "source": [
    "## Caveats\n",
    "\n",
    "NIR support in Rockpool is currently dependent on the `nirtorch` helper package, and only supports `torch` backend networks."

   ]
  }
 ],
 "metadata": {
  "kernelspec": {
   "display_name": "Python 3 (ipykernel)",
   "language": "python",
   "name": "python3"
  },
  "language_info": {
   "codemirror_mode": {
    "name": "ipython",
    "version": 3
   },
   "file_extension": ".py",
   "mimetype": "text/x-python",
   "name": "python",
   "nbconvert_exporter": "python",
   "pygments_lexer": "ipython3",
   "version": "3.10.14"
  }
 },
 "nbformat": 4,
 "nbformat_minor": 4
}
