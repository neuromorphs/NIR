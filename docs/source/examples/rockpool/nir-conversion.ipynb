{
 "cells": [
  {
   "cell_type": "markdown",
   "metadata": {},
   "source": [
    "# Rockpool\n",
    "\n",
    "Rockpool is a Python package for working with dynamical neural network architectures, particularly for designing event-driven networks for Neuromorphic computing hardware. Rockpool provides a convenient interface for designing, training and evaluating recurrent networks, which can operate both with continuous-time dynamics and event-driven dynamics.\n",
    "\n",
    "You can import a model from NIR with the `from_nir` method in `rockpool.nn.modules.torch.nir`. Once it is in Rockpool, you deploy your model to Synsense's Xylo chips.\n",
    "\n",
    "## Import a NIR graph to Rockpool"
   ]
  },
  {
   "cell_type": "code",
   "execution_count": null,
   "metadata": {},
   "outputs": [],
   "source": [
    "import torch\n",
    "from rockpool.nn.modules.torch.nir import from_nir\n",
    "\n",
    "import nir\n",
    "\n",
    "# Supress warnings\n",
    "import warnings\n",
    "# warnings.filterwarnings('ignore')\n",
    "\n",
    "# Create a NIR graph\n",
    "affine_weights = torch.tensor([[1.0, 2.0], [3.0, 4.0]])\n",
    "affine_bias = torch.tensor([1.0, 2.0])\n",
    "li_tau = torch.tensor([0.9, 0.8])\n",
    "li_r = torch.tensor([1.0, 1.0])\n",
    "li_v_leak = torch.tensor([0.0, 0.0])\n",
    "nir_network = nir.NIRGraph.from_list(\n",
    "    nir.Affine(affine_weights, affine_bias), nir.LI(li_tau, li_r, li_v_leak)\n",
    ")\n",
    "\n",
    "# Create Rockpool model from NIR graph.\n",
    "with warnings.catch_warnings():\n",
    "    # Supress unrelated warnings from Rockpool\n",
    "    warnings.simplefilter(\"ignore\")\n",
    "    rockpool_model = from_nir(nir_network)\n",
    "print(rockpool_model)\n"
   ]
  },
  {
   "cell_type": "markdown",
   "metadata": {
    "tags": []
   },
   "source": [
    "## Export a NIR graph from Rockpool"
   ]
  },
  {
   "cell_type": "code",
   "execution_count": null,
   "metadata": {
    "vscode": {
     "languageId": "plaintext"
    }
   },
   "outputs": [],
   "source": [
    "from rockpool.nn.modules.torch.nir import to_nir\n",
    "from rockpool.nn.modules import LinearTorch, LIFTorch\n",
    "from rockpool.nn.combinators import Sequential\n",
    "\n",
    "n_in = 2\n",
    "n_hidden = 4\n",
    "n_out = 2\n",
    "dt = 1e-3\n",
    "\n",
    "# Create Rockpool model\n",
    "net = Sequential(\n",
    "    LinearTorch((n_in, n_hidden), has_bias=False),\n",
    "    LIFTorch(n_hidden, dt=dt),\n",
    "    LinearTorch((n_hidden, n_out), has_bias=False),\n",
    "    LIFTorch(n_out, dt=dt),\n",
    ")\n",
    "\n",
    "# Convert model to NIR graph with a random input of representative shape\n",
    "nir_graph = to_nir(net, torch.randn(1, 2))\n",
    "print(nir_graph)\n",
    "\n",
    "\n",
    "# Reload sinabs model from NIR\n",
    "rockpool_model = from_nir(nir_graph)\n"
   ]
  },
  {
   "cell_type": "code",
   "execution_count": null,
   "metadata": {},
   "outputs": [],
   "source": []
  }
 ],
 "metadata": {
  "kernelspec": {
   "display_name": "Python 3 (ipykernel)",
   "language": "python",
   "name": "python3"
  },
  "language_info": {
   "codemirror_mode": {
    "name": "ipython",
    "version": 3
   },
   "file_extension": ".py",
   "mimetype": "text/x-python",
   "name": "python",
   "nbconvert_exporter": "python",
   "pygments_lexer": "ipython3",
   "version": "3.8.10"
  }
 },
 "nbformat": 4,
 "nbformat_minor": 4
}
