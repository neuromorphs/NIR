{
 "cells": [
  {
   "cell_type": "code",
   "execution_count": 1,
   "metadata": {},
   "outputs": [],
   "source": [
    "import lava.lib.dl.slayer as slayer\n",
    "import matplotlib.pyplot as plt\n",
    "import numpy as np\n",
    "import nir\n",
    "import norse\n",
    "import tonic\n",
    "import torch\n",
    "import tqdm\n",
    "import importlib\n",
    "import lava_cnn_reader\n",
    "importlib.reload(lava_cnn_reader);"
   ]
  },
  {
   "cell_type": "code",
   "execution_count": 2,
   "metadata": {},
   "outputs": [],
   "source": [
    "graph = nir.read('scnn_mnist.nir')\n",
    "norse_graph = norse.torch.from_nir(graph)\n",
    "children = list(norse_graph.children())\n",
    "net = lava_cnn_reader.nir_to_lava_dl(graph)"
   ]
  },
  {
   "cell_type": "code",
   "execution_count": 3,
   "metadata": {},
   "outputs": [],
   "source": [
    "bs = 128\n",
    "collate = tonic.collation.PadTensors(batch_first=False)\n",
    "to_frame = tonic.transforms.ToFrame(sensor_size=tonic.datasets.NMNIST.sensor_size, time_window=1e3)\n",
    "test_ds = tonic.datasets.NMNIST(\"./nmnist\", transform=to_frame, train=False)\n",
    "test_dl = torch.utils.data.DataLoader(test_ds, shuffle=True, batch_size=bs, collate_fn=collate)"
   ]
  },
  {
   "cell_type": "code",
   "execution_count": 4,
   "metadata": {},
   "outputs": [
    {
     "name": "stderr",
     "output_type": "stream",
     "text": [
      "Processing: 100%|██████████| 79/79 [08:25<00:00,  6.40s/it, accuracy=98.15%]"
     ]
    },
    {
     "name": "stdout",
     "output_type": "stream",
     "text": [
      "accuracy: 98.15% +/- 1.29%\n"
     ]
    },
    {
     "name": "stderr",
     "output_type": "stream",
     "text": [
      "\n"
     ]
    }
   ],
   "source": [
    "accuracies = []\n",
    "pbar = tqdm.tqdm(total=len(test_dl), desc=\"Processing\", position=0, leave=True)\n",
    "\n",
    "for idx, (x, y) in enumerate(test_dl):\n",
    "    x = torch.moveaxis(x, 0, -1)\n",
    "    out = net(x)\n",
    "    pred = out.mean(axis=-1).argmax(axis=1)\n",
    "    accuracy = (pred == y).sum() / x.shape[0]\n",
    "    accuracies.append(accuracy)\n",
    "    pbar.set_postfix(accuracy=\"{:.2f}%\".format(sum(accuracies)/len(accuracies)*100))\n",
    "    pbar.update(1)\n",
    "pbar.close()\n",
    "accuracies = np.array(accuracies)\n",
    "print(f'accuracy: {accuracies.mean():.2%} +/- {accuracies.std():.2%}')"
   ]
  },
  {
   "cell_type": "code",
   "execution_count": null,
   "metadata": {},
   "outputs": [],
   "source": [
    "print(accuracies.shape)"
   ]
  },
  {
   "cell_type": "markdown",
   "metadata": {},
   "source": [
    "## Write results to disk"
   ]
  },
  {
   "cell_type": "code",
   "execution_count": 5,
   "metadata": {},
   "outputs": [],
   "source": [
    "np.save(\"lava_accuracy.npy\", accuracies.mean())"
   ]
  },
  {
   "cell_type": "code",
   "execution_count": 123,
   "metadata": {},
   "outputs": [
    {
     "data": {
      "text/plain": [
       "torch.Size([300, 10, 16, 16, 16])"
      ]
     },
     "execution_count": 123,
     "metadata": {},
     "output_type": "execute_result"
    }
   ],
   "source": [
    "numbers = np.load(\"val_numbers.npy\")\n",
    "with torch.no_grad():\n",
    "  y = net.blocks[0](torch.moveaxis(torch.tensor(numbers), 0, -1).float())\n",
    "  out = net.blocks[1](y).moveaxis(-1, 0)\n",
    "  np.save(\"Lava_activity.npy\", out.numpy())\n",
    "out.shape"
   ]
  },
  {
   "cell_type": "markdown",
   "metadata": {},
   "source": [
    "## debug: make sure norse and lava are equal"
   ]
  },
  {
   "cell_type": "code",
   "execution_count": null,
   "metadata": {},
   "outputs": [
    {
     "name": "stdout",
     "output_type": "stream",
     "text": [
      "block 00: Conv       Conv2d    \n",
      "x_lava torch.Size([1, 2, 34, 34, 308]) x_norse torch.Size([308, 2, 34, 34])\n",
      "close: True\n",
      "block 01: Neuron     IAFCell   \n",
      "close: True\n",
      "block 02: Conv       Conv2d    \n",
      "close: False\n",
      "block 03: Neuron     IAFCell   \n",
      "close: True\n",
      "block 04: Pool       LPPool2d  \n",
      "close: True\n",
      "block 05: Conv       Conv2d    \n",
      "close: False\n",
      "block 06: Neuron     IAFCell   \n",
      "close: True\n",
      "block 07: Pool       LPPool2d  \n",
      "close: True\n",
      "block 08: Flatten    Flatten   \n",
      "close: True\n",
      "block 09: Dense      Linear    \n",
      "close: True\n",
      "block 10: Neuron     IAFCell   \n",
      "close: True\n",
      "block 11: Dense      Linear    \n",
      "close: True\n",
      "block 12: Neuron     IAFCell   \n",
      "close: True\n"
     ]
    }
   ],
   "source": [
    "lens = [len(net.blocks), len(children)]\n",
    "assert lens[0] == lens[1]\n",
    "\n",
    "sample_idx = 0\n",
    "inp = test_ds[sample_idx][0]\n",
    "\n",
    "lava_outputs = {}\n",
    "lava_hidden = {}\n",
    "norse_outputs = {}\n",
    "norse_hidden = {}\n",
    "for idx in range(lens[0]):\n",
    "    lavablock = net.blocks[idx]\n",
    "    norseblock = children[[0, 1, 5, 6, 7, 8, 9, 10, 11, 12, 2, 3, 4][idx]]\n",
    "    print(f'block {idx:02}: {type(lavablock).__name__:10} {type(norseblock).__name__:10}')\n",
    "\n",
    "    if idx == 0:\n",
    "        x_lava = torch.Tensor(inp).moveaxis(0, -1).unsqueeze(0)\n",
    "        x_norse = torch.Tensor(inp)\n",
    "        print('x_lava', x_lava.shape, 'x_norse', x_norse.shape)\n",
    "\n",
    "    # lava forward pass\n",
    "    x = lava_outputs[idx-1] if idx > 0 else x_lava\n",
    "    if isinstance(lavablock, slayer.neuron.cuba.Neuron):\n",
    "        lava_outputs[idx], lava_hidden[idx] = lavablock.forward(x, debug=True)\n",
    "        assert torch.allclose(lava_outputs[idx].detach(), lavablock(x).detach())\n",
    "    else:\n",
    "        lava_outputs[idx] = lavablock(x)\n",
    "\n",
    "    # norse forward pass\n",
    "    x = norse_outputs[idx-1] if idx > 0 else x_norse\n",
    "    if isinstance(norseblock, norse.torch.IAFCell):\n",
    "        T = x.shape[0]\n",
    "        outs = [None for _ in range(T)]\n",
    "        vs = [None for _ in range(T)]\n",
    "        for t in range(T):\n",
    "            outs[t], vs[t] = norseblock(x[t], vs[t-1] if t > 0 else None)\n",
    "        norse_outputs[idx] = torch.concat(outs, dim=0)\n",
    "        norse_hidden[idx] = torch.concat([v.v for v in vs], dim=0)\n",
    "    else:\n",
    "        norse_outputs[idx] = norseblock(x)\n",
    "    if isinstance(x, tuple):\n",
    "        print(x)\n",
    "\n",
    "    # print(f'block {idx:02}: {type(lavablock)} {type(norseblock)}')\n",
    "    print('close:', torch.allclose(lava_outputs[idx].squeeze(0).moveaxis(-1, 0), norse_outputs[idx], atol=1e-5, rtol=1e-5))"
   ]
  },
  {
   "cell_type": "code",
   "execution_count": null,
   "metadata": {},
   "outputs": [
    {
     "name": "stdout",
     "output_type": "stream",
     "text": [
      "W: True\n",
      "stride: \tnorse (2, 2)\t lava-dl (2, 2, 1)\n",
      "padding: \tnorse (1, 1)\t lava-dl (1, 1, 0)\n",
      "dilation: \tnorse (1, 1)\t lava-dl (1, 1, 1)\n",
      "groups: \tnorse 1\t\t lava-dl 1\n"
     ]
    }
   ],
   "source": [
    "# check that the Conv weights are the same\n",
    "print('W:', np.allclose(children[0].weight.detach(), net.blocks[0].weight.squeeze(-1).detach()))\n",
    "print(f'stride: \\tnorse {children[0].stride}\\t lava-dl {net.blocks[0].stride}')\n",
    "print(f'padding: \\tnorse {children[0].padding}\\t lava-dl {net.blocks[0].padding}')\n",
    "print(f'dilation: \\tnorse {children[0].dilation}\\t lava-dl {net.blocks[0].dilation}')\n",
    "print(f'groups: \\tnorse {children[0].groups}\\t\\t lava-dl {net.blocks[0].groups}')"
   ]
  },
  {
   "cell_type": "code",
   "execution_count": 74,
   "metadata": {},
   "outputs": [
    {
     "name": "stdout",
     "output_type": "stream",
     "text": [
      "Layer #0: Convolution\n",
      "out_lava torch.Size([16, 16, 16, 308])\n",
      "out_norse torch.Size([16, 16, 16, 308])\n",
      "all close True\n",
      "norse weight min -1.79 max 0.51\n",
      "lava weight  min -1.79 max 0.51\n",
      "\n",
      "Layer #1: I&F\n",
      "if_lava torch.Size([16, 16, 16, 308])\n",
      "if_norse torch.Size([16, 16, 16, 308]) torch.Size([16, 16, 16, 308])\n",
      "norse v_reset tensor(0., requires_grad=True)\n",
      "norse v_thr tensor([1.])\n",
      "norse v: min -68.921, max   1.000\n",
      "lava v:  min -68.921, max   2.728\n"
     ]
    },
    {
     "data": {
      "image/png": "[encoded data removed]",
      "text/plain": [
       "<Figure size 640x480 with 1 Axes>"
      ]
     },
     "metadata": {},
     "output_type": "display_data"
    }
   ],
   "source": [
    "sample_idx = 0\n",
    "\n",
    "inp_lava = torch.ones(1, 2, 34, 34, 10)\n",
    "inp_norse = torch.ones(10, 2, 34, 34)\n",
    "\n",
    "inp_lava = torch.Tensor(test_ds[0][0]).moveaxis(0, -1).unsqueeze(0)\n",
    "inp_norse = torch.Tensor(test_ds[0][0])\n",
    "\n",
    "print('Layer #0: Convolution')\n",
    "out_lava = net.blocks[0](inp_lava).squeeze(0).detach()\n",
    "out_norse = children[0](inp_norse).moveaxis(0, -1).detach()\n",
    "print('out_lava', out_lava.shape)\n",
    "print('out_norse', out_norse.shape)\n",
    "print('all close', np.allclose(out_lava, out_norse))\n",
    "print(f'norse weight min {children[0].weight.min():.2f} max {children[0].weight.max():.2f}')\n",
    "print(f'lava weight  min {net.blocks[0].weight.min():.2f} max {net.blocks[0].weight.max():.2f}')\n",
    "\n",
    "print('\\nLayer #1: I&F')\n",
    "if_lava, v = net.blocks[1](out_lava.unsqueeze(0), debug=True)\n",
    "if_lava = if_lava.squeeze(0).detach()\n",
    "v_lava = v.squeeze(0).detach()\n",
    "# thr_lava = thr.squeeze(0).detach()\n",
    "# refr_lava = refr.squeeze(0).detach()\n",
    "# assert len(np.unique(thr_lava)) == 1, 'threshold must be the same for all neurons'\n",
    "# assert len(np.unique(refr_lava)) == 1, 'refractory must be the same for all neurons'\n",
    "s_norse = []\n",
    "v_norse = []\n",
    "v = None\n",
    "for t in range(out_norse.shape[-1]):\n",
    "    s, v = children[1](out_norse[..., t], v)\n",
    "    s_norse.append(s.detach())\n",
    "    v_norse.append(v.v.detach())\n",
    "s_norse = torch.stack(s_norse, dim=-1).squeeze(0)\n",
    "v_norse = torch.stack(v_norse, dim=-1).squeeze(0)\n",
    "# if_norse, if_norse_v = children[1](out_norse.moveaxis(-1, 0))\n",
    "# if_norse = if_norse.moveaxis(0, -1).detach()\n",
    "# v_norse = if_norse_v.v.moveaxis(0, -1).detach()\n",
    "print('if_lava', if_lava.shape)\n",
    "print('if_norse', s_norse.shape, v_norse.shape)\n",
    "\n",
    "print('norse v_reset', children[1].p.v_reset)\n",
    "print('norse v_thr', children[1].p.v_th.unique())\n",
    "print(f'norse v: min {v_norse.min().item():7.3f}, max {v_norse.max().item():7.3f}')\n",
    "print(f'lava v:  min {v_lava.min().item():7.3f}, max {v_lava.max().item():7.3f}')\n",
    "\n",
    "idx = 1\n",
    "px_x = 0\n",
    "px_y = 0\n",
    "plt.title(f'membrane potential: sample {sample_idx}, channel {idx}, pixel {px_x}, {px_y}. v_thr={children[1].p.v_th.unique()[0]}')\n",
    "plt.plot(v_norse[idx, px_x, px_y, :], label='norse')\n",
    "# spike_idxs = np.where(if_norse[idx, 0, 0, :] == 1)[0]\n",
    "# plt.scatter(spike_idxs, np.ones_like(spike_idxs))\n",
    "plt.plot(v_lava[idx, px_x, px_y, :], label='lava')\n",
    "# spike_idxs = np.where(if_lava[idx, 0, 0, :] == 1)[0]\n",
    "# plt.scatter(spike_idxs, np.ones_like(spike_idxs))\n",
    "plt.legend()\n",
    "plt.show()"
   ]
  },
  {
   "cell_type": "markdown",
   "metadata": {},
   "source": [
    "## check lava-dl ALIF neuron parameters\n"
   ]
  },
  {
   "cell_type": "markdown",
   "metadata": {},
   "source": [
    "### cuba"
   ]
  },
  {
   "cell_type": "code",
   "execution_count": 15,
   "metadata": {},
   "outputs": [],
   "source": [
    "v_thr_eff = 1.\n",
    "cuba_neuron_params = dict(\n",
    "    threshold=v_thr_eff, \n",
    "    # threshold_step=0.0, \n",
    "    current_decay=1.0,\n",
    "    voltage_decay=0.0,\n",
    "    scale=4096,\n",
    "    # refractory_decay=1.0,\n",
    "    # threshold_decay=0.0,\n",
    ")\n",
    "neuron = slayer.neuron.cuba.Neuron(**cuba_neuron_params)\n",
    "inp = torch.Tensor([0, 0, 1, 0, 0, 1, 0, 0, 0, 0, 1, 0, 0, 0]) * 0.5\n",
    "s, v = neuron.forward(inp.reshape((1, 1, -1)), debug=True)"
   ]
  },
  {
   "cell_type": "code",
   "execution_count": 16,
   "metadata": {},
   "outputs": [
    {
     "data": {
      "image/png": "[encoded data removed]",
      "text/plain": [
       "<Figure size 640x480 with 1 Axes>"
      ]
     },
     "metadata": {},
     "output_type": "display_data"
    }
   ],
   "source": [
    "plt.plot(v.flatten(), label='volt')\n",
    "evts = np.where(s.flatten() == 1)[0]\n",
    "plt.scatter(evts, len(evts)*[1], label='spike', c='red')\n",
    "# plt.eventplot(np.where(s.flatten() == 1), lineoffsets=1, linelengths=0.2, color='red', label='spike')\n",
    "plt.legend()\n",
    "plt.show()"
   ]
  },
  {
   "cell_type": "markdown",
   "metadata": {},
   "source": [
    "### alif"
   ]
  },
  {
   "cell_type": "code",
   "execution_count": 133,
   "metadata": {},
   "outputs": [],
   "source": [
    "v_thr_eff = 1.\n",
    "alif_neuron_params = dict(\n",
    "    threshold=v_thr_eff, threshold_step=0.0, scale=4096,\n",
    "    refractory_decay=1.0,\n",
    "    current_decay=1.0,\n",
    "    voltage_decay=0.0,\n",
    "    threshold_decay=0.0,\n",
    ")\n",
    "neuron = slayer.neuron.alif.Neuron(**alif_neuron_params)\n",
    "inp = torch.Tensor([0, 0, 1, 0, 0, 1, 0, 0, 0, 0, 1, 0, 0, 0])\n",
    "s, v, thr, ref = neuron.forward(inp.reshape((1, 1, -1)), debug=True)"
   ]
  },
  {
   "cell_type": "code",
   "execution_count": 135,
   "metadata": {},
   "outputs": [
    {
     "data": {
      "image/png": "[encoded data removed]",
      "text/plain": [
       "<Figure size 640x480 with 1 Axes>"
      ]
     },
     "metadata": {},
     "output_type": "display_data"
    }
   ],
   "source": [
    "plt.plot(v.flatten(), label='volt')\n",
    "plt.plot(thr.flatten(), label='thr')\n",
    "plt.plot(ref.flatten(), label='refr')\n",
    "plt.plot(s.flatten(), label='spike')\n",
    "plt.legend()\n",
    "plt.show()"
   ]
  },
  {
   "cell_type": "markdown",
   "metadata": {},
   "source": [
    "## lava-dl testing"
   ]
  },
  {
   "cell_type": "code",
   "execution_count": 195,
   "metadata": {},
   "outputs": [
    {
     "data": {
      "text/plain": [
       "Pool(1, 1, kernel_size=(3, 3, 1), stride=(1, 1, 1), bias=False)"
      ]
     },
     "execution_count": 195,
     "metadata": {},
     "output_type": "execute_result"
    }
   ],
   "source": [
    "pool_synapse_params = dict(\n",
    "    kernel_size=(3, 3), stride=1, padding=0, dilation=1, \n",
    "    weight_scale=1, weight_norm=False, pre_hook_fx=None\n",
    ")\n",
    "conv_synapse_params = dict(\n",
    "    in_features=1, out_features=1, \n",
    "    kernel_size=(2, 2), stride=1, padding=0, dilation=1, groups=1,\n",
    "    weight_scale=1, weight_norm=False, pre_hook_fx=None\n",
    ")\n",
    "conv_block_add_params = dict(\n",
    "    delay_shift=False, delay=False, count_log=False\n",
    ")\n",
    "alif_neuron_params = dict(\n",
    "    threshold=1.0, threshold_step=1.0, current_decay=0.0, voltage_decay=0.0,\n",
    "    threshold_decay=0.0, refractory_decay=0.0, scale=4096\n",
    ")\n",
    "\n",
    "slayer.block.alif.Pool(neuron_params=alif_neuron_params, **pool_synapse_params)\n",
    "slayer.block.alif.Conv(neuron_params=alif_neuron_params, **conv_synapse_params, **conv_block_add_params)\n",
    "slayer.synapse.Conv(**conv_synapse_params)\n",
    "slayer.synapse.Pool(**pool_synapse_params)"
   ]
  },
  {
   "cell_type": "code",
   "execution_count": 196,
   "metadata": {},
   "outputs": [],
   "source": [
    "class Network(torch.nn.Module):\n",
    "    def __init__(self, block=True):\n",
    "        super(Network, self).__init__()\n",
    "        if block:\n",
    "            self.blocks = torch.nn.ModuleList([\n",
    "                slayer.block.alif.Conv(neuron_params=alif_neuron_params, **conv_synapse_params, **conv_block_add_params),\n",
    "                # slayer.block.alif.Conv(alif_neuron_params, **conv_synapse_params),\n",
    "                # slayer.block.alif.Pool(alif_neuron_params, **pool_synapse_params),\n",
    "            ])\n",
    "            self.blocks[0].synapse.weight.data = torch.ones_like(self.blocks[0].synapse.weight) * 2\n",
    "            print(self.blocks[0].synapse.weight.reshape(-1).detach())\n",
    "        else:\n",
    "            self.blocks = torch.nn.ModuleList([\n",
    "                slayer.synapse.Conv(**conv_synapse_params),\n",
    "                slayer.neuron.alif.Neuron(**alif_neuron_params),\n",
    "                # slayer.synapse.Pool(**pool_synapse_params),\n",
    "            ])\n",
    "            self.blocks[0].weight.data = torch.ones_like(self.blocks[0].weight) * 2\n",
    "            print(self.blocks[0].weight.reshape(-1).detach())\n",
    "    \n",
    "    def forward(self, spike):\n",
    "        for block in self.blocks:\n",
    "            spike = block(spike)\n",
    "        return spike"
   ]
  },
  {
   "cell_type": "code",
   "execution_count": 202,
   "metadata": {},
   "outputs": [
    {
     "name": "stdout",
     "output_type": "stream",
     "text": [
      "tensor([2., 2., 2., 2.])\n",
      "output shape: [1, 1, 9, 9, 20], sum: 405.0\n",
      "tensor([2., 2., 2., 2.])\n",
      "output shape: [1, 1, 9, 9, 20], sum: 405.0\n"
     ]
    }
   ],
   "source": [
    "for use_block in [True, False]:\n",
    "    net = Network(use_block)\n",
    "    # expects NCHWT\n",
    "    u = torch.ones((1, 1, 10, 10, 20)) * 0.02\n",
    "    y = net(u)\n",
    "    print(f'output shape: {list(y.shape)}, sum: {y.sum().item()}')"
   ]
  },
  {
   "cell_type": "markdown",
   "metadata": {},
   "source": [
    "## attempt to use lava"
   ]
  },
  {
   "cell_type": "code",
   "execution_count": null,
   "metadata": {},
   "outputs": [
    {
     "name": "stdout",
     "output_type": "stream",
     "text": [
      "IF population with threshold: 1.0\n",
      "(1, 16, 16, 16)\n",
      "IF population with threshold: 1.0\n",
      "(1, 256)\n",
      "IF population with threshold: 1.0\n",
      "(1, 10)\n",
      "IF population with threshold: 1.0\n",
      "(1, 16, 16, 16)\n",
      "IF population with threshold: 1.0\n",
      "(1, 8, 8, 8)\n"
     ]
    }
   ],
   "source": [
    "from lava.proc.lif.process import LIF\n",
    "lava_graph = {}\n",
    "\n",
    "for nkey, node in graph.nodes.items():\n",
    "    if isinstance(node, nir.ir.IF):\n",
    "        assert node.r.shape == node.v_threshold.shape\n",
    "        # NOTE: check for lava constraints\n",
    "        assert len(np.unique(node.r)) == 1, 'must have some R across population'\n",
    "        assert len(np.unique(node.v_threshold)) == 1, 'must have some Vth across population'\n",
    "        # set IF parameters\n",
    "        du = 1.0  # no dynamics on current\n",
    "        dv = 0.0  # no voltage decay\n",
    "        vth = np.unique(node.v_threshold)[0] * np.unique(node.r)[0]\n",
    "        # discretize\n",
    "        du = int(du * 4095)\n",
    "        dv = int(dv * 4095)\n",
    "        vth = int(vth * 131071) >> 9\n",
    "        vth = vth // 256  # this can also be done by scaling the weights\n",
    "        # save node into graph\n",
    "        lava_graph[nkey] = LIF(shape=node.r.shape, du=du, dv=dv, vth=vth, name=nkey)\n",
    "\n",
    "        # th, ref = slayer.neuron.dynamics.adaptive_threshold.dynamics(\n",
    "        #     voltage,                                # dynamics state\n",
    "        #     ref_state=torch.FloatTensor([0.]),      # discable - previous refractory state\n",
    "        #     ref_decay=torch.FloatTensor([scale]),   # disable - constant refractory\n",
    "        #     th_state=thr0,                          # previous threshold state\n",
    "        #     th0=thr0,                               # threshold stable state\n",
    "        #     th_decay=torch.FloatTensor([0.]),       # (doesn't matter) - threshold decay\n",
    "        #     th_scale=torch.FloatTensor([0.]),       # disable - threshold step\n",
    "        #     w_scale=scale,                          # fixed precision scaling\n",
    "        # )\n",
    "    # elif isinstance(node, nir.ir.Affine):\n",
    "        "
   ]
  },
  {
   "cell_type": "code",
   "execution_count": 49,
   "metadata": {},
   "outputs": [],
   "source": [
    "FIXED_PT = True\n",
    "\n",
    "# IF parameters\n",
    "du = 1.0\n",
    "dv = 0.0\n",
    "vth = 5.0\n",
    "\n",
    "# discretize\n",
    "if FIXED_PT:\n",
    "    du = int(du * 4095)\n",
    "    dv = int(dv * 4095)\n",
    "    vth = int(vth * 131071) >> 9\n",
    "    vth = vth // 256  # this can also be done by scaling the weights"
   ]
  },
  {
   "cell_type": "code",
   "execution_count": 50,
   "metadata": {},
   "outputs": [
    {
     "name": "stdout",
     "output_type": "stream",
     "text": [
      "scale threshold. effective: 256\n"
     ]
    }
   ],
   "source": [
    "from lava.proc.lif.process import LIF\n",
    "from lava.proc.io.source import RingBuffer\n",
    "\n",
    "ring_buffer = RingBuffer(data=np.array(10*[0, 0, 0, 1, 0, 0, 0, 0, 0]).reshape(1, -1))\n",
    "lif = LIF(\n",
    "    shape=(1,),\n",
    "    # u=0.,\n",
    "    # v=0.,\n",
    "    du=du,  # infinite current leak\n",
    "    dv=dv,  # no voltage leak\n",
    "    vth=vth,\n",
    "    # no bias\n",
    "    bias_mant=0,\n",
    "    bias_exp=0,\n",
    "    name='lif'\n",
    ")\n",
    "\n",
    "ring_buffer.s_out.connect(lif.a_in)\n",
    "\n",
    "from lava.proc.monitor.process import Monitor\n",
    "from lava.magma.core.run_conditions import RunSteps\n",
    "from lava.magma.core.run_configs import Loihi2SimCfg, Loihi1SimCfg, Loihi2HwCfg, Loihi1HwCfg\n",
    "\n",
    "n_steps = 100\n",
    "\n",
    "smon = Monitor()\n",
    "smon.probe(lif.s_out, n_steps)\n",
    "vmon = Monitor()\n",
    "vmon.probe(lif.v, n_steps)\n",
    "umon = Monitor()\n",
    "umon.probe(lif.u, n_steps)\n",
    "\n",
    "tag = \"fixed_pt\" if FIXED_PT else \"floating_pt\"\n",
    "run_cfg = Loihi2SimCfg(select_tag=tag)\n",
    "lif.run(condition=RunSteps(num_steps=n_steps), run_cfg=run_cfg)"
   ]
  },
  {
   "cell_type": "code",
   "execution_count": 51,
   "metadata": {},
   "outputs": [
    {
     "data": {
      "image/png": "[encoded data removed]",
      "text/plain": [
       "<Figure size 640x480 with 2 Axes>"
      ]
     },
     "metadata": {},
     "output_type": "display_data"
    }
   ],
   "source": [
    "# plt.plot(vmon.get_data()['lif.v'])\n",
    "import matplotlib.pyplot as plt\n",
    "\n",
    "fig, axs = plt.subplots(2, 1, sharex=True)\n",
    "vmon.plot(axs[0], lif.v)\n",
    "umon.plot(axs[1], lif.u)\n",
    "plt.tight_layout()"
   ]
  },
  {
   "cell_type": "code",
   "execution_count": null,
   "metadata": {},
   "outputs": [],
   "source": []
  }
 ],
 "metadata": {
  "kernelspec": {
   "display_name": ".venv",
   "language": "python",
   "name": "python3"
  },
  "language_info": {
   "codemirror_mode": {
    "name": "ipython",
    "version": 3
   },
   "file_extension": ".py",
   "mimetype": "text/x-python",
   "name": "python",
   "nbconvert_exporter": "python",
   "pygments_lexer": "ipython3",
   "version": "3.10.12"
  },
  "orig_nbformat": 4
 },
 "nbformat": 4,
 "nbformat_minor": 2
}
