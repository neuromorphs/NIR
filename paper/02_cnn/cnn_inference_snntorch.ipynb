{
 "cells": [
  {
   "cell_type": "code",
   "execution_count": 1,
   "metadata": {},
   "outputs": [],
   "source": [
    "import torch\n",
    "import torch.nn as nn\n",
    "import snntorch as snn\n",
    "import numpy as np\n",
    "from snntorch import import_nirtorch\n",
    "import nir\n"
   ]
  },
  {
   "cell_type": "code",
   "execution_count": 2,
   "metadata": {},
   "outputs": [
    {
     "data": {
      "text/plain": [
       "dict_keys(['0', '1', '10', '11', '12', '2', '3', '4', '5', '6', '7', '8', '9', 'input', 'output'])"
      ]
     },
     "execution_count": 2,
     "metadata": {},
     "output_type": "execute_result"
    }
   ],
   "source": [
    "graph = nir.read(\"scnn_mnist.nir\")\n",
    "graph.nodes.keys()"
   ]
  },
  {
   "cell_type": "code",
   "execution_count": 3,
   "metadata": {},
   "outputs": [
    {
     "name": "stdout",
     "output_type": "stream",
     "text": [
      "replace rnn subgraph with nirgraph\n"
     ]
    }
   ],
   "source": [
    "net = import_nirtorch.from_nir(graph)"
   ]
  },
  {
   "cell_type": "code",
   "execution_count": 4,
   "metadata": {},
   "outputs": [
    {
     "data": {
      "text/plain": [
       "GraphExecutor(\n",
       "  (0): Conv2d(2, 16, kernel_size=(5, 5), stride=(2, 2), padding=(1, 1))\n",
       "  (1): Leaky()\n",
       "  (10): Leaky()\n",
       "  (11): Linear(in_features=256, out_features=10, bias=True)\n",
       "  (12): Leaky()\n",
       "  (2): Conv2d(16, 16, kernel_size=(3, 3), stride=(1, 1), padding=(1, 1))\n",
       "  (3): Leaky()\n",
       "  (4): AvgPool2d(kernel_size=(2, 2), stride=(2, 2), padding=(0, 0))\n",
       "  (5): Conv2d(16, 8, kernel_size=(3, 3), stride=(1, 1), padding=(1, 1))\n",
       "  (6): Leaky()\n",
       "  (7): AvgPool2d(kernel_size=(2, 2), stride=(2, 2), padding=(0, 0))\n",
       "  (8): Flatten(start_dim=1, end_dim=-1)\n",
       "  (9): Linear(in_features=128, out_features=256, bias=True)\n",
       "  (input): Identity()\n",
       "  (output): Identity()\n",
       ")"
      ]
     },
     "execution_count": 4,
     "metadata": {},
     "output_type": "execute_result"
    }
   ],
   "source": [
    "net"
   ]
  },
  {
   "cell_type": "code",
   "execution_count": 5,
   "metadata": {},
   "outputs": [
    {
     "data": {
      "text/plain": [
       "torch.Size([300, 10, 2, 34, 34])"
      ]
     },
     "execution_count": 5,
     "metadata": {},
     "output_type": "execute_result"
    }
   ],
   "source": [
    "inp_data = torch.from_numpy(np.load(\"val_numbers.npy\")).float()\n",
    "inp_data.shape"
   ]
  },
  {
   "cell_type": "code",
   "execution_count": null,
   "metadata": {},
   "outputs": [],
   "source": []
  },
  {
   "cell_type": "code",
   "execution_count": 6,
   "metadata": {},
   "outputs": [],
   "source": [
    "modules = [e.elem for e in net.get_execution_order()]"
   ]
  },
  {
   "cell_type": "code",
   "execution_count": 9,
   "metadata": {},
   "outputs": [],
   "source": [
    "# init all I&F neurons\n",
    "mem_dict = {}\n",
    "for idx, module in enumerate(modules):\n",
    "  if isinstance(module, snn.Leaky):\n",
    "    mem_dict[idx] = module.init_leaky()\n",
    "\n",
    "out = []\n",
    "for t in range(inp_data.shape[0]):\n",
    "  x = inp_data[t]\n",
    "  for idx, module in enumerate(modules):\n",
    "    if isinstance(module, snn.Leaky):\n",
    "      x, mem_dict[idx] = module(x, mem_dict[idx])\n",
    "    else:\n",
    "      x = module(x)\n",
    "  out.append(x)\n",
    "out = torch.stack(out).detach()"
   ]
  },
  {
   "cell_type": "code",
   "execution_count": 8,
   "metadata": {},
   "outputs": [],
   "source": [
    "np.save(\"snnTorch_activity.npy\", out.numpy())"
   ]
  }
 ],
 "metadata": {
  "kernelspec": {
   "display_name": ".venv",
   "language": "python",
   "name": "python3"
  },
  "language_info": {
   "codemirror_mode": {
    "name": "ipython",
    "version": 3
   },
   "file_extension": ".py",
   "mimetype": "text/x-python",
   "name": "python",
   "nbconvert_exporter": "python",
   "pygments_lexer": "ipython3",
   "version": "3.8.10"
  },
  "orig_nbformat": 4
 },
 "nbformat": 4,
 "nbformat_minor": 2
}
