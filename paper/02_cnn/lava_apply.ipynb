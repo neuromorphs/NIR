{
 "cells": [
  {
   "cell_type": "code",
   "execution_count": 1,
   "metadata": {},
   "outputs": [],
   "source": [
    "\n",
    "import lava.lib.dl.slayer as slayer\n",
    "import matplotlib.pyplot as plt\n",
    "import numpy as np\n",
    "import nir\n",
    "import norse\n",
    "import tonic\n",
    "import torch\n",
    "import tqdm\n",
    "import importlib\n",
    "import lava_cnn_reader\n",
    "importlib.reload(lava_cnn_reader);"
   ]
  },
  {
   "cell_type": "code",
   "execution_count": 2,
   "metadata": {},
   "outputs": [],
   "source": [
    "\n",
    "bs = 128\n",
    "collate = tonic.collation.PadTensors(batch_first=False)\n",
    "to_frame = tonic.transforms.ToFrame(sensor_size=tonic.datasets.NMNIST.sensor_size, time_window=1e3)\n",
    "test_ds = tonic.datasets.NMNIST(\"./nmnist\", transform=to_frame, train=False)\n",
    "test_dl = torch.utils.data.DataLoader(test_ds, shuffle=True, batch_size=bs, collate_fn=collate)"
   ]
  },
  {
   "cell_type": "code",
   "execution_count": 3,
   "metadata": {},
   "outputs": [],
   "source": [
    "graph = nir.read('scnn_mnist.nir')\n",
    "norse_graph = norse.torch.from_nir(graph)\n",
    "children = list(norse_graph.children())\n",
    "net = lava_cnn_reader.nir_to_lava_dl(graph)"
   ]
  },
  {
   "cell_type": "code",
   "execution_count": 11,
   "metadata": {},
   "outputs": [
    {
     "name": "stdout",
     "output_type": "stream",
     "text": [
      "block 00: Conv       Conv2d    \n",
      "x_lava torch.Size([1, 2, 34, 34, 306]) x_norse torch.Size([306, 2, 34, 34])\n",
      "torch.Size([1, 16, 16, 16, 306]) torch.Size([306, 16, 16, 16])\n",
      "block 01: Neuron     IAFCell   \n",
      "torch.Size([1, 16, 16, 16, 306]) torch.Size([4896, 16, 16])\n",
      "block 02: Conv       Conv2d    \n"
     ]
    },
    {
     "ename": "RuntimeError",
     "evalue": "Given groups=1, weight of size [16, 16, 3, 3], expected input[1, 4896, 16, 16] to have 16 channels, but got 4896 channels instead",
     "output_type": "error",
     "traceback": [
      "\u001b[0;31m---------------------------------------------------------------------------\u001b[0m",
      "\u001b[0;31mRuntimeError\u001b[0m                              Traceback (most recent call last)",
      "\u001b[1;32m/home/jens/work/nir/nir/paper/02_cnn/lava_apply.ipynb Cell 4\u001b[0m line \u001b[0;36m4\n\u001b[1;32m     <a href='vscode-notebook-cell://ssh-remote%2Bhugin/home/jens/work/nir/nir/paper/02_cnn/lava_apply.ipynb#W2sdnNjb2RlLXJlbW90ZQ%3D%3D?line=42'>43</a>\u001b[0m     norse_hidden[idx] \u001b[39m=\u001b[39m torch\u001b[39m.\u001b[39mconcat([v\u001b[39m.\u001b[39mv \u001b[39mfor\u001b[39;00m v \u001b[39min\u001b[39;00m vs], dim\u001b[39m=\u001b[39m\u001b[39m0\u001b[39m)\n\u001b[1;32m     <a href='vscode-notebook-cell://ssh-remote%2Bhugin/home/jens/work/nir/nir/paper/02_cnn/lava_apply.ipynb#W2sdnNjb2RlLXJlbW90ZQ%3D%3D?line=43'>44</a>\u001b[0m \u001b[39melse\u001b[39;00m:\n\u001b[0;32m---> <a href='vscode-notebook-cell://ssh-remote%2Bhugin/home/jens/work/nir/nir/paper/02_cnn/lava_apply.ipynb#W2sdnNjb2RlLXJlbW90ZQ%3D%3D?line=44'>45</a>\u001b[0m     norse_outputs[idx] \u001b[39m=\u001b[39m norseblock(x)\n\u001b[1;32m     <a href='vscode-notebook-cell://ssh-remote%2Bhugin/home/jens/work/nir/nir/paper/02_cnn/lava_apply.ipynb#W2sdnNjb2RlLXJlbW90ZQ%3D%3D?line=45'>46</a>\u001b[0m \u001b[39mif\u001b[39;00m \u001b[39misinstance\u001b[39m(x, \u001b[39mtuple\u001b[39m):\n\u001b[1;32m     <a href='vscode-notebook-cell://ssh-remote%2Bhugin/home/jens/work/nir/nir/paper/02_cnn/lava_apply.ipynb#W2sdnNjb2RlLXJlbW90ZQ%3D%3D?line=46'>47</a>\u001b[0m     \u001b[39mprint\u001b[39m(x)\n",
      "File \u001b[0;32m~/work/nir/nir/.venv/lib/python3.10/site-packages/torch/nn/modules/module.py:1194\u001b[0m, in \u001b[0;36mModule._call_impl\u001b[0;34m(self, *input, **kwargs)\u001b[0m\n\u001b[1;32m   1190\u001b[0m \u001b[39m# If we don't have any hooks, we want to skip the rest of the logic in\u001b[39;00m\n\u001b[1;32m   1191\u001b[0m \u001b[39m# this function, and just call forward.\u001b[39;00m\n\u001b[1;32m   1192\u001b[0m \u001b[39mif\u001b[39;00m \u001b[39mnot\u001b[39;00m (\u001b[39mself\u001b[39m\u001b[39m.\u001b[39m_backward_hooks \u001b[39mor\u001b[39;00m \u001b[39mself\u001b[39m\u001b[39m.\u001b[39m_forward_hooks \u001b[39mor\u001b[39;00m \u001b[39mself\u001b[39m\u001b[39m.\u001b[39m_forward_pre_hooks \u001b[39mor\u001b[39;00m _global_backward_hooks\n\u001b[1;32m   1193\u001b[0m         \u001b[39mor\u001b[39;00m _global_forward_hooks \u001b[39mor\u001b[39;00m _global_forward_pre_hooks):\n\u001b[0;32m-> 1194\u001b[0m     \u001b[39mreturn\u001b[39;00m forward_call(\u001b[39m*\u001b[39;49m\u001b[39minput\u001b[39;49m, \u001b[39m*\u001b[39;49m\u001b[39m*\u001b[39;49mkwargs)\n\u001b[1;32m   1195\u001b[0m \u001b[39m# Do not call functions when jit is used\u001b[39;00m\n\u001b[1;32m   1196\u001b[0m full_backward_hooks, non_full_backward_hooks \u001b[39m=\u001b[39m [], []\n",
      "File \u001b[0;32m~/work/nir/nir/.venv/lib/python3.10/site-packages/torch/nn/modules/conv.py:463\u001b[0m, in \u001b[0;36mConv2d.forward\u001b[0;34m(self, input)\u001b[0m\n\u001b[1;32m    462\u001b[0m \u001b[39mdef\u001b[39;00m \u001b[39mforward\u001b[39m(\u001b[39mself\u001b[39m, \u001b[39minput\u001b[39m: Tensor) \u001b[39m-\u001b[39m\u001b[39m>\u001b[39m Tensor:\n\u001b[0;32m--> 463\u001b[0m     \u001b[39mreturn\u001b[39;00m \u001b[39mself\u001b[39;49m\u001b[39m.\u001b[39;49m_conv_forward(\u001b[39minput\u001b[39;49m, \u001b[39mself\u001b[39;49m\u001b[39m.\u001b[39;49mweight, \u001b[39mself\u001b[39;49m\u001b[39m.\u001b[39;49mbias)\n",
      "File \u001b[0;32m~/work/nir/nir/.venv/lib/python3.10/site-packages/torch/nn/modules/conv.py:459\u001b[0m, in \u001b[0;36mConv2d._conv_forward\u001b[0;34m(self, input, weight, bias)\u001b[0m\n\u001b[1;32m    455\u001b[0m \u001b[39mif\u001b[39;00m \u001b[39mself\u001b[39m\u001b[39m.\u001b[39mpadding_mode \u001b[39m!=\u001b[39m \u001b[39m'\u001b[39m\u001b[39mzeros\u001b[39m\u001b[39m'\u001b[39m:\n\u001b[1;32m    456\u001b[0m     \u001b[39mreturn\u001b[39;00m F\u001b[39m.\u001b[39mconv2d(F\u001b[39m.\u001b[39mpad(\u001b[39minput\u001b[39m, \u001b[39mself\u001b[39m\u001b[39m.\u001b[39m_reversed_padding_repeated_twice, mode\u001b[39m=\u001b[39m\u001b[39mself\u001b[39m\u001b[39m.\u001b[39mpadding_mode),\n\u001b[1;32m    457\u001b[0m                     weight, bias, \u001b[39mself\u001b[39m\u001b[39m.\u001b[39mstride,\n\u001b[1;32m    458\u001b[0m                     _pair(\u001b[39m0\u001b[39m), \u001b[39mself\u001b[39m\u001b[39m.\u001b[39mdilation, \u001b[39mself\u001b[39m\u001b[39m.\u001b[39mgroups)\n\u001b[0;32m--> 459\u001b[0m \u001b[39mreturn\u001b[39;00m F\u001b[39m.\u001b[39;49mconv2d(\u001b[39minput\u001b[39;49m, weight, bias, \u001b[39mself\u001b[39;49m\u001b[39m.\u001b[39;49mstride,\n\u001b[1;32m    460\u001b[0m                 \u001b[39mself\u001b[39;49m\u001b[39m.\u001b[39;49mpadding, \u001b[39mself\u001b[39;49m\u001b[39m.\u001b[39;49mdilation, \u001b[39mself\u001b[39;49m\u001b[39m.\u001b[39;49mgroups)\n",
      "\u001b[0;31mRuntimeError\u001b[0m: Given groups=1, weight of size [16, 16, 3, 3], expected input[1, 4896, 16, 16] to have 16 channels, but got 4896 channels instead"
     ]
    }
   ],
   "source": [
    "lens = [len(net.blocks), len(children)]\n",
    "# assert lens[0] == lens[1]\n",
    "\n",
    "sample_idx = 9020\n",
    "inp = test_ds[sample_idx][0]\n",
    "lbl = test_ds[sample_idx][1]\n",
    "\n",
    "lava_outputs = {}\n",
    "lava_hidden = {}\n",
    "norse_outputs = {}\n",
    "norse_hidden = {}\n",
    "for idx in range(lens[0]):\n",
    "    lavablock = net.blocks[idx]\n",
    "    norseblock = children[[0, 1, 5, 6, 7, 8, 9, 10, 11, 12, 2, 3, 4][idx]]\n",
    "    print(f'block {idx:02}: {type(lavablock).__name__:10} {type(norseblock).__name__:10}')\n",
    "\n",
    "    if idx == 0:\n",
    "        x_lava = torch.Tensor(inp).moveaxis(0, -1).unsqueeze(0)\n",
    "        x_norse = torch.Tensor(inp)\n",
    "        print('x_lava', x_lava.shape, 'x_norse', x_norse.shape)\n",
    "\n",
    "    # lava forward pass\n",
    "    x = lava_outputs[idx-1] if idx > 0 else x_lava\n",
    "    if isinstance(lavablock, slayer.neuron.cuba.Neuron):\n",
    "        out = lavablock.forward(x)\n",
    "        if isinstance(out, tuple):\n",
    "            lava_outputs[idx], lava_hidden[idx] = out\n",
    "        else:\n",
    "            lava_outputs[idx] = out\n",
    "        assert torch.allclose(lava_outputs[idx].detach(), lavablock(x).detach())\n",
    "    else:\n",
    "        lava_outputs[idx] = lavablock(x)\n",
    "\n",
    "    print(lava_outputs[idx].shape)\n",
    "    # print(f'block {idx:02}: {type(lavablock)} {type(norseblock)}')\n",
    "\n",
    "    #print('close:', torch.allclose(lava_outputs[idx].squeeze(0).moveaxis(-1, 0), norse_outputs[idx], atol=1e-5, rtol=1e-5))"
   ]
  },
  {
   "cell_type": "code",
   "execution_count": null,
   "metadata": {},
   "outputs": [],
   "source": []
  },
  {
   "cell_type": "code",
   "execution_count": null,
   "metadata": {},
   "outputs": [],
   "source": []
  }
 ],
 "metadata": {
  "kernelspec": {
   "display_name": ".venv",
   "language": "python",
   "name": "python3"
  },
  "language_info": {
   "codemirror_mode": {
    "name": "ipython",
    "version": 3
   },
   "file_extension": ".py",
   "mimetype": "text/x-python",
   "name": "python",
   "nbconvert_exporter": "python",
   "pygments_lexer": "ipython3",
   "version": "3.10.12"
  },
  "orig_nbformat": 4
 },
 "nbformat": 4,
 "nbformat_minor": 2
}
