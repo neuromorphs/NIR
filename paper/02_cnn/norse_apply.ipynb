{
 "cells": [
  {
   "cell_type": "code",
   "execution_count": 1,
   "metadata": {},
   "outputs": [],
   "source": [
    "import torch\n",
    "import tonic\n",
    "import norse\n",
    "import nir\n",
    "import numpy as np\n",
    "from collections import defaultdict\n",
    "import tqdm"
   ]
  },
  {
   "cell_type": "code",
   "execution_count": 2,
   "metadata": {},
   "outputs": [
    {
     "data": {
      "text/plain": [
       "{'0': nir.ir.Conv2d,\n",
       " '1': nir.ir.IF,\n",
       " '10': nir.ir.IF,\n",
       " '11': nir.ir.Affine,\n",
       " '12': nir.ir.IF,\n",
       " '2': nir.ir.Conv2d,\n",
       " '3': nir.ir.IF,\n",
       " '4': nir.ir.SumPool2d,\n",
       " '5': nir.ir.Conv2d,\n",
       " '6': nir.ir.IF,\n",
       " '7': nir.ir.SumPool2d,\n",
       " '8': nir.ir.Flatten,\n",
       " '9': nir.ir.Affine,\n",
       " 'input': nir.ir.Input,\n",
       " 'output': nir.ir.Output}"
      ]
     },
     "execution_count": 2,
     "metadata": {},
     "output_type": "execute_result"
    }
   ],
   "source": [
    "nir_graph = nir.read(\"scnn_mnist.nir\")\n",
    "{k: type(v) for k, v in nir_graph.nodes.items()}"
   ]
  },
  {
   "cell_type": "code",
   "execution_count": 19,
   "metadata": {},
   "outputs": [],
   "source": [
    "g = norse.torch.from_nir(nir_graph)\n",
    "children = list(g.children())"
   ]
  },
  {
   "cell_type": "code",
   "execution_count": 23,
   "metadata": {},
   "outputs": [
    {
     "name": "stdout",
     "output_type": "stream",
     "text": [
      "Downloading https://prod-dcd-datasets-public-files-eu-west-1.s3.eu-west-1.amazonaws.com/a99d0fee-a95b-4231-ad22-988fdb0a2411 to ./NMNIST/test.zip\n"
     ]
    },
    {
     "data": {
      "application/vnd.jupyter.widget-view+json": {
       "model_id": "615d78abb60d4a76b3029bf6e493fd8b",
       "version_major": 2,
       "version_minor": 0
      },
      "text/plain": [
       "  0%|          | 0/169674850 [00:00<?, ?it/s]"
      ]
     },
     "metadata": {},
     "output_type": "display_data"
    },
    {
     "name": "stdout",
     "output_type": "stream",
     "text": [
      "Extracting ./NMNIST/test.zip to ./NMNIST\n"
     ]
    }
   ],
   "source": [
    "to_frame = tonic.transforms.ToFrame(sensor_size=tonic.datasets.NMNIST.sensor_size, time_window = 1e3)\n",
    "dataset = tonic.datasets.NMNIST(\".\", transform=to_frame, train=False)\n",
    "loader = torch.utils.data.DataLoader(dataset, shuffle=True, batch_size=10, collate_fn=tonic.collation.PadTensors(batch_first=False))"
   ]
  },
  {
   "cell_type": "code",
   "execution_count": 24,
   "metadata": {},
   "outputs": [],
   "source": [
    "def evaluate(xs):\n",
    "    out = torch.zeros(10)\n",
    "    states = defaultdict(lambda: None)\n",
    "    for x in xs:\n",
    "        for i in [0, 1, 5, 6, 7, 8, 9, 10, 11, 12, 2, 3, 4]:\n",
    "            module = children[i]\n",
    "            if isinstance(module, norse.torch.IAFCell):\n",
    "                x, states[i] = module(x, states[i])\n",
    "            else:\n",
    "                x = module(x)\n",
    "            if isinstance(x, tuple):\n",
    "                x = x[0]\n",
    "        out = out + x\n",
    "    return out / len(xs)"
   ]
  },
  {
   "cell_type": "code",
   "execution_count": null,
   "metadata": {},
   "outputs": [
    {
     "name": "stderr",
     "output_type": "stream",
     "text": [
      "  0%|▌                                                                                                     | 5/1000 [00:02<07:04,  2.34it/s]"
     ]
    }
   ],
   "source": [
    "losses = []\n",
    "accuracies = []\n",
    "with torch.no_grad():\n",
    "    for batch in tqdm.tqdm(loader):\n",
    "        x, y = batch\n",
    "        pred = evaluate(x)\n",
    "        acc = pred.argmax(1) == y\n",
    "        accuracies.append(acc)\n",
    "        loss = torch.nn.functional.cross_entropy(pred, y)\n",
    "        losses.append(loss)\n",
    "print(torch.stack(losses).mean())"
   ]
  },
  {
   "cell_type": "code",
   "execution_count": 120,
   "metadata": {},
   "outputs": [
    {
     "data": {
      "text/plain": [
       "tensor(0.9804)"
      ]
     },
     "execution_count": 120,
     "metadata": {},
     "output_type": "execute_result"
    }
   ],
   "source": [
    "acc_tensor = torch.stack(accuracies).flatten()\n",
    "acc_tensor.sum() / len(acc_tensor)"
   ]
  },
  {
   "cell_type": "code",
   "execution_count": 122,
   "metadata": {},
   "outputs": [],
   "source": [
    "np.save(\"norse_acc.npy\", (acc_tensor.sum() / len(acc_tensor)).numpy())"
   ]
  }
 ],
 "metadata": {
  "kernelspec": {
   "display_name": "Python 3 (ipykernel)",
   "language": "python",
   "name": "python3"
  },
  "language_info": {
   "codemirror_mode": {
    "name": "ipython",
    "version": 3
   },
   "file_extension": ".py",
   "mimetype": "text/x-python",
   "name": "python",
   "nbconvert_exporter": "python",
   "pygments_lexer": "ipython3",
   "version": "3.10.12"
  }
 },
 "nbformat": 4,
 "nbformat_minor": 4
}
