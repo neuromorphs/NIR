{
 "cells": [
  {
   "cell_type": "code",
   "execution_count": 1,
   "id": "5e25d964",
   "metadata": {},
   "outputs": [],
   "source": [
    "import spyx\n",
    "import spyx.nn as snn\n",
    "\n",
    "import jax\n",
    "import jax.numpy as jnp\n",
    "import numpy as np\n",
    "\n",
    "import nir\n",
    "\n",
    "import matplotlib.pyplot as plt"
   ]
  },
  {
   "cell_type": "code",
   "execution_count": 2,
   "id": "68de6a32",
   "metadata": {},
   "outputs": [],
   "source": [
    "input_data = jnp.transpose(jnp.array(np.load(\"val_numbers.npy\"), dtype=jnp.float32), axes=(1,0,2,3,4))"
   ]
  },
  {
   "cell_type": "code",
   "execution_count": 3,
   "id": "4d292d71",
   "metadata": {},
   "outputs": [
    {
     "data": {
      "text/plain": [
       "(10, 300, 2, 34, 34)"
      ]
     },
     "execution_count": 3,
     "metadata": {},
     "output_type": "execute_result"
    }
   ],
   "source": [
    "input_data.shape # had to transpose data because it's stored in time-major format..."
   ]
  },
  {
   "cell_type": "code",
   "execution_count": 4,
   "id": "026f463d",
   "metadata": {},
   "outputs": [],
   "source": [
    "ng = nir.read(\"scnn_mnist.nir\")"
   ]
  },
  {
   "cell_type": "code",
   "execution_count": 16,
   "id": "845e5507",
   "metadata": {},
   "outputs": [],
   "source": [
    "layers_to_grab = [\"input\", \"0\", \"1\", \"output\"]\n",
    "new_nodes = {k:ng.nodes[k] for k in layers_to_grab}\n",
    "new_edges = [(\"input\", \"0\"), (\"0\",\"1\"), (\"1\", \"output\")]\n",
    "first_conv = nir.NIRGraph(new_nodes, new_edges)\n",
    "first_conv.nodes[\"output\"].output_type[\"output\"] = np.array([16,16,16])"
   ]
  },
  {
   "cell_type": "code",
   "execution_count": 19,
   "id": "a1f86915",
   "metadata": {
    "scrolled": true
   },
   "outputs": [],
   "source": [
    "fl_SNN, fl_params = spyx.nir.from_nir(first_conv, input_data, dt=1, return_all_states=True)"
   ]
  },
  {
   "cell_type": "code",
   "execution_count": 43,
   "id": "5717dec9",
   "metadata": {},
   "outputs": [],
   "source": [
    "output_spikes, membrane_potentials = fl_SNN.apply(fl_params, input_data)"
   ]
  },
  {
   "cell_type": "code",
   "execution_count": 48,
   "id": "bbb8b6d9",
   "metadata": {},
   "outputs": [
    {
     "data": {
      "text/plain": [
       "(300, 10, 16, 16, 16)"
      ]
     },
     "execution_count": 48,
     "metadata": {},
     "output_type": "execute_result"
    }
   ],
   "source": [
    "save_data = np.array(jnp.transpose(output_spikes, (1,0,2,3,4)))\n",
    "save_data.shape"
   ]
  },
  {
   "cell_type": "code",
   "execution_count": 31,
   "id": "6f495c2b",
   "metadata": {},
   "outputs": [],
   "source": [
    "spyx_act = jnp.sum(output_spikes[0], axis=0)"
   ]
  },
  {
   "cell_type": "code",
   "execution_count": 32,
   "id": "ecc4157b",
   "metadata": {},
   "outputs": [
    {
     "data": {
      "text/plain": [
       "(16, 16, 16)"
      ]
     },
     "execution_count": 32,
     "metadata": {},
     "output_type": "execute_result"
    }
   ],
   "source": [
    "spyx_act.shape"
   ]
  },
  {
   "cell_type": "code",
   "execution_count": 42,
   "id": "a963bd17",
   "metadata": {},
   "outputs": [
    {
     "data": {
      "image/png": "[encoded data removed]",
      "text/plain": [
       "<Figure size 432x288 with 2 Axes>"
      ]
     },
     "metadata": {
      "needs_background": "light"
     },
     "output_type": "display_data"
    }
   ],
   "source": [
    "plt.imshow(jnp.sum(spyx_act, axis=(0)))\n",
    "plt.colorbar()\n",
    "plt.title(\"Spyx SCNN Spiking, first Conv+IF Layer\")\n",
    "plt.show()"
   ]
  },
  {
   "cell_type": "code",
   "execution_count": 36,
   "id": "6b9c6ac1",
   "metadata": {},
   "outputs": [],
   "source": [
    "import numpy as np\n",
    "\n",
    "snntorch_act = np.sum(np.load(\"./snnTorch_activity.npy\", \"r\"), axis=0)"
   ]
  },
  {
   "cell_type": "code",
   "execution_count": 37,
   "id": "0e170006",
   "metadata": {},
   "outputs": [
    {
     "data": {
      "image/png": "[encoded data removed]",
      "text/plain": [
       "<Figure size 432x288 with 2 Axes>"
      ]
     },
     "metadata": {
      "needs_background": "light"
     },
     "output_type": "display_data"
    }
   ],
   "source": [
    "plt.imshow(jnp.sum(snntorch_act[0], axis=(0)))\n",
    "plt.colorbar()\n",
    "plt.title(\"snnTorch SCNN First Conv+IF Layer\")\n",
    "plt.show()"
   ]
  },
  {
   "cell_type": "code",
   "execution_count": 38,
   "id": "129edd80",
   "metadata": {},
   "outputs": [],
   "source": [
    "def cosine_similarity(vector1, vector2):\n",
    "    # Compute the dot product of the two vectors\n",
    "    dot_product = jnp.dot(vector1, vector2)\n",
    "\n",
    "    # Compute the magnitude (L2 norm) of each vector\n",
    "    magnitude1 = jnp.linalg.norm(vector1)\n",
    "    magnitude2 = jnp.linalg.norm(vector2)\n",
    "\n",
    "    # Compute the cosine similarity\n",
    "    similarity = dot_product / (magnitude1 * magnitude2)\n",
    "\n",
    "    return similarity"
   ]
  },
  {
   "cell_type": "code",
   "execution_count": 41,
   "id": "4ba928f5",
   "metadata": {},
   "outputs": [
    {
     "data": {
      "text/plain": [
       "Array(0.9865636, dtype=float32)"
      ]
     },
     "execution_count": 41,
     "metadata": {},
     "output_type": "execute_result"
    }
   ],
   "source": [
    "cosine_similarity(jnp.sum(spyx_act, 0).flatten(), jnp.sum(snntorch_act[0], 0).flatten())"
   ]
  },
  {
   "cell_type": "code",
   "execution_count": 50,
   "id": "4126e519",
   "metadata": {},
   "outputs": [],
   "source": [
    "np.save(\"spyx_activity.npy\", save_data)"
   ]
  },
  {
   "cell_type": "markdown",
   "id": "48ca7cc4",
   "metadata": {},
   "source": [
    "## Inference Accuracy"
   ]
  },
  {
   "cell_type": "code",
   "execution_count": 51,
   "id": "01a6f0b9",
   "metadata": {},
   "outputs": [
    {
     "name": "stdout",
     "output_type": "stream",
     "text": [
      "Downloading https://prod-dcd-datasets-public-files-eu-west-1.s3.eu-west-1.amazonaws.com/a99d0fee-a95b-4231-ad22-988fdb0a2411 to ./nmnist/NMNIST/test.zip\n"
     ]
    },
    {
     "data": {
      "application/vnd.jupyter.widget-view+json": {
       "model_id": "ebe3f50cfc5b499d9310e0a3e10ddda8",
       "version_major": 2,
       "version_minor": 0
      },
      "text/plain": [
       "  0%|          | 0/169674850 [00:00<?, ?it/s]"
      ]
     },
     "metadata": {},
     "output_type": "display_data"
    },
    {
     "name": "stdout",
     "output_type": "stream",
     "text": [
      "Extracting ./nmnist/NMNIST/test.zip to ./nmnist/NMNIST\n"
     ]
    }
   ],
   "source": [
    "import tonic\n",
    "import torch\n",
    "\n",
    "bs = 128\n",
    "collate = tonic.collation.PadTensors(batch_first=False)\n",
    "to_frame = tonic.transforms.ToFrame(sensor_size=tonic.datasets.NMNIST.sensor_size, time_window=1e3)\n",
    "test_ds = tonic.datasets.NMNIST(\"./nmnist\", transform=to_frame, train=False)\n",
    "test_dl = torch.utils.data.DataLoader(test_ds, shuffle=True, batch_size=bs, collate_fn=collate)\n"
   ]
  },
  {
   "cell_type": "code",
   "execution_count": 53,
   "id": "dd1a7d38",
   "metadata": {},
   "outputs": [],
   "source": [
    "SNN, params = spyx.nir.from_nir(ng, input_data, dt=1)"
   ]
  },
  {
   "cell_type": "code",
   "execution_count": 59,
   "id": "907a68e1",
   "metadata": {},
   "outputs": [],
   "source": [
    "accs = []\n",
    "for (x, y) in test_dl:\n",
    "    x = jnp.transpose(jnp.array(x), (1,0,2,3,4))\n",
    "    spikes, V = SNN.apply(params, x)\n",
    "    acc, preds = spyx.fn.integral_accuracy(spikes, jnp.array(y))\n",
    "    accs.append(acc)"
   ]
  },
  {
   "cell_type": "code",
   "execution_count": 63,
   "id": "d0b3daba",
   "metadata": {},
   "outputs": [
    {
     "data": {
      "text/plain": [
       "0.9712223"
      ]
     },
     "execution_count": 63,
     "metadata": {},
     "output_type": "execute_result"
    }
   ],
   "source": [
    "final_acc = np.mean(np.array(accs))\n",
    "final_acc"
   ]
  },
  {
   "cell_type": "code",
   "execution_count": 64,
   "id": "8b77c012",
   "metadata": {},
   "outputs": [],
   "source": [
    "np.save(\"spyx_accuracy.npy\", final_acc)"
   ]
  }
 ],
 "metadata": {
  "kernelspec": {
   "display_name": "Python 3 (ipykernel)",
   "language": "python",
   "name": "python3"
  },
  "language_info": {
   "codemirror_mode": {
    "name": "ipython",
    "version": 3
   },
   "file_extension": ".py",
   "mimetype": "text/x-python",
   "name": "python",
   "nbconvert_exporter": "python",
   "pygments_lexer": "ipython3",
   "version": "3.10.12"
  }
 },
 "nbformat": 4,
 "nbformat_minor": 5
}
