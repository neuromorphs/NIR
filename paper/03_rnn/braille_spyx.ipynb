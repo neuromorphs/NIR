{
 "cells": [
  {
   "cell_type": "code",
   "execution_count": 1,
   "id": "b256e6d3",
   "metadata": {},
   "outputs": [],
   "source": [
    "import spyx\n",
    "import spyx.nn as snn\n",
    "\n",
    "import jax\n",
    "import jax.numpy as jnp\n",
    "import numpy as np\n",
    "\n",
    "import nir\n",
    "# for loading dataset\n",
    "import torch\n",
    "\n",
    "import matplotlib.pyplot as plt"
   ]
  },
  {
   "cell_type": "code",
   "execution_count": 2,
   "id": "6cab3896",
   "metadata": {},
   "outputs": [],
   "source": [
    "ng = nir.read(\"braille_noDelay_noBias_subtract_subgraph.nir\")"
   ]
  },
  {
   "cell_type": "code",
   "execution_count": 3,
   "id": "e47b4a4c",
   "metadata": {},
   "outputs": [],
   "source": [
    "data = torch.load(\"ds_test.pt\")"
   ]
  },
  {
   "cell_type": "code",
   "execution_count": 4,
   "id": "28708916",
   "metadata": {},
   "outputs": [],
   "source": [
    "x, y = data.tensors"
   ]
  },
  {
   "cell_type": "code",
   "execution_count": 5,
   "id": "56fd624a",
   "metadata": {},
   "outputs": [],
   "source": [
    "x = jnp.array(x)"
   ]
  },
  {
   "cell_type": "code",
   "execution_count": 6,
   "id": "aa50f16d",
   "metadata": {},
   "outputs": [],
   "source": [
    "y = jnp.array(y)"
   ]
  },
  {
   "cell_type": "code",
   "execution_count": 7,
   "id": "89122ee8",
   "metadata": {},
   "outputs": [
    {
     "data": {
      "text/plain": [
       "(140, 256, 12)"
      ]
     },
     "execution_count": 7,
     "metadata": {},
     "output_type": "execute_result"
    }
   ],
   "source": [
    "x.shape # --> 256 time"
   ]
  },
  {
   "cell_type": "code",
   "execution_count": 8,
   "id": "b952042b",
   "metadata": {},
   "outputs": [
    {
     "data": {
      "text/plain": [
       "dict_keys(['fc1', 'fc2', 'input', 'lif1', 'lif2', 'output'])"
      ]
     },
     "execution_count": 8,
     "metadata": {},
     "output_type": "execute_result"
    }
   ],
   "source": [
    "ng.nodes.keys()"
   ]
  },
  {
   "cell_type": "code",
   "execution_count": 9,
   "id": "a7c11579",
   "metadata": {},
   "outputs": [
    {
     "data": {
      "text/plain": [
       "[('input', 'fc1'),\n",
       " ('fc1', 'lif1'),\n",
       " ('lif1', 'fc2'),\n",
       " ('fc2', 'lif2'),\n",
       " ('lif2', 'output')]"
      ]
     },
     "execution_count": 9,
     "metadata": {},
     "output_type": "execute_result"
    }
   ],
   "source": [
    "ng.edges"
   ]
  },
  {
   "cell_type": "code",
   "execution_count": 10,
   "id": "4b1bfeae",
   "metadata": {},
   "outputs": [],
   "source": [
    "n_list = [\"input\", \"fc1\", \"lif1\", \"output\"]\n",
    "subgraph_nodes = {k : ng.nodes[k] for k in n_list}\n",
    "subgraph_edges = [\n",
    "    ('input', 'fc1'),\n",
    "    ('fc1', 'lif1'),\n",
    "    ('lif1', 'output')\n",
    "]\n",
    "subgraph = nir.NIRGraph(subgraph_nodes, subgraph_edges)"
   ]
  },
  {
   "cell_type": "code",
   "execution_count": 11,
   "id": "65c5c5e4",
   "metadata": {},
   "outputs": [],
   "source": [
    "subgraph.nodes[\"output\"].output_type['output'] = np.array([40])"
   ]
  },
  {
   "cell_type": "code",
   "execution_count": 12,
   "id": "f3b086ce",
   "metadata": {
    "scrolled": true
   },
   "outputs": [
    {
     "name": "stdout",
     "output_type": "stream",
     "text": [
      "found subgraph, trying to parse as RNN\n",
      "found subgraph, trying to parse as RNN\n"
     ]
    }
   ],
   "source": [
    "SNN, params = spyx.nir.from_nir(subgraph, x, dt=1e-4, return_all_states=True)"
   ]
  },
  {
   "cell_type": "code",
   "execution_count": 13,
   "id": "1979a46e",
   "metadata": {
    "scrolled": true
   },
   "outputs": [
    {
     "data": {
      "text/plain": [
       "dict_keys(['linear', 'RCuBaLIF'])"
      ]
     },
     "execution_count": 13,
     "metadata": {},
     "output_type": "execute_result"
    }
   ],
   "source": [
    "params.keys()"
   ]
  },
  {
   "cell_type": "code",
   "execution_count": 14,
   "id": "0701a1b6",
   "metadata": {},
   "outputs": [
    {
     "name": "stdout",
     "output_type": "stream",
     "text": [
      "found subgraph, trying to parse as RNN\n"
     ]
    }
   ],
   "source": [
    "a, b = SNN.apply(params, x)"
   ]
  },
  {
   "cell_type": "code",
   "execution_count": 15,
   "id": "0cbef5f6",
   "metadata": {},
   "outputs": [
    {
     "data": {
      "image/png": "[encoded data removed]",
      "text/plain": [
       "<Figure size 864x288 with 1 Axes>"
      ]
     },
     "metadata": {
      "needs_background": "light"
     },
     "output_type": "display_data"
    }
   ],
   "source": [
    "plt.figure(figsize=(12,4))\n",
    "plt.imshow(x[0].T, aspect=4, interpolation=\"none\")\n",
    "plt.show()"
   ]
  },
  {
   "cell_type": "code",
   "execution_count": 16,
   "id": "9d64d5e6",
   "metadata": {},
   "outputs": [
    {
     "data": {
      "text/plain": [
       "(140, 256, 40)"
      ]
     },
     "execution_count": 16,
     "metadata": {},
     "output_type": "execute_result"
    }
   ],
   "source": [
    "a.shape"
   ]
  },
  {
   "cell_type": "code",
   "execution_count": 17,
   "id": "ca2e5c15",
   "metadata": {
    "scrolled": true
   },
   "outputs": [
    {
     "data": {
      "image/png": "[encoded data removed]",
      "text/plain": [
       "<Figure size 864x288 with 1 Axes>"
      ]
     },
     "metadata": {
      "needs_background": "light"
     },
     "output_type": "display_data"
    }
   ],
   "source": [
    "plt.figure(figsize=(12,4))\n",
    "plt.imshow(a[0].T, aspect=4, interpolation=\"none\")\n",
    "plt.show()"
   ]
  },
  {
   "cell_type": "code",
   "execution_count": 18,
   "id": "4dda0210",
   "metadata": {},
   "outputs": [],
   "source": [
    "np.save(\"spyx_activity_noDelay_noBias_subtract.npy\", a[0])"
   ]
  },
  {
   "cell_type": "markdown",
   "id": "d359cf86",
   "metadata": {},
   "source": [
    "# zero partial network"
   ]
  },
  {
   "cell_type": "code",
   "execution_count": 19,
   "id": "281215ea",
   "metadata": {},
   "outputs": [],
   "source": [
    "ng = nir.read(\"braille_noDelay_bias_zero_subgraph.nir\")"
   ]
  },
  {
   "cell_type": "code",
   "execution_count": 20,
   "id": "380eacd5",
   "metadata": {},
   "outputs": [],
   "source": [
    "n_list = [\"input\", \"fc1\", \"lif1\", \"output\"]\n",
    "subgraph_nodes = {k : ng.nodes[k] for k in n_list}\n",
    "subgraph_edges = [\n",
    "    ('input', 'fc1'),\n",
    "    ('fc1', 'lif1'),\n",
    "    ('lif1', 'output')\n",
    "]\n",
    "subgraph = nir.NIRGraph(subgraph_nodes, subgraph_edges)"
   ]
  },
  {
   "cell_type": "code",
   "execution_count": 21,
   "id": "39bbc061",
   "metadata": {},
   "outputs": [],
   "source": [
    "subgraph.nodes[\"output\"].output_type['output'] = np.array([40])"
   ]
  },
  {
   "cell_type": "code",
   "execution_count": 22,
   "id": "6e6e3ed9",
   "metadata": {
    "scrolled": true
   },
   "outputs": [
    {
     "name": "stdout",
     "output_type": "stream",
     "text": [
      "found subgraph, trying to parse as RNN\n",
      "found subgraph, trying to parse as RNN\n"
     ]
    }
   ],
   "source": [
    "SNN, params = spyx.nir.from_nir(subgraph, x, dt=1e-4, return_all_states=True)"
   ]
  },
  {
   "cell_type": "code",
   "execution_count": 23,
   "id": "8f863e48",
   "metadata": {
    "scrolled": true
   },
   "outputs": [
    {
     "data": {
      "text/plain": [
       "dict_keys(['linear', 'RCuBaLIF'])"
      ]
     },
     "execution_count": 23,
     "metadata": {},
     "output_type": "execute_result"
    }
   ],
   "source": [
    "params.keys()"
   ]
  },
  {
   "cell_type": "code",
   "execution_count": 24,
   "id": "a118313d",
   "metadata": {},
   "outputs": [
    {
     "name": "stdout",
     "output_type": "stream",
     "text": [
      "found subgraph, trying to parse as RNN\n"
     ]
    }
   ],
   "source": [
    "a, b = SNN.apply(params, x)"
   ]
  },
  {
   "cell_type": "code",
   "execution_count": 25,
   "id": "edf1f24d",
   "metadata": {},
   "outputs": [
    {
     "data": {
      "image/png": "[encoded data removed]",
      "text/plain": [
       "<Figure size 864x288 with 1 Axes>"
      ]
     },
     "metadata": {
      "needs_background": "light"
     },
     "output_type": "display_data"
    }
   ],
   "source": [
    "plt.figure(figsize=(12,4))\n",
    "plt.imshow(x[0].T, aspect=4, interpolation=\"none\")\n",
    "plt.show()"
   ]
  },
  {
   "cell_type": "code",
   "execution_count": 26,
   "id": "509005ef",
   "metadata": {},
   "outputs": [
    {
     "data": {
      "text/plain": [
       "(140, 256, 38)"
      ]
     },
     "execution_count": 26,
     "metadata": {},
     "output_type": "execute_result"
    }
   ],
   "source": [
    "a.shape"
   ]
  },
  {
   "cell_type": "code",
   "execution_count": 27,
   "id": "a59a6b0f",
   "metadata": {
    "scrolled": true
   },
   "outputs": [
    {
     "data": {
      "image/png": "[encoded data removed]",
      "text/plain": [
       "<Figure size 864x288 with 1 Axes>"
      ]
     },
     "metadata": {
      "needs_background": "light"
     },
     "output_type": "display_data"
    }
   ],
   "source": [
    "plt.figure(figsize=(12,4))\n",
    "plt.imshow(a[0].T, aspect=4, interpolation=\"none\")\n",
    "plt.show()"
   ]
  },
  {
   "cell_type": "code",
   "execution_count": 28,
   "id": "c681571e",
   "metadata": {},
   "outputs": [],
   "source": [
    "np.save(\"spyx_activity_noDelay_bias_zero.npy\", a[0])"
   ]
  },
  {
   "cell_type": "code",
   "execution_count": null,
   "id": "3e036784",
   "metadata": {},
   "outputs": [],
   "source": []
  },
  {
   "cell_type": "markdown",
   "id": "b126935a",
   "metadata": {},
   "source": [
    "# Full networks\n",
    "\n",
    "## subtract"
   ]
  },
  {
   "cell_type": "code",
   "execution_count": 29,
   "id": "9369a54f",
   "metadata": {},
   "outputs": [],
   "source": [
    "ng = nir.read(\"braille_noDelay_noBias_subtract_subgraph.nir\")"
   ]
  },
  {
   "cell_type": "code",
   "execution_count": 30,
   "id": "c52b6549",
   "metadata": {},
   "outputs": [
    {
     "name": "stdout",
     "output_type": "stream",
     "text": [
      "found subgraph, trying to parse as RNN\n",
      "found subgraph, trying to parse as RNN\n"
     ]
    }
   ],
   "source": [
    "SNN, params = spyx.nir.from_nir(ng, x, dt=1e-4, return_all_states=True)"
   ]
  },
  {
   "cell_type": "code",
   "execution_count": 31,
   "id": "76afa9f0",
   "metadata": {},
   "outputs": [],
   "source": [
    "spyx_rec = params[\"RCuBaLIF\"][\"w\"].T.flatten()\n",
    "spyx_inp = params[\"linear\"][\"w\"].T.flatten()"
   ]
  },
  {
   "cell_type": "code",
   "execution_count": 32,
   "id": "4576b900",
   "metadata": {},
   "outputs": [
    {
     "name": "stdout",
     "output_type": "stream",
     "text": [
      "replace rnn subgraph with nirgraph\n",
      "w_rec close? True\n",
      "fc1 close? True\n"
     ]
    }
   ],
   "source": [
    "from snntorch import import_nirtorch\n",
    "nirgraph = nir.read(\"braille_noDelay_noBias_subtract_subgraph.nir\")\n",
    "net_snn = import_nirtorch.from_nir(nirgraph)\n",
    "\n",
    "snn_rec = net_snn.lif1.recurrent.weight.detach().reshape(-1)\n",
    "print('w_rec close?', jnp.allclose(spyx_rec, snn_rec.numpy()))\n",
    "snn_inp = net_snn.fc1.weight.detach().reshape(-1)\n",
    "print('fc1 close?', jnp.allclose(spyx_inp, snn_inp.numpy()))"
   ]
  },
  {
   "cell_type": "code",
   "execution_count": 33,
   "id": "91f7cab8",
   "metadata": {},
   "outputs": [
    {
     "name": "stdout",
     "output_type": "stream",
     "text": [
      "found subgraph, trying to parse as RNN\n"
     ]
    }
   ],
   "source": [
    "a, b = SNN.apply(params, x)"
   ]
  },
  {
   "cell_type": "code",
   "execution_count": 34,
   "id": "1ef835a1",
   "metadata": {},
   "outputs": [
    {
     "data": {
      "text/plain": [
       "<matplotlib.image.AxesImage at 0x7f47302fc190>"
      ]
     },
     "execution_count": 34,
     "metadata": {},
     "output_type": "execute_result"
    },
    {
     "data": {
      "image/png": "[encoded data removed]",
      "text/plain": [
       "<Figure size 864x288 with 1 Axes>"
      ]
     },
     "metadata": {
      "needs_background": "light"
     },
     "output_type": "display_data"
    }
   ],
   "source": [
    "plt.figure(figsize=(12,4))\n",
    "plt.imshow(a[0].T, aspect=10, interpolation=\"none\")"
   ]
  },
  {
   "cell_type": "code",
   "execution_count": 35,
   "id": "23e259bc",
   "metadata": {
    "scrolled": true
   },
   "outputs": [
    {
     "data": {
      "text/plain": [
       "Array([1, 3, 2, 2, 6, 1, 1, 3, 4, 5, 4, 0, 5, 5, 0, 2, 4, 3, 1, 2, 5, 2,\n",
       "       4, 6, 2, 2, 4, 1, 4, 4, 1, 3, 2, 0, 4, 5, 1, 0, 3, 5, 1, 2, 0, 4,\n",
       "       5, 4, 5, 6, 6, 1, 4, 5, 0, 2, 3, 4, 5, 0, 2, 5, 5, 5, 6, 5, 6, 4,\n",
       "       1, 2, 6, 1, 0, 0, 6, 4, 0, 3, 3, 0, 1, 6, 2, 0, 3, 1, 0, 1, 2, 0,\n",
       "       3, 0, 0, 0, 4, 6, 1, 3, 2, 5, 2, 6, 0, 5, 5, 0, 3, 1, 6, 6, 3, 2,\n",
       "       4, 4, 6, 3, 6, 2, 2, 5, 3, 6, 2, 1, 3, 6, 5, 4, 5, 4, 1, 6, 3, 0,\n",
       "       3, 6, 3, 1, 6, 4, 3, 1], dtype=int32)"
      ]
     },
     "execution_count": 35,
     "metadata": {},
     "output_type": "execute_result"
    }
   ],
   "source": [
    "y"
   ]
  },
  {
   "cell_type": "code",
   "execution_count": 36,
   "id": "464c5cb8",
   "metadata": {},
   "outputs": [
    {
     "data": {
      "text/plain": [
       "Array(0.92142856, dtype=float32)"
      ]
     },
     "execution_count": 36,
     "metadata": {},
     "output_type": "execute_result"
    }
   ],
   "source": [
    "acc, preds = spyx.fn.integral_accuracy(a, y)\n",
    "acc"
   ]
  },
  {
   "cell_type": "code",
   "execution_count": 37,
   "id": "6d298e88",
   "metadata": {},
   "outputs": [],
   "source": [
    "np.save(\"spyx_accuracy_noDelay_noBias_subtract.npy\", acc)"
   ]
  },
  {
   "cell_type": "markdown",
   "id": "b84b28e2",
   "metadata": {},
   "source": [
    "# Bias + Zero reset"
   ]
  },
  {
   "cell_type": "code",
   "execution_count": 38,
   "id": "56ec1589",
   "metadata": {},
   "outputs": [],
   "source": [
    "ng = nir.read(\"braille_noDelay_bias_zero_subgraph.nir\")"
   ]
  },
  {
   "cell_type": "code",
   "execution_count": 39,
   "id": "f65ea01b",
   "metadata": {},
   "outputs": [
    {
     "name": "stdout",
     "output_type": "stream",
     "text": [
      "found subgraph, trying to parse as RNN\n",
      "found subgraph, trying to parse as RNN\n"
     ]
    }
   ],
   "source": [
    "SNN, params = spyx.nir.from_nir(ng, x, dt=1e-4, return_all_states=True)"
   ]
  },
  {
   "cell_type": "code",
   "execution_count": 40,
   "id": "d8062b3a",
   "metadata": {},
   "outputs": [],
   "source": [
    "spyx_rec = params[\"RCuBaLIF\"][\"w\"].T.flatten()\n",
    "spyx_inp = params[\"linear\"][\"w\"].T.flatten()"
   ]
  },
  {
   "cell_type": "code",
   "execution_count": 41,
   "id": "58f73d6e",
   "metadata": {},
   "outputs": [
    {
     "name": "stdout",
     "output_type": "stream",
     "text": [
      "replace rnn subgraph with nirgraph\n",
      "w_rec close? True\n",
      "fc1 close? True\n"
     ]
    }
   ],
   "source": [
    "from snntorch import import_nirtorch\n",
    "nirgraph = nir.read(\"braille_noDelay_bias_zero_subgraph.nir\")\n",
    "net_snn = import_nirtorch.from_nir(nirgraph)\n",
    "\n",
    "snn_rec = net_snn.lif1.recurrent.weight.detach().reshape(-1)\n",
    "print('w_rec close?', jnp.allclose(spyx_rec, snn_rec.numpy()))\n",
    "snn_inp = net_snn.fc1.weight.detach().reshape(-1)\n",
    "print('fc1 close?', jnp.allclose(spyx_inp, snn_inp.numpy()))"
   ]
  },
  {
   "cell_type": "code",
   "execution_count": 42,
   "id": "84d0fc83",
   "metadata": {},
   "outputs": [
    {
     "name": "stdout",
     "output_type": "stream",
     "text": [
      "found subgraph, trying to parse as RNN\n"
     ]
    }
   ],
   "source": [
    "a, b = SNN.apply(params, x)"
   ]
  },
  {
   "cell_type": "code",
   "execution_count": 43,
   "id": "efd0cb82",
   "metadata": {},
   "outputs": [
    {
     "data": {
      "text/plain": [
       "<matplotlib.image.AxesImage at 0x7f4730385c30>"
      ]
     },
     "execution_count": 43,
     "metadata": {},
     "output_type": "execute_result"
    },
    {
     "data": {
      "image/png": "[encoded data removed]",
      "text/plain": [
       "<Figure size 864x288 with 1 Axes>"
      ]
     },
     "metadata": {
      "needs_background": "light"
     },
     "output_type": "display_data"
    }
   ],
   "source": [
    "plt.figure(figsize=(12,4))\n",
    "plt.imshow(a[0].T, aspect=10, interpolation=\"none\")"
   ]
  },
  {
   "cell_type": "code",
   "execution_count": 44,
   "id": "9e982083",
   "metadata": {
    "scrolled": true
   },
   "outputs": [
    {
     "data": {
      "text/plain": [
       "Array([1, 3, 2, 2, 6, 1, 1, 3, 4, 5, 4, 0, 5, 5, 0, 2, 4, 3, 1, 2, 5, 2,\n",
       "       4, 6, 2, 2, 4, 1, 4, 4, 1, 3, 2, 0, 4, 5, 1, 0, 3, 5, 1, 2, 0, 4,\n",
       "       5, 4, 5, 6, 6, 1, 4, 5, 0, 2, 3, 4, 5, 0, 2, 5, 5, 5, 6, 5, 6, 4,\n",
       "       1, 2, 6, 1, 0, 0, 6, 4, 0, 3, 3, 0, 1, 6, 2, 0, 3, 1, 0, 1, 2, 0,\n",
       "       3, 0, 0, 0, 4, 6, 1, 3, 2, 5, 2, 6, 0, 5, 5, 0, 3, 1, 6, 6, 3, 2,\n",
       "       4, 4, 6, 3, 6, 2, 2, 5, 3, 6, 2, 1, 3, 6, 5, 4, 5, 4, 1, 6, 3, 0,\n",
       "       3, 6, 3, 1, 6, 4, 3, 1], dtype=int32)"
      ]
     },
     "execution_count": 44,
     "metadata": {},
     "output_type": "execute_result"
    }
   ],
   "source": [
    "y"
   ]
  },
  {
   "cell_type": "code",
   "execution_count": 45,
   "id": "81765fdf",
   "metadata": {},
   "outputs": [
    {
     "data": {
      "text/plain": [
       "Array(0.8428571, dtype=float32)"
      ]
     },
     "execution_count": 45,
     "metadata": {},
     "output_type": "execute_result"
    }
   ],
   "source": [
    "acc, preds = spyx.fn.integral_accuracy(a, y)\n",
    "acc"
   ]
  },
  {
   "cell_type": "code",
   "execution_count": 46,
   "id": "cdd39d18",
   "metadata": {},
   "outputs": [],
   "source": [
    "np.save(\"spyx_accuracy_noDelay_bias_zero.npy\", acc)"
   ]
  }
 ],
 "metadata": {
  "kernelspec": {
   "display_name": "Python 3 (ipykernel)",
   "language": "python",
   "name": "python3"
  },
  "language_info": {
   "codemirror_mode": {
    "name": "ipython",
    "version": 3
   },
   "file_extension": ".py",
   "mimetype": "text/x-python",
   "name": "python",
   "nbconvert_exporter": "python",
   "pygments_lexer": "ipython3",
   "version": "3.10.12"
  }
 },
 "nbformat": 4,
 "nbformat_minor": 5
}
