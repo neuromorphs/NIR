{
 "cells": [
  {
   "cell_type": "code",
   "execution_count": 1,
   "metadata": {},
   "outputs": [],
   "source": [
    "%matplotlib inline\n",
    "import matplotlib.pyplot as plt"
   ]
  },
  {
   "cell_type": "code",
   "execution_count": 2,
   "metadata": {},
   "outputs": [],
   "source": [
    "import nir\n",
    "graph = nir.read('braille_zero.nir')\n",
    "\n",
    "\n",
    "import nir_to_nengo\n",
    "import importlib\n",
    "importlib.reload(nir_to_nengo);"
   ]
  },
  {
   "cell_type": "code",
   "execution_count": 3,
   "metadata": {},
   "outputs": [],
   "source": [
    "import torch\n",
    "test_data_path = \"data/ds_test.pt\"\n",
    "ds_test = torch.load(test_data_path)"
   ]
  },
  {
   "cell_type": "code",
   "execution_count": 4,
   "metadata": {},
   "outputs": [],
   "source": [
    "from torch.utils.data import DataLoader\n",
    "loader = DataLoader(ds_test, batch_size=1, shuffle=False, drop_last=False)"
   ]
  },
  {
   "cell_type": "code",
   "execution_count": 5,
   "metadata": {
    "scrolled": false
   },
   "outputs": [
    {
     "name": "stdout",
     "output_type": "stream",
     "text": [
      "  0/140  target: 1   output: 1  accuracy: 1.0\n"
     ]
    },
    {
     "data": {
      "image/png": "[encoded data removed]",
      "text/plain": [
       "<Figure size 1008x360 with 2 Axes>"
      ]
     },
     "metadata": {
      "needs_background": "light"
     },
     "output_type": "display_data"
    },
    {
     "name": "stdout",
     "output_type": "stream",
     "text": [
      "  1/140  target: 3   output: 3  accuracy: 1.0\n",
      "  2/140  target: 2   output: 3  accuracy: 0.6666666666666666\n",
      "  3/140  target: 2   output: 2  accuracy: 0.75\n",
      "  4/140  target: 6   output: 6  accuracy: 0.8\n",
      "  5/140  target: 1   output: 1  accuracy: 0.8333333333333334\n",
      "  6/140  target: 1   output: 1  accuracy: 0.8571428571428571\n",
      "  7/140  target: 3   output: 3  accuracy: 0.875\n",
      "  8/140  target: 4   output: 2  accuracy: 0.7777777777777778\n",
      "  9/140  target: 5   output: 0  accuracy: 0.7\n",
      " 10/140  target: 4   output: 1  accuracy: 0.6363636363636364\n",
      " 11/140  target: 0   output: 0  accuracy: 0.6666666666666666\n",
      " 12/140  target: 5   output: 3  accuracy: 0.6153846153846154\n",
      " 13/140  target: 5   output: 5  accuracy: 0.6428571428571429\n",
      " 14/140  target: 0   output: 0  accuracy: 0.6666666666666666\n",
      " 15/140  target: 2   output: 3  accuracy: 0.625\n",
      " 16/140  target: 4   output: 1  accuracy: 0.5882352941176471\n",
      " 17/140  target: 3   output: 3  accuracy: 0.6111111111111112\n",
      " 18/140  target: 1   output: 1  accuracy: 0.631578947368421\n",
      " 19/140  target: 2   output: 1  accuracy: 0.6\n",
      " 20/140  target: 5   output: 6  accuracy: 0.5714285714285714\n",
      " 21/140  target: 2   output: 1  accuracy: 0.5454545454545454\n",
      " 22/140  target: 4   output: 3  accuracy: 0.5217391304347826\n",
      " 23/140  target: 6   output: 3  accuracy: 0.5\n",
      " 24/140  target: 2   output: 2  accuracy: 0.52\n",
      " 25/140  target: 2   output: 3  accuracy: 0.5\n",
      " 26/140  target: 4   output: 4  accuracy: 0.5185185185185185\n",
      " 27/140  target: 1   output: 1  accuracy: 0.5357142857142857\n",
      " 28/140  target: 4   output: 6  accuracy: 0.5172413793103449\n",
      " 29/140  target: 4   output: 4  accuracy: 0.5333333333333333\n",
      " 30/140  target: 1   output: 1  accuracy: 0.5483870967741935\n",
      " 31/140  target: 3   output: 3  accuracy: 0.5625\n",
      " 32/140  target: 2   output: 1  accuracy: 0.5454545454545454\n",
      " 33/140  target: 0   output: 0  accuracy: 0.5588235294117647\n",
      " 34/140  target: 4   output: 3  accuracy: 0.5428571428571428\n",
      " 35/140  target: 5   output: 6  accuracy: 0.5277777777777778\n",
      " 36/140  target: 1   output: 1  accuracy: 0.5405405405405406\n",
      " 37/140  target: 0   output: 0  accuracy: 0.5526315789473685\n",
      " 38/140  target: 3   output: 3  accuracy: 0.5641025641025641\n",
      " 39/140  target: 5   output: 1  accuracy: 0.55\n",
      " 40/140  target: 1   output: 1  accuracy: 0.5609756097560976\n",
      " 41/140  target: 2   output: 1  accuracy: 0.5476190476190477\n",
      " 42/140  target: 0   output: 0  accuracy: 0.5581395348837209\n",
      " 43/140  target: 4   output: 2  accuracy: 0.5454545454545454\n",
      " 44/140  target: 5   output: 6  accuracy: 0.5333333333333333\n",
      " 45/140  target: 4   output: 1  accuracy: 0.5217391304347826\n",
      " 46/140  target: 5   output: 6  accuracy: 0.5106382978723404\n",
      " 47/140  target: 6   output: 6  accuracy: 0.5208333333333334\n",
      " 48/140  target: 6   output: 6  accuracy: 0.5306122448979592\n",
      " 49/140  target: 1   output: 1  accuracy: 0.54\n",
      " 50/140  target: 4   output: 1  accuracy: 0.5294117647058824\n",
      " 51/140  target: 5   output: 6  accuracy: 0.5192307692307693\n",
      " 52/140  target: 0   output: 0  accuracy: 0.5283018867924528\n",
      " 53/140  target: 2   output: 2  accuracy: 0.5370370370370371\n",
      " 54/140  target: 3   output: 3  accuracy: 0.5454545454545454\n",
      " 55/140  target: 4   output: 1  accuracy: 0.5357142857142857\n",
      " 56/140  target: 5   output: 6  accuracy: 0.5263157894736842\n",
      " 57/140  target: 0   output: 0  accuracy: 0.5344827586206896\n",
      " 58/140  target: 2   output: 1  accuracy: 0.5254237288135594\n",
      " 59/140  target: 5   output: 3  accuracy: 0.5166666666666667\n",
      " 60/140  target: 5   output: 6  accuracy: 0.5081967213114754\n",
      " 61/140  target: 5   output: 0  accuracy: 0.5\n",
      " 62/140  target: 6   output: 3  accuracy: 0.49206349206349204\n",
      " 63/140  target: 5   output: 3  accuracy: 0.484375\n",
      " 64/140  target: 6   output: 6  accuracy: 0.49230769230769234\n",
      " 65/140  target: 4   output: 1  accuracy: 0.48484848484848486\n",
      " 66/140  target: 1   output: 1  accuracy: 0.4925373134328358\n",
      " 67/140  target: 2   output: 6  accuracy: 0.4852941176470588\n",
      " 68/140  target: 6   output: 6  accuracy: 0.4927536231884058\n",
      " 69/140  target: 1   output: 6  accuracy: 0.4857142857142857\n",
      " 70/140  target: 0   output: 0  accuracy: 0.49295774647887325\n",
      " 71/140  target: 0   output: 0  accuracy: 0.5\n",
      " 72/140  target: 6   output: 3  accuracy: 0.4931506849315068\n",
      " 73/140  target: 4   output: 1  accuracy: 0.4864864864864865\n",
      " 74/140  target: 0   output: 0  accuracy: 0.49333333333333335\n",
      " 75/140  target: 3   output: 3  accuracy: 0.5\n",
      " 76/140  target: 3   output: 3  accuracy: 0.5064935064935064\n",
      " 77/140  target: 0   output: 0  accuracy: 0.5128205128205128\n",
      " 78/140  target: 1   output: 1  accuracy: 0.5189873417721519\n",
      " 79/140  target: 6   output: 3  accuracy: 0.5125\n",
      " 80/140  target: 2   output: 3  accuracy: 0.5061728395061729\n",
      " 81/140  target: 0   output: 0  accuracy: 0.5121951219512195\n",
      " 82/140  target: 3   output: 3  accuracy: 0.5180722891566265\n",
      " 83/140  target: 1   output: 1  accuracy: 0.5238095238095238\n",
      " 84/140  target: 0   output: 0  accuracy: 0.5294117647058824\n",
      " 85/140  target: 1   output: 1  accuracy: 0.5348837209302325\n",
      " 86/140  target: 2   output: 1  accuracy: 0.5287356321839081\n",
      " 87/140  target: 0   output: 0  accuracy: 0.5340909090909091\n",
      " 88/140  target: 3   output: 6  accuracy: 0.5280898876404494\n",
      " 89/140  target: 0   output: 0  accuracy: 0.5333333333333333\n",
      " 90/140  target: 0   output: 0  accuracy: 0.5384615384615384\n",
      " 91/140  target: 0   output: 0  accuracy: 0.5434782608695652\n",
      " 92/140  target: 4   output: 3  accuracy: 0.5376344086021505\n",
      " 93/140  target: 6   output: 6  accuracy: 0.5425531914893617\n",
      " 94/140  target: 1   output: 1  accuracy: 0.5473684210526316\n",
      " 95/140  target: 3   output: 1  accuracy: 0.5416666666666666\n",
      " 96/140  target: 2   output: 2  accuracy: 0.5463917525773195\n",
      " 97/140  target: 5   output: 6  accuracy: 0.5408163265306123\n",
      " 98/140  target: 2   output: 6  accuracy: 0.5353535353535354\n",
      " 99/140  target: 6   output: 6  accuracy: 0.54\n",
      "100/140  target: 0   output: 0  accuracy: 0.5445544554455446\n",
      "101/140  target: 5   output: 0  accuracy: 0.5392156862745098\n",
      "102/140  target: 5   output: 6  accuracy: 0.5339805825242718\n",
      "103/140  target: 0   output: 0  accuracy: 0.5384615384615384\n",
      "104/140  target: 3   output: 3  accuracy: 0.5428571428571428\n",
      "105/140  target: 1   output: 1  accuracy: 0.5471698113207547\n",
      "106/140  target: 6   output: 6  accuracy: 0.5514018691588785\n",
      "107/140  target: 6   output: 6  accuracy: 0.5555555555555556\n",
      "108/140  target: 3   output: 3  accuracy: 0.5596330275229358\n",
      "109/140  target: 2   output: 1  accuracy: 0.5545454545454546\n",
      "110/140  target: 4   output: 4  accuracy: 0.5585585585585585\n",
      "111/140  target: 4   output: 1  accuracy: 0.5535714285714286\n",
      "112/140  target: 6   output: 6  accuracy: 0.5575221238938053\n",
      "113/140  target: 3   output: 3  accuracy: 0.5614035087719298\n",
      "114/140  target: 6   output: 6  accuracy: 0.5652173913043478\n",
      "115/140  target: 2   output: 1  accuracy: 0.5603448275862069\n",
      "116/140  target: 2   output: 2  accuracy: 0.5641025641025641\n",
      "117/140  target: 5   output: 3  accuracy: 0.559322033898305\n",
      "118/140  target: 3   output: 3  accuracy: 0.5630252100840336\n",
      "119/140  target: 6   output: 6  accuracy: 0.5666666666666667\n",
      "120/140  target: 2   output: 6  accuracy: 0.5619834710743802\n",
      "121/140  target: 1   output: 1  accuracy: 0.5655737704918032\n",
      "122/140  target: 3   output: 3  accuracy: 0.5691056910569106\n",
      "123/140  target: 6   output: 3  accuracy: 0.5645161290322581\n",
      "124/140  target: 5   output: 0  accuracy: 0.56\n",
      "125/140  target: 4   output: 4  accuracy: 0.5634920634920635\n",
      "126/140  target: 5   output: 0  accuracy: 0.5590551181102362\n",
      "127/140  target: 4   output: 3  accuracy: 0.5546875\n",
      "128/140  target: 1   output: 1  accuracy: 0.5581395348837209\n",
      "129/140  target: 6   output: 6  accuracy: 0.5615384615384615\n",
      "130/140  target: 3   output: 3  accuracy: 0.5648854961832062\n",
      "131/140  target: 0   output: 0  accuracy: 0.5681818181818182\n",
      "132/140  target: 3   output: 3  accuracy: 0.5714285714285714\n",
      "133/140  target: 6   output: 3  accuracy: 0.5671641791044776\n",
      "134/140  target: 3   output: 3  accuracy: 0.5703703703703704\n",
      "135/140  target: 1   output: 1  accuracy: 0.5735294117647058\n",
      "136/140  target: 6   output: 6  accuracy: 0.5766423357664233\n",
      "137/140  target: 4   output: 4  accuracy: 0.5797101449275363\n",
      "138/140  target: 3   output: 3  accuracy: 0.5827338129496403\n",
      "139/140  target: 1   output: 1  accuracy: 0.5857142857142857\n"
     ]
    }
   ],
   "source": [
    "import nengo\n",
    "import numpy as np\n",
    "\n",
    "dt = 1e-4\n",
    "\n",
    "targets = np.empty(len(loader))\n",
    "outputs = np.empty(len(loader))\n",
    "\n",
    "for i, (data, labels) in enumerate(loader):\n",
    "    d = data.detach().numpy()[0]\n",
    "    label = labels.detach().numpy()[0]\n",
    "    model = nengo.Network()\n",
    "    with model:\n",
    "        model2, nengo_map = nir_to_nengo.nir_to_nengo(graph, dt=dt)\n",
    "        \n",
    "        stim = nengo.Node(nengo.processes.PresentInput(d, presentation_time=dt))\n",
    "        nengo.Connection(stim, nengo_map['input'], synapse=None, transform=1)\n",
    "        p_input = nengo.Probe(nengo_map['input'])\n",
    "        p_output = nengo.Probe(nengo_map['output'])\n",
    "        p_lif1 = nengo.Probe(nengo_map['lif1.lif'])\n",
    "        \n",
    "    sim = nengo.Simulator(model, progress_bar=False, dt=dt)\n",
    "    sim.run(dt*256)\n",
    "    output = np.argmax(np.mean(sim.data[p_output], axis=0))\n",
    "    \n",
    "    targets[i] = label\n",
    "    outputs[i] = output\n",
    "    \n",
    "    accuracy = np.mean(targets[:i+1]==outputs[:i+1])\n",
    "    \n",
    "    print(f'{i:3d}/{len(targets)}  target: {label}   output: {output}  accuracy: {accuracy}')\n",
    "    \n",
    "    if i==0:\n",
    "        norse = np.load('norse_activity_zero.npy')\n",
    "\n",
    "        plt.figure(figsize=(14,5))\n",
    "        plt.subplot(1, 2, 1)\n",
    "        plt.imshow(norse.T, aspect='auto', interpolation='nearest')\n",
    "        plt.title('Norse')\n",
    "        plt.subplot(1, 2, 2)\n",
    "        plt.title('Nengo')\n",
    "        plt.imshow(sim.data[p_lif1].T, aspect='auto', interpolation='nearest')\n",
    "        plt.show()"
   ]
  },
  {
   "cell_type": "code",
   "execution_count": 12,
   "metadata": {},
   "outputs": [
    {
     "data": {
      "text/plain": [
       "array([[20.,  0.,  0.,  0.,  0.,  0.,  0.],\n",
       "       [ 0., 19.,  0.,  0.,  0.,  0.,  1.],\n",
       "       [ 0.,  8.,  5.,  4.,  0.,  0.,  3.],\n",
       "       [ 0.,  1.,  0., 18.,  0.,  0.,  1.],\n",
       "       [ 0.,  8.,  2.,  4.,  5.,  0.,  1.],\n",
       "       [ 5.,  1.,  0.,  4.,  0.,  1.,  9.],\n",
       "       [ 0.,  0.,  0.,  6.,  0.,  0., 14.]])"
      ]
     },
     "execution_count": 12,
     "metadata": {},
     "output_type": "execute_result"
    }
   ],
   "source": [
    "confusion = np.zeros((7,7))\n",
    "np.add.at(confusion, (targets.astype(int),outputs.astype(int)), 1)\n",
    "confusion"
   ]
  },
  {
   "cell_type": "code",
   "execution_count": null,
   "metadata": {},
   "outputs": [],
   "source": []
  }
 ],
 "metadata": {
  "kernelspec": {
   "display_name": "Python 3",
   "language": "python",
   "name": "python3"
  },
  "language_info": {
   "codemirror_mode": {
    "name": "ipython",
    "version": 3
   },
   "file_extension": ".py",
   "mimetype": "text/x-python",
   "name": "python",
   "nbconvert_exporter": "python",
   "pygments_lexer": "ipython3",
   "version": "3.8.5"
  }
 },
 "nbformat": 4,
 "nbformat_minor": 4
}
