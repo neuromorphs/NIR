{
 "cells": [
  {
   "cell_type": "code",
   "execution_count": 6,
   "metadata": {},
   "outputs": [],
   "source": [
    "# Boilerplate imports\n",
    "\n",
    "import numpy as np\n",
    "\n",
    "import torch\n",
    "from torch.utils.data import DataLoader\n",
    "\n",
    "from tqdm.autonotebook import trange\n",
    "import time\n",
    "\n",
    "seed = 42\n",
    "np.random.seed(seed)\n",
    "torch.manual_seed(seed)\n",
    "torch.manual_seed(seed)\n",
    "torch.use_deterministic_algorithms(True)\n",
    "\n",
    "import matplotlib.pyplot as plt"
   ]
  },
  {
   "cell_type": "code",
   "execution_count": 7,
   "metadata": {},
   "outputs": [
    {
     "name": "stdout",
     "output_type": "stream",
     "text": [
      "GraphExecutor(\n",
      "  (fc1): LinearTorch()\n",
      "  (fc2): LinearTorch()\n",
      "  (input): Identity()\n",
      "  (lif1): LIFTorch()\n",
      "  (lif2): LIFTorch()\n",
      "  (output): Identity()\n",
      ")\n"
     ]
    }
   ],
   "source": [
    "# Load NIR graph and convert to a Rockpool torch module\n",
    "\n",
    "import nir\n",
    "from rockpool.nn.modules.torch.nir import from_nir\n",
    "\n",
    "nirgraph = nir.read('braille_noDelay_noBias_subtract_subgraph.nir')\n",
    "net = from_nir(nirgraph)\n",
    "print(net)"
   ]
  },
  {
   "cell_type": "code",
   "execution_count": 8,
   "metadata": {},
   "outputs": [],
   "source": [
    "# Impose a common `dt` on the LIF layers\n",
    "dt = 1e-4\n",
    "net.lif1.dt = dt\n",
    "net.lif2.dt = dt"
   ]
  },
  {
   "cell_type": "code",
   "execution_count": 9,
   "metadata": {},
   "outputs": [],
   "source": [
    "# Rockpool imports for deployment\n",
    "from rockpool.devices.xylo.syns61201 import mapper, config_from_specification, XyloSim, XyloSamna\n",
    "from rockpool.transform.quantize_methods import channel_quantize\n",
    "\n",
    "# - Map network to Xylo architecture\n",
    "spec = mapper(net.as_graph())\n",
    "\n",
    "# - Post-training quantization of network\n",
    "Qspec = spec\n",
    "Qspec.update(channel_quantize(**Qspec))\n",
    "Qspec.pop('mapped_graph')\n",
    "\n",
    "# - Produce and validate a bitstream for Xylo architecture\n",
    "config, is_valid, msg = config_from_specification(**Qspec)\n",
    "\n",
    "if not is_valid:\n",
    "    print(msg)"
   ]
  },
  {
   "cell_type": "code",
   "execution_count": 10,
   "metadata": {},
   "outputs": [
    {
     "name": "stdout",
     "output_type": "stream",
     "text": [
      "The connected Xylo HDK contains a Xylo Audio v2 (SYNS61201). Importing `rockpool.devices.xylo.syns61201`\n"
     ]
    }
   ],
   "source": [
    "# - Enumerat and connect to a Xylo HDK\n",
    "from rockpool.devices.xylo import find_xylo_hdks\n",
    "\n",
    "hdks, support_mods, _ = find_xylo_hdks()\n",
    "\n",
    "# - Use a connected XYlo HDK, or use the bit-accurate simulator\n",
    "if len(hdks) > 0:\n",
    "    hdk = hdks[0]\n",
    "    evolve_args = {\"read_timeout\": 40., \"record_power\": True}\n",
    "    XyloModule = lambda config: support_mods[0].XyloSamna(hdk, config, dt = dt)\n",
    "else:\n",
    "    hdk = None\n",
    "    evolve_args = {}\n",
    "    XyloModule = lambda config: XyloSim.from_config(config, dt = dt)"
   ]
  },
  {
   "cell_type": "code",
   "execution_count": 11,
   "metadata": {},
   "outputs": [
    {
     "name": "stdout",
     "output_type": "stream",
     "text": [
      "XyloSamna  with shape (12, 40, 7)\n"
     ]
    },
    {
     "name": "stderr",
     "output_type": "stream",
     "text": [
      "[2023-10-30 10:08:26.531] [Graph] [warning] Graph is destroyed without any start! Graph is required to start manually to work.\n",
      "[2023-10-30 10:08:26.531] [Graph] [warning] Graph is destroyed without any start! Graph is required to start manually to work.\n",
      "[2023-10-30 10:08:26.532] [Graph] [warning] Graph is destroyed without any start! Graph is required to start manually to work.\n",
      "[2023-10-30 10:08:27.603] [Graph] [warning] Graph is destroyed without any start! Graph is required to start manually to work.\n"
     ]
    }
   ],
   "source": [
    "# - Configure Xylo with the network bitstream\n",
    "mod = XyloModule(config)\n",
    "print(mod)"
   ]
  },
  {
   "cell_type": "code",
   "execution_count": 12,
   "metadata": {},
   "outputs": [],
   "source": [
    "### Specify test data\n",
    "test_data_path = \"data/ds_test.pt\"\n",
    "ds_test = torch.load(test_data_path)\n",
    "letter_written = [\"Space\", \"A\", \"E\", \"I\", \"O\", \"U\", \"Y\"]\n"
   ]
  },
  {
   "cell_type": "code",
   "execution_count": 13,
   "metadata": {},
   "outputs": [
    {
     "name": "stderr",
     "output_type": "stream",
     "text": [
      "100%|██████████| 140/140 [00:21<00:00,  6.47it/s]"
     ]
    },
    {
     "name": "stdout",
     "output_type": "stream",
     "text": [
      "n_correct 120 out of 140 (85.71428571428571%)\n"
     ]
    },
    {
     "name": "stderr",
     "output_type": "stream",
     "text": [
      "\n"
     ]
    }
   ],
   "source": [
    "### RUN TESTS\n",
    "n_samples = len(ds_test)  # dataset size: 140\n",
    "predicted_labels = []\n",
    "actual_labels = []\n",
    "\n",
    "for i in trange(n_samples):\n",
    "    single_sample = next(iter(DataLoader(ds_test, batch_size=1, shuffle=True)))\n",
    "    sample = single_sample[0].numpy()[0].astype(int)  # shape: (256, 12)\n",
    "\n",
    "    output, _, rec_dict = mod(sample, record = False, **evolve_args)\n",
    "    n_output_spikes = np.sum(output, axis=0)\n",
    "\n",
    "    predicted_label = int(np.argmax(n_output_spikes))\n",
    "    actual_label = int(single_sample[1])\n",
    "    # print(\"Predicted Label:\", predicted_label)\n",
    "    # print(\"Actual Label:   \", actual_label)\n",
    "    predicted_labels.append(predicted_label)\n",
    "    actual_labels.append(actual_label)\n",
    "\n",
    "predicted_labels = np.array(predicted_labels)\n",
    "actual_labels = np.array(actual_labels)\n",
    "n_correct = np.count_nonzero(predicted_labels == actual_labels)\n",
    "print(f\"n_correct {n_correct} out of {n_samples} ({n_correct / n_samples * 100.}%)\")"
   ]
  },
  {
   "cell_type": "code",
   "execution_count": 14,
   "metadata": {},
   "outputs": [],
   "source": [
    "# Save accuracy results and internal network activity\n",
    "np.save('Xylo_accuracy_subtract.npy', n_correct / n_samples)\n",
    "\n",
    "test_sample = torch.load(\"data/ds_test.pt\")[0][0]\n",
    "_, _, rec_dict = mod(sample, record = True, **evolve_args)\n",
    "\n",
    "np.save('Xylo_activity_subtract.npy', rec_dict['Spikes'])"
   ]
  },
  {
   "cell_type": "code",
   "execution_count": 15,
   "metadata": {},
   "outputs": [
    {
     "name": "stdout",
     "output_type": "stream",
     "text": [
      "Xylo clock freq: 6.25 MHz\n"
     ]
    }
   ],
   "source": [
    "# Perform live power measurement on Xylo HDK\n",
    "if len(hdks) > 0:\n",
    "    clk = support_mods[0].xa2_devkit_utils.set_xylo_core_clock_freq(hdk, 6.25)\n",
    "    print(f'Xylo clock freq: {clk} MHz')\n",
    "\n",
    "    NT = 100\n",
    "    start = time.time()\n",
    "    _, _, rec_dict = mod(np.repeat(sample, NT, axis = 0), record = False, **evolve_args)\n",
    "    inf_time = time.time() - start\n",
    "else:\n",
    "    print(f\"No Xylo HDK, skipping power measurement\")"
   ]
  },
  {
   "cell_type": "code",
   "execution_count": 16,
   "metadata": {},
   "outputs": [
    {
     "name": "stdout",
     "output_type": "stream",
     "text": [
      "Inference total logic power: 277.09 uW\n",
      "Inference time: 8.59s; per sample 0.086s\n",
      "Inference total energy per sample: 23.80 uJ\n"
     ]
    }
   ],
   "source": [
    "if len(hdks) > 0:\n",
    "    print(f\"Inference total logic power: {np.mean(rec_dict['logic_power'] * 1e6):.2f} uW\")\n",
    "    print(f\"Inference time: {inf_time:.2f}s; per sample {inf_time / NT:.3f}s\")\n",
    "    print(f\"Inference total energy per sample: {np.mean(rec_dict['logic_power'] * 1e6) * inf_time / NT:.2f} uJ\")"
   ]
  }
 ],
 "metadata": {
  "kernelspec": {
   "display_name": "env_NIR",
   "language": "python",
   "name": "python3"
  },
  "language_info": {
   "codemirror_mode": {
    "name": "ipython",
    "version": 3
   },
   "file_extension": ".py",
   "mimetype": "text/x-python",
   "name": "python",
   "nbconvert_exporter": "python",
   "pygments_lexer": "ipython3",
   "version": "3.8.18"
  },
  "orig_nbformat": 4
 },
 "nbformat": 4,
 "nbformat_minor": 2
}
