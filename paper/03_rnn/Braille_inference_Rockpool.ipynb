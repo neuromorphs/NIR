{
 "cells": [
  {
   "cell_type": "code",
   "execution_count": 1,
   "metadata": {},
   "outputs": [
    {
     "name": "stderr",
     "output_type": "stream",
     "text": [
      "/var/folders/w7/dpsq9mj54t7gg3nc3923pc0r0000gn/T/ipykernel_11382/1112600444.py:8: TqdmWarning: IProgress not found. Please update jupyter and ipywidgets. See https://ipywidgets.readthedocs.io/en/stable/user_install.html\n",
      "  from tqdm.autonotebook import trange\n"
     ]
    }
   ],
   "source": [
    "# Boilerplate imports\n",
    "\n",
    "import numpy as np\n",
    "\n",
    "import torch\n",
    "from torch.utils.data import DataLoader\n",
    "\n",
    "from tqdm.autonotebook import trange\n",
    "import time\n",
    "\n",
    "seed = 42\n",
    "np.random.seed(seed)\n",
    "torch.manual_seed(seed)\n",
    "torch.manual_seed(seed)\n",
    "torch.use_deterministic_algorithms(True)\n",
    "\n",
    "import matplotlib.pyplot as plt"
   ]
  },
  {
   "cell_type": "code",
   "execution_count": 2,
   "metadata": {},
   "outputs": [
    {
     "name": "stdout",
     "output_type": "stream",
     "text": [
      "GraphExecutor(\n",
      "  (fc1): LinearTorch()\n",
      "  (fc2): LinearTorch()\n",
      "  (input): Identity()\n",
      "  (lif1): LIFTorch()\n",
      "  (lif2): LIFTorch()\n",
      "  (output): Identity()\n",
      ")\n"
     ]
    },
    {
     "name": "stderr",
     "output_type": "stream",
     "text": [
      "/Users/dylan/SynSense Dropbox/Dylan Muir/LiveSync/Development/Projects/nir/rockpool_nir/rockpool/nn/modules/torch/linear_torch.py:111: UserWarning: To copy construct from a tensor, it is recommended to use sourceTensor.clone().detach() or sourceTensor.clone().detach().requires_grad_(True), rather than torch.tensor(sourceTensor).\n",
      "  torch.tensor(weight) if weight is not None else None,\n",
      "/Users/dylan/SynSense Dropbox/Dylan Muir/LiveSync/Development/Projects/nir/rockpool_nir/rockpool/nn/modules/torch/torch_module.py:258: UserWarning: To copy construct from a tensor, it is recommended to use sourceTensor.clone().detach() or sourceTensor.clone().detach().requires_grad_(True), rather than torch.tensor(sourceTensor).\n",
      "  super().register_parameter(key, nn.Parameter(torch.tensor(value.data)))\n",
      "/Users/dylan/SynSense Dropbox/Dylan Muir/LiveSync/Development/Projects/nir/rockpool_nir/rockpool/nn/modules/torch/nir.py:76: UserWarning: To copy construct from a tensor, it is recommended to use sourceTensor.clone().detach() or sourceTensor.clone().detach().requires_grad_(True), rather than torch.tensor(sourceTensor).\n",
      "  torch.tensor(_to_tensor(lif_node.tau_mem / (1 + lif_node.r)))\n",
      "/Users/dylan/SynSense Dropbox/Dylan Muir/LiveSync/Development/Projects/nir/rockpool_nir/rockpool/nn/modules/torch/nir.py:115: UserWarning: To copy construct from a tensor, it is recommended to use sourceTensor.clone().detach() or sourceTensor.clone().detach().requires_grad_(True), rather than torch.tensor(sourceTensor).\n",
      "  dt=torch.min(torch.tensor(_to_tensor(node.tau_mem / (1 + node.r)))).item(),\n"
     ]
    }
   ],
   "source": [
    "# Load NIR graph and convert to a Rockpool torch module\n",
    "\n",
    "import nir\n",
    "from rockpool.nn.modules.torch.nir import from_nir\n",
    "\n",
    "nirgraph = nir.read('braille_noDelay_noBias_subtract_subgraph.nir')\n",
    "net = from_nir(nirgraph)\n",
    "print(net)"
   ]
  },
  {
   "cell_type": "code",
   "execution_count": 3,
   "metadata": {},
   "outputs": [],
   "source": [
    "# Impose a common `dt` on the LIF layers\n",
    "dt = 1e-4\n",
    "net.lif1.dt = dt\n",
    "net.lif2.dt = dt\n",
    "\n",
    "net._record = True"
   ]
  },
  {
   "cell_type": "code",
   "execution_count": 4,
   "metadata": {},
   "outputs": [],
   "source": [
    "### Specify test data\n",
    "test_data_path = \"data/ds_test.pt\"\n",
    "ds_test = torch.load(test_data_path)\n",
    "letter_written = [\"Space\", \"A\", \"E\", \"I\", \"O\", \"U\", \"Y\"]\n"
   ]
  },
  {
   "cell_type": "code",
   "execution_count": 34,
   "metadata": {},
   "outputs": [
    {
     "name": "stderr",
     "output_type": "stream",
     "text": [
      "100%|██████████| 140/140 [00:13<00:00, 10.20it/s]"
     ]
    },
    {
     "name": "stdout",
     "output_type": "stream",
     "text": [
      "n_correct 108 out of 140 (77.14285714285715%)\n"
     ]
    },
    {
     "name": "stderr",
     "output_type": "stream",
     "text": [
      "\n"
     ]
    }
   ],
   "source": [
    "### RUN TESTS\n",
    "n_samples = len(ds_test)  # dataset size: 140\n",
    "predicted_labels = []\n",
    "actual_labels = []\n",
    "\n",
    "for i in trange(n_samples):\n",
    "    single_sample = next(iter(DataLoader(ds_test, batch_size=1, shuffle=True)))\n",
    "    sample = single_sample[0].numpy()[0]  # shape: (256, 12)\n",
    "\n",
    "    output, rec_dict = net(torch.tensor(sample))\n",
    "    n_output_spikes = np.sum(output.squeeze().detach().numpy(), axis=0)\n",
    "\n",
    "    predicted_label = int(np.argmax(n_output_spikes))\n",
    "    actual_label = int(single_sample[1])\n",
    "    # print(\"Predicted Label:\", predicted_label)\n",
    "    # print(\"Actual Label:   \", actual_label)\n",
    "    predicted_labels.append(predicted_label)\n",
    "    actual_labels.append(actual_label)\n",
    "\n",
    "predicted_labels = np.array(predicted_labels)\n",
    "actual_labels = np.array(actual_labels)\n",
    "n_correct = np.count_nonzero(predicted_labels == actual_labels)\n",
    "print(f\"n_correct {n_correct} out of {n_samples} ({n_correct / n_samples * 100.}%)\")"
   ]
  },
  {
   "cell_type": "code",
   "execution_count": 35,
   "metadata": {},
   "outputs": [
    {
     "name": "stderr",
     "output_type": "stream",
     "text": [
      "/var/folders/w7/dpsq9mj54t7gg3nc3923pc0r0000gn/T/ipykernel_11382/1876152293.py:5: UserWarning: To copy construct from a tensor, it is recommended to use sourceTensor.clone().detach() or sourceTensor.clone().detach().requires_grad_(True), rather than torch.tensor(sourceTensor).\n",
      "  _, rec_dict = net(torch.tensor(test_sample))\n"
     ]
    }
   ],
   "source": [
    "# Save accuracy results and internal network activity\n",
    "np.save('Rockpool_accuracy_subtract.npy', n_correct / n_samples)\n",
    "\n",
    "test_sample = torch.load(\"data/ds_test.pt\")[0][0]\n",
    "_, rec_dict = net(torch.tensor(test_sample))\n",
    "\n",
    "np.save('Rockpool_activity_subtract.npy', rec_dict.cache['lif1'].squeeze().detach().numpy())"
   ]
  }
 ],
 "metadata": {
  "kernelspec": {
   "display_name": "env_NIR",
   "language": "python",
   "name": "python3"
  },
  "language_info": {
   "codemirror_mode": {
    "name": "ipython",
    "version": 3
   },
   "file_extension": ".py",
   "mimetype": "text/x-python",
   "name": "python",
   "nbconvert_exporter": "python",
   "pygments_lexer": "ipython3",
   "version": "3.8.18"
  },
  "orig_nbformat": 4
 },
 "nbformat": 4,
 "nbformat_minor": 2
}
