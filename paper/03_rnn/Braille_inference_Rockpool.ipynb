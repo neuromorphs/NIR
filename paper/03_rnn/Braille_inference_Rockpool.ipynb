{
 "cells": [
  {
   "cell_type": "code",
   "execution_count": 1,
   "metadata": {},
   "outputs": [],
   "source": [
    "import numpy as np\n",
    "\n",
    "import torch\n",
    "from torch.utils.data import DataLoader, TensorDataset\n",
    "\n",
    "seed = 42\n",
    "np.random.seed(seed)\n",
    "torch.manual_seed(seed)\n",
    "torch.manual_seed(seed)\n",
    "torch.use_deterministic_algorithms(True)\n",
    "\n",
    "import matplotlib.pyplot as plt"
   ]
  },
  {
   "cell_type": "code",
   "execution_count": 2,
   "metadata": {},
   "outputs": [
    {
     "name": "stdout",
     "output_type": "stream",
     "text": [
      "Shape [55]\n",
      "Shape [7]\n"
     ]
    }
   ],
   "source": [
    "import nir\n",
    "from rockpool.nn.modules.torch.nir import from_nir, to_nir\n",
    "\n",
    "nirgraph = nir.read('braille_subtract.nir')\n",
    "net = from_nir(nirgraph)"
   ]
  },
  {
   "cell_type": "code",
   "execution_count": 4,
   "metadata": {},
   "outputs": [
    {
     "data": {
      "text/plain": [
       "GraphExecutor(\n",
       "  (fc1): LinearTorch()\n",
       "  (fc2): LinearTorch()\n",
       "  (lif1_lif): LIFTorch()\n",
       "  (lif1_w_rec): LinearTorch()\n",
       "  (lif2): LIFTorch()\n",
       ")"
      ]
     },
     "execution_count": 4,
     "metadata": {},
     "output_type": "execute_result"
    }
   ],
   "source": [
    "net"
   ]
  },
  {
   "cell_type": "code",
   "execution_count": 5,
   "metadata": {},
   "outputs": [],
   "source": [
    "# Impose common `dt`\n",
    "dt = 1e-3\n",
    "\n",
    "net.lif1_lif.dt = dt\n",
    "net.lif2.dt = dt"
   ]
  },
  {
   "cell_type": "code",
   "execution_count": 6,
   "metadata": {},
   "outputs": [
    {
     "name": "stderr",
     "output_type": "stream",
     "text": [
      "/Users/dylan/SynSense Dropbox/Dylan Muir/LiveSync/Development/Projects/nir/rockpool_nir/rockpool/devices/xylo/syns61300/xylo_mapper.py:190: DRCWarning: Bias parameters of LinearWeights modules are *not* transferred to Xylo.\n",
      "Found weights LinearWeights \"LinearTorch__4390929888\" with 12 input nodes -> 55 output nodes with biases. Set `has_bias = False` for this module .\n",
      "  warnings.warn(\n",
      "/Users/dylan/SynSense Dropbox/Dylan Muir/LiveSync/Development/Projects/nir/rockpool_nir/rockpool/devices/xylo/syns61300/xylo_mapper.py:190: DRCWarning: Bias parameters of LinearWeights modules are *not* transferred to Xylo.\n",
      "Found weights LinearWeights \"LinearTorch__5551354688\" with 55 input nodes -> 55 output nodes with biases. Set `has_bias = False` for this module .\n",
      "  warnings.warn(\n",
      "/Users/dylan/SynSense Dropbox/Dylan Muir/LiveSync/Development/Projects/nir/rockpool_nir/rockpool/devices/xylo/syns61300/xylo_mapper.py:190: DRCWarning: Bias parameters of LinearWeights modules are *not* transferred to Xylo.\n",
      "Found weights LinearWeights \"LinearTorch__5551210352\" with 55 input nodes -> 7 output nodes with biases. Set `has_bias = False` for this module .\n",
      "  warnings.warn(\n"
     ]
    }
   ],
   "source": [
    "from rockpool.devices.xylo.syns61201 import mapper, config_from_specification, XyloSim, XyloSamna\n",
    "from rockpool.transform.quantize_methods import channel_quantize\n",
    "\n",
    "spec = mapper(net.as_graph())"
   ]
  },
  {
   "cell_type": "code",
   "execution_count": 7,
   "metadata": {},
   "outputs": [
    {
     "ename": "TypeError",
     "evalue": "<class 'numpy.int8'> could not be casted to expected type (unsigned char), integer bounds [0,255]",
     "output_type": "error",
     "traceback": [
      "\u001b[0;31m---------------------------------------------------------------------------\u001b[0m",
      "\u001b[0;31mTypeError\u001b[0m                                 Traceback (most recent call last)",
      "\u001b[1;32m/Users/dylan/SynSense Dropbox/Dylan Muir/LiveSync/Development/Projects/nir/nir_GIT/paper/03_rnn/Braille_inference_Rockpool.ipynb Cell 6\u001b[0m line \u001b[0;36m5\n\u001b[1;32m      <a href='vscode-notebook-cell:/Users/dylan/SynSense%20Dropbox/Dylan%20Muir/LiveSync/Development/Projects/nir/nir_GIT/paper/03_rnn/Braille_inference_Rockpool.ipynb#X52sZmlsZQ%3D%3D?line=1'>2</a>\u001b[0m Qspec\u001b[39m.\u001b[39mupdate(channel_quantize(\u001b[39m*\u001b[39m\u001b[39m*\u001b[39mQspec))\n\u001b[1;32m      <a href='vscode-notebook-cell:/Users/dylan/SynSense%20Dropbox/Dylan%20Muir/LiveSync/Development/Projects/nir/nir_GIT/paper/03_rnn/Braille_inference_Rockpool.ipynb#X52sZmlsZQ%3D%3D?line=2'>3</a>\u001b[0m Qspec\u001b[39m.\u001b[39mpop(\u001b[39m'\u001b[39m\u001b[39mmapped_graph\u001b[39m\u001b[39m'\u001b[39m)\n\u001b[0;32m----> <a href='vscode-notebook-cell:/Users/dylan/SynSense%20Dropbox/Dylan%20Muir/LiveSync/Development/Projects/nir/nir_GIT/paper/03_rnn/Braille_inference_Rockpool.ipynb#X52sZmlsZQ%3D%3D?line=4'>5</a>\u001b[0m config, is_valid, msg \u001b[39m=\u001b[39m config_from_specification(\u001b[39m*\u001b[39;49m\u001b[39m*\u001b[39;49mspec)\n\u001b[1;32m      <a href='vscode-notebook-cell:/Users/dylan/SynSense%20Dropbox/Dylan%20Muir/LiveSync/Development/Projects/nir/nir_GIT/paper/03_rnn/Braille_inference_Rockpool.ipynb#X52sZmlsZQ%3D%3D?line=6'>7</a>\u001b[0m \u001b[39mif\u001b[39;00m \u001b[39mnot\u001b[39;00m is_valid:\n\u001b[1;32m      <a href='vscode-notebook-cell:/Users/dylan/SynSense%20Dropbox/Dylan%20Muir/LiveSync/Development/Projects/nir/nir_GIT/paper/03_rnn/Braille_inference_Rockpool.ipynb#X52sZmlsZQ%3D%3D?line=7'>8</a>\u001b[0m     \u001b[39mprint\u001b[39m(msg)\n",
      "File \u001b[0;32m~/SynSense Dropbox/Dylan Muir/LiveSync/Development/Projects/nir/rockpool_nir/rockpool/devices/xylo/syns61201/xylo_samna.py:266\u001b[0m, in \u001b[0;36mconfig_from_specification\u001b[0;34m(weights_in, weights_out, weights_rec, dash_mem, dash_mem_out, dash_syn, dash_syn_2, dash_syn_out, threshold, threshold_out, bias_hidden, bias_out, weight_shift_in, weight_shift_rec, weight_shift_out, aliases, *args, **kwargs)\u001b[0m\n\u001b[1;32m    263\u001b[0m \u001b[39mif\u001b[39;00m aliases \u001b[39mis\u001b[39;00m \u001b[39mnot\u001b[39;00m \u001b[39mNone\u001b[39;00m \u001b[39mand\u001b[39;00m \u001b[39mlen\u001b[39m(aliases[i]) \u001b[39m>\u001b[39m \u001b[39m0\u001b[39m:\n\u001b[1;32m    264\u001b[0m     neuron\u001b[39m.\u001b[39malias_target \u001b[39m=\u001b[39m aliases[i][\u001b[39m0\u001b[39m]\n\u001b[0;32m--> 266\u001b[0m neuron\u001b[39m.\u001b[39;49mi_syn_decay \u001b[39m=\u001b[39m dash_syn[i]\n\u001b[1;32m    267\u001b[0m neuron\u001b[39m.\u001b[39mi_syn2_decay \u001b[39m=\u001b[39m dash_syn_2[i]\n\u001b[1;32m    268\u001b[0m neuron\u001b[39m.\u001b[39mv_mem_decay \u001b[39m=\u001b[39m dash_mem[i]\n",
      "\u001b[0;31mTypeError\u001b[0m: <class 'numpy.int8'> could not be casted to expected type (unsigned char), integer bounds [0,255]"
     ]
    }
   ],
   "source": [
    "Qspec = spec\n",
    "Qspec.update(channel_quantize(**Qspec))\n",
    "Qspec.pop('mapped_graph')\n",
    "\n",
    "config, is_valid, msg = config_from_specification(**spec)\n",
    "\n",
    "if not is_valid:\n",
    "    print(msg)"
   ]
  },
  {
   "cell_type": "code",
   "execution_count": 6,
   "metadata": {},
   "outputs": [
    {
     "data": {
      "text/plain": [
       "XyloSim  with shape (16, 1000, 8)"
      ]
     },
     "execution_count": 6,
     "metadata": {},
     "output_type": "execute_result"
    }
   ],
   "source": [
    "mod = XyloSim.from_config(config, dt = dt)\n",
    "mod"
   ]
  },
  {
   "cell_type": "code",
   "execution_count": 8,
   "metadata": {},
   "outputs": [],
   "source": [
    "### TEST DATA\n",
    "test_data_path = \"data/ds_test.pt\"\n",
    "ds_test = torch.load(test_data_path)\n",
    "letter_written = [\"Space\", \"A\", \"E\", \"I\", \"O\", \"U\", \"Y\"]\n"
   ]
  },
  {
   "cell_type": "code",
   "execution_count": 9,
   "metadata": {},
   "outputs": [
    {
     "name": "stdout",
     "output_type": "stream",
     "text": [
      "[  0 243   2 252   0   0 251]\n",
      "Predicted Label: 3\n",
      "Actual Label:    4\n"
     ]
    },
    {
     "data": {
      "image/png": "[encoded data removed]",
      "text/plain": [
       "<Figure size 640x480 with 1 Axes>"
      ]
     },
     "metadata": {},
     "output_type": "display_data"
    },
    {
     "name": "stdout",
     "output_type": "stream",
     "text": [
      "n_correct 0 out of 1\n"
     ]
    }
   ],
   "source": [
    "\n",
    "### RUN TESTS\n",
    "n_samples = 1  # dataset size: 140\n",
    "do_plot = True\n",
    "predicted_labels = []\n",
    "actual_labels = []\n",
    "\n",
    "for i in range(n_samples):\n",
    "    single_sample = next(iter(DataLoader(ds_test, batch_size=1, shuffle=True)))\n",
    "    sample = single_sample[0].numpy()[0]  # shape: (256, 12)\n",
    "\n",
    "    output, _, rec_dict = mod(sample, record = True)\n",
    "\n",
    "    spike_times, spike_channels = np.nonzero(output)\n",
    "    voltages = rec_dict['Vmem']\n",
    "\n",
    "    # print(spike_times)\n",
    "    # print(outp[0].params)\n",
    "\n",
    "    n_output_spikes = np.sum(output, axis=0)\n",
    "\n",
    "    print(n_output_spikes)\n",
    "    predicted_label = int(np.argmax(n_output_spikes))\n",
    "    actual_label = int(single_sample[1])\n",
    "    print(\"Predicted Label:\", predicted_label)\n",
    "    print(\"Actual Label:   \", actual_label)\n",
    "    predicted_labels.append(predicted_label)\n",
    "    actual_labels.append(actual_label)\n",
    "\n",
    "    if do_plot:\n",
    "        times = np.arange(np.shape(output)[0]) * dt\n",
    "        plt.plot(times, voltages)\n",
    "        plt.xlabel(\"time (s)\")\n",
    "        plt.ylabel(\"voltage\")\n",
    "        plt.show()\n",
    "\n",
    "predicted_labels = np.array(predicted_labels)\n",
    "actual_labels = np.array(actual_labels)\n",
    "n_correct = np.count_nonzero(predicted_labels == actual_labels)\n",
    "print(\"n_correct\", n_correct, \"out of\", n_samples)"
   ]
  },
  {
   "cell_type": "code",
   "execution_count": null,
   "metadata": {},
   "outputs": [],
   "source": []
  }
 ],
 "metadata": {
  "kernelspec": {
   "display_name": "env_NIR",
   "language": "python",
   "name": "python3"
  },
  "language_info": {
   "codemirror_mode": {
    "name": "ipython",
    "version": 3
   },
   "file_extension": ".py",
   "mimetype": "text/x-python",
   "name": "python",
   "nbconvert_exporter": "python",
   "pygments_lexer": "ipython3",
   "version": "3.8.18"
  },
  "orig_nbformat": 4
 },
 "nbformat": 4,
 "nbformat_minor": 2
}
