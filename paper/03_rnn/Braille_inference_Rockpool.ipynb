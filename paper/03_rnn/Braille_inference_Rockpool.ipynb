{
 "cells": [
  {
   "cell_type": "code",
   "execution_count": 1,
   "metadata": {},
   "outputs": [
    {
     "name": "stderr",
     "output_type": "stream",
     "text": [
      "/var/folders/w7/dpsq9mj54t7gg3nc3923pc0r0000gn/T/ipykernel_77409/2120281531.py:6: TqdmWarning: IProgress not found. Please update jupyter and ipywidgets. See https://ipywidgets.readthedocs.io/en/stable/user_install.html\n",
      "  from tqdm.autonotebook import trange\n"
     ]
    }
   ],
   "source": [
    "import numpy as np\n",
    "\n",
    "import torch\n",
    "from torch.utils.data import DataLoader, TensorDataset\n",
    "\n",
    "from tqdm.autonotebook import trange\n",
    "import time\n",
    "\n",
    "seed = 42\n",
    "np.random.seed(seed)\n",
    "torch.manual_seed(seed)\n",
    "torch.manual_seed(seed)\n",
    "torch.use_deterministic_algorithms(True)\n",
    "\n",
    "import matplotlib.pyplot as plt"
   ]
  },
  {
   "cell_type": "code",
   "execution_count": 2,
   "metadata": {},
   "outputs": [
    {
     "name": "stderr",
     "output_type": "stream",
     "text": [
      "/Users/dylan/SynSense Dropbox/Dylan Muir/LiveSync/Development/Projects/nir/rockpool_nir/rockpool/nn/modules/torch/linear_torch.py:111: UserWarning: To copy construct from a tensor, it is recommended to use sourceTensor.clone().detach() or sourceTensor.clone().detach().requires_grad_(True), rather than torch.tensor(sourceTensor).\n",
      "  torch.tensor(weight) if weight is not None else None,\n",
      "/Users/dylan/SynSense Dropbox/Dylan Muir/LiveSync/Development/Projects/nir/rockpool_nir/rockpool/nn/modules/torch/torch_module.py:258: UserWarning: To copy construct from a tensor, it is recommended to use sourceTensor.clone().detach() or sourceTensor.clone().detach().requires_grad_(True), rather than torch.tensor(sourceTensor).\n",
      "  super().register_parameter(key, nn.Parameter(torch.tensor(value.data)))\n",
      "/Users/dylan/SynSense Dropbox/Dylan Muir/LiveSync/Development/Projects/nir/rockpool_nir/rockpool/nn/modules/torch/nir.py:58: UserWarning: To copy construct from a tensor, it is recommended to use sourceTensor.clone().detach() or sourceTensor.clone().detach().requires_grad_(True), rather than torch.tensor(sourceTensor).\n",
      "  dt=torch.min(torch.tensor(_to_tensor(lif_node.tau_mem / (1+lif_node.r)))).item(),\n",
      "/Users/dylan/SynSense Dropbox/Dylan Muir/LiveSync/Development/Projects/nir/rockpool_nir/rockpool/nn/modules/torch/nir.py:65: UserWarning: Affine biases are not supported in recurrent LIF modules, on import from NIR.\n",
      "  warnings.warn('Affine biases are not supported in recurrent LIF modules, on import from NIR.')\n",
      "/Users/dylan/SynSense Dropbox/Dylan Muir/LiveSync/Development/Projects/nir/rockpool_nir/rockpool/nn/modules/torch/nir.py:91: UserWarning: To copy construct from a tensor, it is recommended to use sourceTensor.clone().detach() or sourceTensor.clone().detach().requires_grad_(True), rather than torch.tensor(sourceTensor).\n",
      "  dt=torch.min(torch.tensor(_to_tensor(node.tau_mem / (1+node.r)))).item(),\n"
     ]
    }
   ],
   "source": [
    "import nir\n",
    "from rockpool.nn.modules.torch.nir import from_nir, to_nir\n",
    "\n",
    "nirgraph = nir.read('braille_subtract_subgraph.nir')\n",
    "net = from_nir(nirgraph)"
   ]
  },
  {
   "cell_type": "code",
   "execution_count": 3,
   "metadata": {},
   "outputs": [
    {
     "data": {
      "text/plain": [
       "GraphExecutor(\n",
       "  (fc1): LinearTorch()\n",
       "  (fc2): LinearTorch()\n",
       "  (input): Identity()\n",
       "  (lif1): LIFTorch()\n",
       "  (lif2): LIFTorch()\n",
       "  (output): Identity()\n",
       ")"
      ]
     },
     "execution_count": 3,
     "metadata": {},
     "output_type": "execute_result"
    }
   ],
   "source": [
    "net"
   ]
  },
  {
   "cell_type": "code",
   "execution_count": 4,
   "metadata": {},
   "outputs": [],
   "source": [
    "# Impose common `dt`\n",
    "dt = 1e-4\n",
    "\n",
    "net.lif1.dt = dt\n",
    "net.lif2.dt = dt"
   ]
  },
  {
   "cell_type": "code",
   "execution_count": 5,
   "metadata": {},
   "outputs": [
    {
     "name": "stderr",
     "output_type": "stream",
     "text": [
      "/Users/dylan/SynSense Dropbox/Dylan Muir/LiveSync/Development/Projects/nir/rockpool_nir/rockpool/devices/xylo/syns61300/xylo_mapper.py:190: DRCWarning: Bias parameters of LinearWeights modules are *not* transferred to Xylo.\n",
      "Found weights LinearWeights \"LinearTorch__6424411920\" with 12 input nodes -> 55 output nodes with biases. Set `has_bias = False` for this module .\n",
      "  warnings.warn(\n",
      "/Users/dylan/SynSense Dropbox/Dylan Muir/LiveSync/Development/Projects/nir/rockpool_nir/rockpool/devices/xylo/syns61300/xylo_mapper.py:190: DRCWarning: Bias parameters of LinearWeights modules are *not* transferred to Xylo.\n",
      "Found weights LinearWeights \"LinearTorch__4615411312\" with 55 input nodes -> 7 output nodes with biases. Set `has_bias = False` for this module .\n",
      "  warnings.warn(\n"
     ]
    }
   ],
   "source": [
    "from rockpool.devices.xylo.syns61201 import mapper, config_from_specification, XyloSim, XyloSamna\n",
    "from rockpool.transform.quantize_methods import channel_quantize\n",
    "\n",
    "spec = mapper(net.as_graph())"
   ]
  },
  {
   "cell_type": "code",
   "execution_count": 6,
   "metadata": {},
   "outputs": [
    {
     "data": {
      "text/plain": [
       "GraphHolder \"GraphExecutor_6424757920\" with 12 input nodes -> 7 output nodes"
      ]
     },
     "execution_count": 6,
     "metadata": {},
     "output_type": "execute_result"
    }
   ],
   "source": [
    "Qspec = spec\n",
    "Qspec.update(channel_quantize(**Qspec))\n",
    "Qspec.pop('mapped_graph')"
   ]
  },
  {
   "cell_type": "code",
   "execution_count": 7,
   "metadata": {},
   "outputs": [
    {
     "data": {
      "text/plain": [
       "Parameter containing:\n",
       "tensor([0.0007, 0.0007, 0.0007, 0.0007, 0.0007, 0.0007, 0.0007, 0.0007, 0.0007,\n",
       "        0.0007, 0.0007, 0.0007, 0.0007, 0.0007, 0.0007, 0.0007, 0.0007, 0.0007,\n",
       "        0.0007, 0.0007, 0.0007, 0.0007, 0.0007, 0.0007, 0.0007, 0.0007, 0.0007,\n",
       "        0.0007, 0.0007, 0.0007, 0.0007, 0.0007, 0.0007, 0.0007, 0.0007, 0.0007,\n",
       "        0.0007, 0.0007, 0.0007, 0.0007, 0.0007, 0.0007, 0.0007, 0.0007, 0.0007,\n",
       "        0.0007, 0.0007, 0.0007, 0.0007, 0.0007, 0.0007, 0.0007, 0.0007, 0.0007,\n",
       "        0.0007], requires_grad=True)"
      ]
     },
     "execution_count": 7,
     "metadata": {},
     "output_type": "execute_result"
    }
   ],
   "source": [
    "net.lif1.tau_mem"
   ]
  },
  {
   "cell_type": "code",
   "execution_count": 8,
   "metadata": {},
   "outputs": [],
   "source": [
    "\n",
    "config, is_valid, msg = config_from_specification(**Qspec)\n",
    "\n",
    "if not is_valid:\n",
    "    print(msg)"
   ]
  },
  {
   "cell_type": "code",
   "execution_count": 9,
   "metadata": {},
   "outputs": [
    {
     "name": "stdout",
     "output_type": "stream",
     "text": [
      "The connected Xylo HDK contains a Xylo Audio v2 (SYNS61201). Importing `rockpool.devices.xylo.syns61201`\n"
     ]
    }
   ],
   "source": [
    "from rockpool.devices.xylo import find_xylo_hdks\n",
    "\n",
    "hdks, support_mods, _ = find_xylo_hdks()\n",
    "\n",
    "if len(hdks) > 0:\n",
    "    hdk = hdks[0]\n",
    "    evolve_args = {\"read_timeout\": 40., \"record_power\": True}\n",
    "    XyloModule = lambda config: support_mods[0].XyloSamna(hdk, config, dt = dt)\n",
    "else:\n",
    "    hdk = None\n",
    "    evolve_args = {}\n",
    "    XyloModule = lambda config: XyloSim.from_config(config, dt = dt)"
   ]
  },
  {
   "cell_type": "code",
   "execution_count": 10,
   "metadata": {},
   "outputs": [
    {
     "name": "stderr",
     "output_type": "stream",
     "text": [
      "[2023-10-25 15:58:03.889] [Graph] [warning] Graph is destroyed without any start! Graph is required to start manually to work.\n",
      "[2023-10-25 15:58:03.889] [Graph] [warning] Graph is destroyed without any start! Graph is required to start manually to work.\n",
      "[2023-10-25 15:58:03.889] [Graph] [warning] Graph is destroyed without any start! Graph is required to start manually to work.\n",
      "[2023-10-25 15:58:05.591] [Graph] [warning] Graph is destroyed without any start! Graph is required to start manually to work.\n"
     ]
    },
    {
     "data": {
      "text/plain": [
       "XyloSamna  with shape (12, 55, 7)"
      ]
     },
     "execution_count": 10,
     "metadata": {},
     "output_type": "execute_result"
    }
   ],
   "source": [
    "mod = XyloModule(config)\n",
    "mod"
   ]
  },
  {
   "cell_type": "code",
   "execution_count": 11,
   "metadata": {},
   "outputs": [],
   "source": [
    "### TEST DATA\n",
    "test_data_path = \"data/ds_test.pt\"\n",
    "ds_test = torch.load(test_data_path)\n",
    "letter_written = [\"Space\", \"A\", \"E\", \"I\", \"O\", \"U\", \"Y\"]\n"
   ]
  },
  {
   "cell_type": "code",
   "execution_count": 12,
   "metadata": {},
   "outputs": [
    {
     "name": "stderr",
     "output_type": "stream",
     "text": [
      "100%|██████████| 140/140 [00:22<00:00,  6.36it/s]"
     ]
    },
    {
     "name": "stdout",
     "output_type": "stream",
     "text": [
      "n_correct 58 out of 140 (41.42857142857143%)\n"
     ]
    },
    {
     "name": "stderr",
     "output_type": "stream",
     "text": [
      "\n"
     ]
    }
   ],
   "source": [
    "\n",
    "### RUN TESTS\n",
    "n_samples = len(ds_test)  # dataset size: 140\n",
    "predicted_labels = []\n",
    "actual_labels = []\n",
    "\n",
    "for i in trange(n_samples):\n",
    "    single_sample = next(iter(DataLoader(ds_test, batch_size=1, shuffle=True)))\n",
    "    sample = single_sample[0].numpy()[0].astype(int)  # shape: (256, 12)\n",
    "\n",
    "    output, _, rec_dict = mod(sample, record = False, **evolve_args)\n",
    "    n_output_spikes = np.sum(output, axis=0)\n",
    "\n",
    "    predicted_label = int(np.argmax(n_output_spikes))\n",
    "    actual_label = int(single_sample[1])\n",
    "    # print(\"Predicted Label:\", predicted_label)\n",
    "    # print(\"Actual Label:   \", actual_label)\n",
    "    predicted_labels.append(predicted_label)\n",
    "    actual_labels.append(actual_label)\n",
    "\n",
    "predicted_labels = np.array(predicted_labels)\n",
    "actual_labels = np.array(actual_labels)\n",
    "n_correct = np.count_nonzero(predicted_labels == actual_labels)\n",
    "print(f\"n_correct {n_correct} out of {n_samples} ({n_correct / n_samples * 100.}%)\")"
   ]
  },
  {
   "cell_type": "code",
   "execution_count": 13,
   "metadata": {},
   "outputs": [],
   "source": [
    "# Save results\n",
    "np.save('Xylo_accuracy_subtract.npy', n_correct / n_samples)\n",
    "\n",
    "test_sample = torch.load(\"data/ds_test.pt\")[0][0]\n",
    "_, _, rec_dict = mod(sample, record = True, **evolve_args)\n",
    "\n",
    "np.save('Xylo_activity_subtract.npy', rec_dict['Spikes'])"
   ]
  },
  {
   "cell_type": "code",
   "execution_count": 14,
   "metadata": {},
   "outputs": [
    {
     "name": "stdout",
     "output_type": "stream",
     "text": [
      "Xylo clock freq: 6.25 MHz\n"
     ]
    }
   ],
   "source": [
    "# Power measurement\n",
    "clk = support_mods[0].xa2_devkit_utils.set_xylo_core_clock_freq(hdk, 6.25)\n",
    "print(f'Xylo clock freq: {clk} MHz')\n",
    "\n",
    "NT = 10\n",
    "start = time.time()\n",
    "_, _, rec_dict = mod(np.repeat(sample, NT, axis = 0), record = False, **evolve_args)\n",
    "inf_time = time.time() - start\n"
   ]
  },
  {
   "cell_type": "code",
   "execution_count": 16,
   "metadata": {},
   "outputs": [
    {
     "name": "stdout",
     "output_type": "stream",
     "text": [
      "Inference logic power: 278.62548828125006 uW\n",
      "Inference time: 1.7315008640289307s\n",
      "Energy per sample: 48.24402736994672 uJ\n"
     ]
    }
   ],
   "source": [
    "print(f\"Inference logic power: {np.mean(rec_dict['logic_power'] * 1e6)} uW\")\n",
    "print(f\"Inference time: {inf_time}s\")\n",
    "print(f\"Energy per sample: {np.mean(rec_dict['logic_power'] * 1e6) * inf_time / NT} uJ\")"
   ]
  }
 ],
 "metadata": {
  "kernelspec": {
   "display_name": "env_NIR",
   "language": "python",
   "name": "python3"
  },
  "language_info": {
   "codemirror_mode": {
    "name": "ipython",
    "version": 3
   },
   "file_extension": ".py",
   "mimetype": "text/x-python",
   "name": "python",
   "nbconvert_exporter": "python",
   "pygments_lexer": "ipython3",
   "version": "3.8.18"
  },
  "orig_nbformat": 4
 },
 "nbformat": 4,
 "nbformat_minor": 2
}
