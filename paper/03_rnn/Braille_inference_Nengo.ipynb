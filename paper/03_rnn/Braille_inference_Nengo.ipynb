{
 "cells": [
  {
   "cell_type": "code",
   "execution_count": 1,
   "metadata": {},
   "outputs": [],
   "source": [
    "%matplotlib inline\n",
    "import matplotlib.pyplot as plt\n",
    "\n",
    "import sys\n",
    "sys.path.append('../..')"
   ]
  },
  {
   "cell_type": "code",
   "execution_count": 14,
   "metadata": {},
   "outputs": [],
   "source": [
    "import nir\n",
    "\n",
    "#### Change this to run the different model types\n",
    "#model_type = 'noDelay_bias_zero'\n",
    "model_type = 'noDelay_noBias_subtract'\n",
    "\n",
    "\n",
    "\n",
    "graph = nir.read(f'braille_{model_type}.nir')\n",
    "\n",
    "\n",
    "\n",
    "import nir_to_nengo\n",
    "import importlib\n",
    "importlib.reload(nir_to_nengo);"
   ]
  },
  {
   "cell_type": "code",
   "execution_count": 15,
   "metadata": {},
   "outputs": [],
   "source": [
    "import torch\n",
    "test_data_path = \"data/ds_test.pt\"\n",
    "ds_test = torch.load(test_data_path)"
   ]
  },
  {
   "cell_type": "code",
   "execution_count": 16,
   "metadata": {},
   "outputs": [],
   "source": [
    "from torch.utils.data import DataLoader\n",
    "loader = DataLoader(ds_test, batch_size=1, shuffle=False, drop_last=False)"
   ]
  },
  {
   "cell_type": "code",
   "execution_count": 17,
   "metadata": {
    "scrolled": false
   },
   "outputs": [
    {
     "name": "stdout",
     "output_type": "stream",
     "text": [
      "  0/140  target: 1   output: 1  accuracy: 1.0\n"
     ]
    },
    {
     "data": {
      "image/png": "[encoded data removed]",
      "text/plain": [
       "<Figure size 1008x360 with 2 Axes>"
      ]
     },
     "metadata": {
      "needs_background": "light"
     },
     "output_type": "display_data"
    },
    {
     "name": "stdout",
     "output_type": "stream",
     "text": [
      "  1/140  target: 3   output: 3  accuracy: 1.0\n",
      "  2/140  target: 2   output: 3  accuracy: 0.6666666666666666\n",
      "  3/140  target: 2   output: 2  accuracy: 0.75\n",
      "  4/140  target: 6   output: 6  accuracy: 0.8\n",
      "  5/140  target: 1   output: 1  accuracy: 0.8333333333333334\n",
      "  6/140  target: 1   output: 1  accuracy: 0.8571428571428571\n",
      "  7/140  target: 3   output: 3  accuracy: 0.875\n",
      "  8/140  target: 4   output: 2  accuracy: 0.7777777777777778\n",
      "  9/140  target: 5   output: 5  accuracy: 0.8\n",
      " 10/140  target: 4   output: 1  accuracy: 0.7272727272727273\n",
      " 11/140  target: 0   output: 0  accuracy: 0.75\n",
      " 12/140  target: 5   output: 5  accuracy: 0.7692307692307693\n",
      " 13/140  target: 5   output: 5  accuracy: 0.7857142857142857\n",
      " 14/140  target: 0   output: 0  accuracy: 0.8\n",
      " 15/140  target: 2   output: 3  accuracy: 0.75\n",
      " 16/140  target: 4   output: 4  accuracy: 0.7647058823529411\n",
      " 17/140  target: 3   output: 3  accuracy: 0.7777777777777778\n",
      " 18/140  target: 1   output: 1  accuracy: 0.7894736842105263\n",
      " 19/140  target: 2   output: 1  accuracy: 0.75\n",
      " 20/140  target: 5   output: 6  accuracy: 0.7142857142857143\n",
      " 21/140  target: 2   output: 3  accuracy: 0.6818181818181818\n",
      " 22/140  target: 4   output: 3  accuracy: 0.6521739130434783\n",
      " 23/140  target: 6   output: 6  accuracy: 0.6666666666666666\n",
      " 24/140  target: 2   output: 4  accuracy: 0.64\n",
      " 25/140  target: 2   output: 3  accuracy: 0.6153846153846154\n",
      " 26/140  target: 4   output: 3  accuracy: 0.5925925925925926\n",
      " 27/140  target: 1   output: 1  accuracy: 0.6071428571428571\n",
      " 28/140  target: 4   output: 1  accuracy: 0.5862068965517241\n",
      " 29/140  target: 4   output: 4  accuracy: 0.6\n",
      " 30/140  target: 1   output: 1  accuracy: 0.6129032258064516\n",
      " 31/140  target: 3   output: 3  accuracy: 0.625\n",
      " 32/140  target: 2   output: 2  accuracy: 0.6363636363636364\n",
      " 33/140  target: 0   output: 0  accuracy: 0.6470588235294118\n",
      " 34/140  target: 4   output: 4  accuracy: 0.6571428571428571\n",
      " 35/140  target: 5   output: 6  accuracy: 0.6388888888888888\n",
      " 36/140  target: 1   output: 1  accuracy: 0.6486486486486487\n",
      " 37/140  target: 0   output: 0  accuracy: 0.6578947368421053\n",
      " 38/140  target: 3   output: 3  accuracy: 0.6666666666666666\n",
      " 39/140  target: 5   output: 5  accuracy: 0.675\n",
      " 40/140  target: 1   output: 1  accuracy: 0.6829268292682927\n",
      " 41/140  target: 2   output: 3  accuracy: 0.6666666666666666\n",
      " 42/140  target: 0   output: 0  accuracy: 0.6744186046511628\n",
      " 43/140  target: 4   output: 4  accuracy: 0.6818181818181818\n",
      " 44/140  target: 5   output: 5  accuracy: 0.6888888888888889\n",
      " 45/140  target: 4   output: 4  accuracy: 0.6956521739130435\n",
      " 46/140  target: 5   output: 5  accuracy: 0.7021276595744681\n",
      " 47/140  target: 6   output: 6  accuracy: 0.7083333333333334\n",
      " 48/140  target: 6   output: 6  accuracy: 0.7142857142857143\n",
      " 49/140  target: 1   output: 1  accuracy: 0.72\n",
      " 50/140  target: 4   output: 4  accuracy: 0.7254901960784313\n",
      " 51/140  target: 5   output: 5  accuracy: 0.7307692307692307\n",
      " 52/140  target: 0   output: 0  accuracy: 0.7358490566037735\n",
      " 53/140  target: 2   output: 2  accuracy: 0.7407407407407407\n",
      " 54/140  target: 3   output: 3  accuracy: 0.7454545454545455\n",
      " 55/140  target: 4   output: 4  accuracy: 0.75\n",
      " 56/140  target: 5   output: 6  accuracy: 0.7368421052631579\n",
      " 57/140  target: 0   output: 0  accuracy: 0.7413793103448276\n",
      " 58/140  target: 2   output: 1  accuracy: 0.7288135593220338\n",
      " 59/140  target: 5   output: 6  accuracy: 0.7166666666666667\n",
      " 60/140  target: 5   output: 6  accuracy: 0.7049180327868853\n",
      " 61/140  target: 5   output: 5  accuracy: 0.7096774193548387\n",
      " 62/140  target: 6   output: 6  accuracy: 0.7142857142857143\n",
      " 63/140  target: 5   output: 6  accuracy: 0.703125\n",
      " 64/140  target: 6   output: 6  accuracy: 0.7076923076923077\n",
      " 65/140  target: 4   output: 1  accuracy: 0.696969696969697\n",
      " 66/140  target: 1   output: 1  accuracy: 0.7014925373134329\n",
      " 67/140  target: 2   output: 2  accuracy: 0.7058823529411765\n",
      " 68/140  target: 6   output: 6  accuracy: 0.7101449275362319\n",
      " 69/140  target: 1   output: 1  accuracy: 0.7142857142857143\n",
      " 70/140  target: 0   output: 0  accuracy: 0.7183098591549296\n",
      " 71/140  target: 0   output: 0  accuracy: 0.7222222222222222\n",
      " 72/140  target: 6   output: 6  accuracy: 0.726027397260274\n",
      " 73/140  target: 4   output: 2  accuracy: 0.7162162162162162\n",
      " 74/140  target: 0   output: 5  accuracy: 0.7066666666666667\n",
      " 75/140  target: 3   output: 3  accuracy: 0.7105263157894737\n",
      " 76/140  target: 3   output: 3  accuracy: 0.7142857142857143\n",
      " 77/140  target: 0   output: 0  accuracy: 0.717948717948718\n",
      " 78/140  target: 1   output: 1  accuracy: 0.7215189873417721\n",
      " 79/140  target: 6   output: 6  accuracy: 0.725\n",
      " 80/140  target: 2   output: 3  accuracy: 0.7160493827160493\n",
      " 81/140  target: 0   output: 0  accuracy: 0.7195121951219512\n",
      " 82/140  target: 3   output: 3  accuracy: 0.7228915662650602\n",
      " 83/140  target: 1   output: 1  accuracy: 0.7261904761904762\n",
      " 84/140  target: 0   output: 0  accuracy: 0.7294117647058823\n",
      " 85/140  target: 1   output: 1  accuracy: 0.7325581395348837\n",
      " 86/140  target: 2   output: 2  accuracy: 0.735632183908046\n",
      " 87/140  target: 0   output: 0  accuracy: 0.7386363636363636\n",
      " 88/140  target: 3   output: 3  accuracy: 0.7415730337078652\n",
      " 89/140  target: 0   output: 5  accuracy: 0.7333333333333333\n",
      " 90/140  target: 0   output: 0  accuracy: 0.7362637362637363\n",
      " 91/140  target: 0   output: 0  accuracy: 0.7391304347826086\n",
      " 92/140  target: 4   output: 2  accuracy: 0.7311827956989247\n",
      " 93/140  target: 6   output: 6  accuracy: 0.7340425531914894\n",
      " 94/140  target: 1   output: 1  accuracy: 0.7368421052631579\n",
      " 95/140  target: 3   output: 6  accuracy: 0.7291666666666666\n",
      " 96/140  target: 2   output: 2  accuracy: 0.7319587628865979\n",
      " 97/140  target: 5   output: 5  accuracy: 0.7346938775510204\n",
      " 98/140  target: 2   output: 2  accuracy: 0.7373737373737373\n",
      " 99/140  target: 6   output: 6  accuracy: 0.74\n",
      "100/140  target: 0   output: 0  accuracy: 0.7425742574257426\n",
      "101/140  target: 5   output: 5  accuracy: 0.7450980392156863\n",
      "102/140  target: 5   output: 6  accuracy: 0.7378640776699029\n",
      "103/140  target: 0   output: 0  accuracy: 0.7403846153846154\n",
      "104/140  target: 3   output: 3  accuracy: 0.7428571428571429\n",
      "105/140  target: 1   output: 1  accuracy: 0.7452830188679245\n",
      "106/140  target: 6   output: 6  accuracy: 0.7476635514018691\n",
      "107/140  target: 6   output: 6  accuracy: 0.75\n",
      "108/140  target: 3   output: 3  accuracy: 0.7522935779816514\n",
      "109/140  target: 2   output: 2  accuracy: 0.7545454545454545\n",
      "110/140  target: 4   output: 4  accuracy: 0.7567567567567568\n",
      "111/140  target: 4   output: 4  accuracy: 0.7589285714285714\n",
      "112/140  target: 6   output: 6  accuracy: 0.7610619469026548\n",
      "113/140  target: 3   output: 3  accuracy: 0.7631578947368421\n",
      "114/140  target: 6   output: 6  accuracy: 0.7652173913043478\n",
      "115/140  target: 2   output: 1  accuracy: 0.7586206896551724\n",
      "116/140  target: 2   output: 2  accuracy: 0.7606837606837606\n",
      "117/140  target: 5   output: 5  accuracy: 0.7627118644067796\n",
      "118/140  target: 3   output: 6  accuracy: 0.7563025210084033\n",
      "119/140  target: 6   output: 6  accuracy: 0.7583333333333333\n",
      "120/140  target: 2   output: 2  accuracy: 0.7603305785123967\n",
      "121/140  target: 1   output: 1  accuracy: 0.7622950819672131\n",
      "122/140  target: 3   output: 3  accuracy: 0.7642276422764228\n",
      "123/140  target: 6   output: 6  accuracy: 0.7661290322580645\n",
      "124/140  target: 5   output: 5  accuracy: 0.768\n",
      "125/140  target: 4   output: 4  accuracy: 0.7698412698412699\n",
      "126/140  target: 5   output: 5  accuracy: 0.7716535433070866\n",
      "127/140  target: 4   output: 4  accuracy: 0.7734375\n",
      "128/140  target: 1   output: 1  accuracy: 0.7751937984496124\n",
      "129/140  target: 6   output: 6  accuracy: 0.7769230769230769\n",
      "130/140  target: 3   output: 3  accuracy: 0.7786259541984732\n",
      "131/140  target: 0   output: 5  accuracy: 0.7727272727272727\n",
      "132/140  target: 3   output: 3  accuracy: 0.7744360902255639\n",
      "133/140  target: 6   output: 6  accuracy: 0.7761194029850746\n",
      "134/140  target: 3   output: 3  accuracy: 0.7777777777777778\n",
      "135/140  target: 1   output: 1  accuracy: 0.7794117647058824\n",
      "136/140  target: 6   output: 6  accuracy: 0.781021897810219\n",
      "137/140  target: 4   output: 4  accuracy: 0.782608695652174\n",
      "138/140  target: 3   output: 3  accuracy: 0.7841726618705036\n",
      "139/140  target: 1   output: 1  accuracy: 0.7857142857142857\n"
     ]
    }
   ],
   "source": [
    "import nengo\n",
    "import numpy as np\n",
    "\n",
    "dt = 1e-4\n",
    "\n",
    "targets = np.empty(len(loader))\n",
    "outputs = np.empty(len(loader))\n",
    "\n",
    "for i, (data, labels) in enumerate(loader):\n",
    "    d = data.detach().numpy()[0]\n",
    "    label = labels.detach().numpy()[0]\n",
    "    model = nengo.Network()\n",
    "    with model:\n",
    "        model2, nengo_map = nir_to_nengo.nir_to_nengo(graph, dt=dt)\n",
    "        \n",
    "        stim = nengo.Node(nengo.processes.PresentInput(d, presentation_time=dt))\n",
    "        nengo.Connection(stim, nengo_map['input'], synapse=None, transform=1)\n",
    "        p_input = nengo.Probe(nengo_map['input'])\n",
    "        p_output = nengo.Probe(nengo_map['output'])\n",
    "        p_lif1 = nengo.Probe(nengo_map['lif1.lif'])\n",
    "        \n",
    "    sim = nengo.Simulator(model, progress_bar=False, dt=dt)\n",
    "    sim.run(dt*256)\n",
    "    output = np.argmax(np.mean(sim.data[p_output], axis=0))\n",
    "    \n",
    "    targets[i] = label\n",
    "    outputs[i] = output\n",
    "    \n",
    "    accuracy = np.mean(targets[:i+1]==outputs[:i+1])\n",
    "    \n",
    "    print(f'{i:3d}/{len(targets)}  target: {label}   output: {output}  accuracy: {accuracy}')\n",
    "    \n",
    "    if i==0:\n",
    "        norse = np.load(f'norse_activity_{model_type}.npy')\n",
    "\n",
    "        plt.figure(figsize=(14,5))\n",
    "        plt.subplot(1, 2, 1)\n",
    "        plt.imshow(norse.T, aspect='auto', interpolation='nearest')\n",
    "        plt.title('Norse')\n",
    "        plt.subplot(1, 2, 2)\n",
    "        plt.title('Nengo')\n",
    "        plt.imshow(sim.data[p_lif1].T, aspect='auto', interpolation='nearest')\n",
    "        plt.show()\n",
    "        \n",
    "        np.save(f\"nengo_activity_{model_type}.npy\", sim.data[p_lif1].reshape((256,-1)))\n",
    "        \n",
    "np.save(f\"nengo_accuracy_{model_type}.npy\", accuracy)"
   ]
  },
  {
   "cell_type": "code",
   "execution_count": 18,
   "metadata": {},
   "outputs": [
    {
     "data": {
      "text/plain": [
       "array([[17.,  0.,  0.,  0.,  0.,  3.,  0.],\n",
       "       [ 0., 20.,  0.,  0.,  0.,  0.,  0.],\n",
       "       [ 0.,  3., 10.,  6.,  1.,  0.,  0.],\n",
       "       [ 0.,  0.,  0., 18.,  0.,  0.,  2.],\n",
       "       [ 0.,  3.,  3.,  2., 12.,  0.,  0.],\n",
       "       [ 0.,  0.,  0.,  0.,  0., 13.,  7.],\n",
       "       [ 0.,  0.,  0.,  0.,  0.,  0., 20.]])"
      ]
     },
     "execution_count": 18,
     "metadata": {},
     "output_type": "execute_result"
    }
   ],
   "source": [
    "confusion = np.zeros((7,7))\n",
    "np.add.at(confusion, (targets.astype(int),outputs.astype(int)), 1)\n",
    "confusion"
   ]
  },
  {
   "cell_type": "code",
   "execution_count": null,
   "metadata": {},
   "outputs": [],
   "source": []
  }
 ],
 "metadata": {
  "kernelspec": {
   "display_name": "Python 3",
   "language": "python",
   "name": "python3"
  },
  "language_info": {
   "codemirror_mode": {
    "name": "ipython",
    "version": 3
   },
   "file_extension": ".py",
   "mimetype": "text/x-python",
   "name": "python",
   "nbconvert_exporter": "python",
   "pygments_lexer": "ipython3",
   "version": "3.8.5"
  }
 },
 "nbformat": 4,
 "nbformat_minor": 4
}
