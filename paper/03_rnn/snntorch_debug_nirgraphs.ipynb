{
 "cells": [
  {
   "cell_type": "code",
   "execution_count": 1,
   "metadata": {},
   "outputs": [],
   "source": [
    "import nir\n",
    "import numpy as np"
   ]
  },
  {
   "cell_type": "code",
   "execution_count": 2,
   "metadata": {},
   "outputs": [],
   "source": [
    "ng1 = nir.read('braille_v2.nir')\n",
    "ng2 = nir.read('braille_v2a.nir')"
   ]
  },
  {
   "cell_type": "code",
   "execution_count": 4,
   "metadata": {},
   "outputs": [
    {
     "data": {
      "text/plain": [
       "True"
      ]
     },
     "execution_count": 4,
     "metadata": {},
     "output_type": "execute_result"
    }
   ],
   "source": [
    "sorted(ng1.edges) == sorted([('lif2', 'output'), ('input', 'fc1'), ('fc2', 'lif2'), \n",
    "                             ('lif1.lif', 'lif1.w_rec'), ('lif1.w_rec', 'lif1.lif'),\n",
    "                             ('fc1', 'lif1.lif'), ('lif1.lif', 'fc2')])"
   ]
  },
  {
   "cell_type": "code",
   "execution_count": 5,
   "metadata": {},
   "outputs": [
    {
     "name": "stdout",
     "output_type": "stream",
     "text": [
      "edges:      True\n",
      "node keys:  True\n",
      "node types: True\n"
     ]
    }
   ],
   "source": [
    "print(f'edges:      {ng1.edges == ng2.edges}')\n",
    "print(f'node keys:  {sorted(list(ng1.nodes.keys())) == sorted(list(ng2.nodes.keys()))}')\n",
    "print(f'node types: {list(map(type, list(ng1.nodes.values()))) == list(map(type, list(ng2.nodes.values())))}')"
   ]
  },
  {
   "cell_type": "code",
   "execution_count": 6,
   "metadata": {},
   "outputs": [],
   "source": [
    "assert sorted(ng1.edges) == sorted(ng2.edges)\n",
    "assert sorted(list(ng1.nodes.keys())) == sorted(list(ng2.nodes.keys()))"
   ]
  },
  {
   "cell_type": "code",
   "execution_count": 7,
   "metadata": {},
   "outputs": [
    {
     "data": {
      "text/plain": [
       "True"
      ]
     },
     "execution_count": 7,
     "metadata": {},
     "output_type": "execute_result"
    }
   ],
   "source": [
    "ng1._check_types()"
   ]
  },
  {
   "cell_type": "code",
   "execution_count": 8,
   "metadata": {},
   "outputs": [
    {
     "data": {
      "text/plain": [
       "True"
      ]
     },
     "execution_count": 8,
     "metadata": {},
     "output_type": "execute_result"
    }
   ],
   "source": [
    "ng2._check_types()"
   ]
  },
  {
   "cell_type": "code",
   "execution_count": 10,
   "metadata": {},
   "outputs": [],
   "source": [
    "for nk in ng1.nodes.keys():\n",
    "    assert type(ng1.nodes[nk]) == type(ng2.nodes[nk])\n",
    "    assert sorted(ng1.nodes[nk].__dict__.keys()) == sorted(ng2.nodes[nk].__dict__.keys())\n",
    "    for k in ng1.nodes[nk].__dict__:\n",
    "        if isinstance(ng1.nodes[nk].__dict__[k], np.ndarray):\n",
    "            # assert np.allclose(ng1.nodes[nk].__dict__[k], ng2.nodes[nk].__dict__[k])\n",
    "            if not np.allclose(ng1.nodes[nk].__dict__[k], ng2.nodes[nk].__dict__[k]):\n",
    "                print('[DIFF] array', nk, k)\n",
    "        elif isinstance(ng1.nodes[nk].__dict__[k], dict):\n",
    "            assert sorted(ng1.nodes[nk].__dict__[k].keys()) == sorted(ng2.nodes[nk].__dict__[k].keys())\n",
    "            for k2 in ng1.nodes[nk].__dict__[k].keys():\n",
    "                assert isinstance(ng1.nodes[nk].__dict__[k][k2], np.ndarray)\n",
    "                if not np.allclose(ng1.nodes[nk].__dict__[k][k2], ng2.nodes[nk].__dict__[k][k2]):\n",
    "                    print('[DIFF] dict', nk, k, k2)\n",
    "                    print(f'\\t{ng1.nodes[nk].__dict__[k][k2]} vs. {ng2.nodes[nk].__dict__[k][k2]}')\n",
    "        else:\n",
    "            print('unknown type!!', type(ng1.nodes[nk].__dict__[k]), nk, k)"
   ]
  },
  {
   "cell_type": "code",
   "execution_count": null,
   "metadata": {},
   "outputs": [],
   "source": []
  }
 ],
 "metadata": {
  "kernelspec": {
   "display_name": ".newvenv",
   "language": "python",
   "name": "python3"
  },
  "language_info": {
   "codemirror_mode": {
    "name": "ipython",
    "version": 3
   },
   "file_extension": ".py",
   "mimetype": "text/x-python",
   "name": "python",
   "nbconvert_exporter": "python",
   "pygments_lexer": "ipython3",
   "version": "3.8.10"
  },
  "orig_nbformat": 4
 },
 "nbformat": 4,
 "nbformat_minor": 2
}
