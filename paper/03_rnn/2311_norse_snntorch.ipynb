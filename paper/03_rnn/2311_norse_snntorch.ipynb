{
 "cells": [
  {
   "cell_type": "code",
   "execution_count": 19,
   "id": "e6f9a512-706a-4d9f-a3d9-004d7800a37e",
   "metadata": {},
   "outputs": [
    {
     "data": {
      "text/plain": [
       "<module 'norse' from '/home/jens/work/norse/norse/__init__.py'>"
      ]
     },
     "execution_count": 19,
     "metadata": {},
     "output_type": "execute_result"
    }
   ],
   "source": [
    "import torch\n",
    "import norse\n",
    "import snntorch\n",
    "import snntorch.import_nirtorch\n",
    "import nir\n",
    "import importlib\n",
    "importlib.reload(norse)"
   ]
  },
  {
   "cell_type": "code",
   "execution_count": 65,
   "id": "6626645d-43ff-424d-a2e5-85ef79f378eb",
   "metadata": {},
   "outputs": [
    {
     "name": "stdout",
     "output_type": "stream",
     "text": [
      "replace rnn subgraph with nirgraph\n"
     ]
    }
   ],
   "source": [
    "nir_graph = nir.read(\"braille_noDelay_bias_zero.nir\")\n",
    "net = snntorch.import_nirtorch.from_nir(nir_graph)"
   ]
  },
  {
   "cell_type": "code",
   "execution_count": 98,
   "id": "fbc7f1b2-b8a9-4ff4-822c-5d251fb2a758",
   "metadata": {},
   "outputs": [
    {
     "data": {
      "text/plain": [
       "torch.Size([256, 38])"
      ]
     },
     "execution_count": 98,
     "metadata": {},
     "output_type": "execute_result"
    }
   ],
   "source": [
    "test_data_path = \"data/ds_test.pt\"\n",
    "ds_test = torch.load(test_data_path)\n",
    "data = net.fc1(ds_test[0][0])\n",
    "data.shape"
   ]
  },
  {
   "cell_type": "code",
   "execution_count": 101,
   "id": "8ce98491-8f9c-4eb6-bfc8-c9146b6f6d03",
   "metadata": {},
   "outputs": [
    {
     "data": {
      "text/plain": [
       "RSynaptic(\n",
       "  (recurrent): Linear(in_features=38, out_features=38, bias=True)\n",
       ")"
      ]
     },
     "execution_count": 101,
     "metadata": {},
     "output_type": "execute_result"
    }
   ],
   "source": [
    "c = net.lif1\n",
    "spk, syn, mem = c.init_rsynaptic()\n",
    "# c.recurrent.bias.data.fill_(0)\n",
    "c"
   ]
  },
  {
   "cell_type": "code",
   "execution_count": 102,
   "id": "aee721ff-f8c1-4924-a6fd-a690cc03ba4c",
   "metadata": {},
   "outputs": [
    {
     "data": {
      "text/plain": [
       "(tensor([0., 0., 0., 0., 0., 0., 0., 0., 0., 0., 0., 0., 0., 0., 0., 0., 0., 0., 0., 0., 0., 0., 0., 0.,\n",
       "         0., 0., 0., 0., 0., 0., 0., 0., 0., 0., 0., 0., 0., 0.],\n",
       "        grad_fn=<MulBackward0>),\n",
       " tensor([ 0.0650, -0.3780,  0.3210, -0.8547, -1.2234, -0.0975, -0.4730, -1.8350,\n",
       "         -1.5277, -3.3729,  0.0066, -1.8141, -0.4551, -0.3952,  0.1220, -0.4740,\n",
       "         -0.4608, -0.6093, -2.6107,  0.2287, -1.1192, -2.6595, -0.8132, -0.4155,\n",
       "         -0.8495,  0.1084, -0.7751, -0.0655, -2.4296, -0.4946, -1.4717, -0.6609,\n",
       "          0.1681,  0.2094, -0.5678, -0.6838, -0.3878,  0.1772],\n",
       "        grad_fn=<SubBackward0>),\n",
       " tensor([ 0.0650, -0.3780,  0.3210, -0.8547, -1.2234, -0.0975, -0.4730, -1.8350,\n",
       "         -1.5277, -3.3729,  0.0066, -1.8141, -0.4551, -0.3952,  0.1220, -0.4740,\n",
       "         -0.4608, -0.6093, -2.6107,  0.2287, -1.1192, -2.6595, -0.8132, -0.4155,\n",
       "         -0.8495,  0.1084, -0.7751, -0.0655, -2.4296, -0.4946, -1.4717, -0.6609,\n",
       "          0.1681,  0.2094, -0.5678, -0.6838, -0.3878,  0.1772],\n",
       "        grad_fn=<SubBackward0>))"
      ]
     },
     "execution_count": 102,
     "metadata": {},
     "output_type": "execute_result"
    }
   ],
   "source": [
    "spk, syn, mem = c(data[0], spk, syn, mem)\n",
    "spk, syn, mem"
   ]
  },
  {
   "cell_type": "code",
   "execution_count": 103,
   "id": "628ca37c-22fb-4f9f-967d-b3bcf1531ada",
   "metadata": {},
   "outputs": [
    {
     "data": {
      "text/plain": [
       "(tensor([0., 0., 0., 0., 0., 0., 0., 0., 0., 0., 0., 0., 0., 0., 0., 0., 0., 0., 0., 0., 0., 0., 0., 0.,\n",
       "         0., 0., 0., 0., 0., 0., 0., 0., 0., 0., 0., 0., 0., 0.],\n",
       "        grad_fn=<MulBackward0>),\n",
       " tensor([ 0.1008, -0.5860,  0.4976, -1.3248, -1.8963, -0.1512, -0.7332, -2.8443,\n",
       "         -2.3679, -5.2280,  0.0103, -2.8119, -0.7054, -0.6125,  0.1890, -0.7348,\n",
       "         -0.7142, -0.9445, -4.0467,  0.3545, -1.7347, -4.1222, -1.2604, -0.6440,\n",
       "         -1.3167,  0.1681, -1.2013, -0.1015, -3.7659, -0.7667, -2.2812, -1.0244,\n",
       "          0.2605,  0.3246, -0.8800, -1.0598, -0.6011,  0.2747],\n",
       "        grad_fn=<SubBackward0>),\n",
       " tensor([ 0.1594, -0.9262,  0.7865, -2.0941, -2.9973, -0.2389, -1.1589, -4.4958,\n",
       "         -3.7427, -8.2636,  0.0162, -4.4446, -1.1150, -0.9682,  0.2988, -1.1614,\n",
       "         -1.1290, -1.4929, -6.3963,  0.5603, -2.7419, -6.5157, -1.9923, -1.0180,\n",
       "         -2.0812,  0.2657, -1.8989, -0.1605, -5.9526, -1.2118, -3.6058, -1.6192,\n",
       "          0.4117,  0.5131, -1.3910, -1.6752, -0.9502,  0.4342],\n",
       "        grad_fn=<SubBackward0>))"
      ]
     },
     "execution_count": 103,
     "metadata": {},
     "output_type": "execute_result"
    }
   ],
   "source": [
    "spk, syn, mem = c(data[1], spk, syn, mem)\n",
    "spk, syn, mem"
   ]
  },
  {
   "cell_type": "code",
   "execution_count": 68,
   "id": "cb9e0e7a-ed4f-4cb8-affe-20827f3f74e5",
   "metadata": {},
   "outputs": [],
   "source": [
    "dt = 1e-4\n",
    "tau_syn = dt / (1 - c.alpha)\n",
    "tau_mem = dt / (1 - c.beta)\n",
    "r = tau_mem / dt\n",
    "v_leak = torch.zeros_like(c.beta)\n",
    "w_in = tau_syn / dt\n",
    "ss = sm = None"
   ]
  },
  {
   "cell_type": "code",
   "execution_count": 69,
   "id": "e659af0f-5cd1-41f9-96b7-17fdfd96ff4f",
   "metadata": {},
   "outputs": [
    {
     "data": {
      "text/plain": [
       "tensor([ 1.1317,  0.6847,  1.2047,  0.6166,  0.4497,  0.9264,  0.7192,  0.2399,\n",
       "         0.1050, -0.6780,  1.2016,  0.1231,  0.5748,  0.6751,  0.9058,  0.6672,\n",
       "         0.6062,  0.7439, -0.2957,  1.0488,  0.5626, -0.2167,  0.6503,  0.7738,\n",
       "         0.4772,  1.0948,  0.6632,  0.8930, -0.1727,  0.9268,  0.1753,  0.7222,\n",
       "         1.0082,  0.9580,  0.6293,  0.5535,  0.7430,  1.1153],\n",
       "       grad_fn=<AddBackward0>)"
      ]
     },
     "execution_count": 69,
     "metadata": {},
     "output_type": "execute_result"
    }
   ],
   "source": [
    "nsyn = norse.torch.LIBoxCell(p = norse.torch.LIBoxParameters(tau_mem_inv=1/tau_syn), dt=1e-4)\n",
    "nmem = norse.torch.LIFBoxCell(p = norse.torch.LIFBoxParameters(tau_mem_inv=1/tau_syn), dt=1e-4)\n",
    "vs, ss = nsyn((c.recurrent.bias +torch.ones(38)) * w_in)\n",
    "vs"
   ]
  },
  {
   "cell_type": "code",
   "execution_count": 70,
   "id": "86d5d588-b5bc-420d-a479-8853b19394d4",
   "metadata": {},
   "outputs": [
    {
     "data": {
      "text/plain": [
       "(tensor([1., 0., 1., 0., 0., 0., 0., 0., 0., 0., 1., 0., 0., 0., 0., 0., 0., 0.,\n",
       "         0., 1., 0., 0., 0., 0., 0., 1., 0., 0., 0., 0., 0., 0., 1., 0., 0., 0.,\n",
       "         0., 1.], grad_fn=<SuperSpikeBackward>),\n",
       " LIFBoxFeedForwardState(v=tensor([ 0.0000,  0.6847,  0.0000,  0.6166,  0.4497,  0.9264,  0.7192,  0.2399,\n",
       "          0.1050, -0.6780,  0.0000,  0.1231,  0.5748,  0.6751,  0.9058,  0.6672,\n",
       "          0.6062,  0.7439, -0.2957,  0.0000,  0.5626, -0.2167,  0.6503,  0.7738,\n",
       "          0.4772,  0.0000,  0.6632,  0.8930, -0.1727,  0.9268,  0.1753,  0.7222,\n",
       "          0.0000,  0.9580,  0.6293,  0.5535,  0.7430,  0.0000],\n",
       "        grad_fn=<AddBackward0>)))"
      ]
     },
     "execution_count": 70,
     "metadata": {},
     "output_type": "execute_result"
    }
   ],
   "source": [
    "vm, s = nmem(vs * w_in)\n",
    "vm, s\n",
    "# nmem(v * r, s)"
   ]
  },
  {
   "cell_type": "code",
   "execution_count": null,
   "id": "a7733aa8-b365-41fa-a8e1-07f114d7c13e",
   "metadata": {},
   "outputs": [],
   "source": []
  }
 ],
 "metadata": {
  "kernelspec": {
   "display_name": "Python 3 (ipykernel)",
   "language": "python",
   "name": "python3"
  },
  "language_info": {
   "codemirror_mode": {
    "name": "ipython",
    "version": 3
   },
   "file_extension": ".py",
   "mimetype": "text/x-python",
   "name": "python",
   "nbconvert_exporter": "python",
   "pygments_lexer": "ipython3",
   "version": "3.10.12"
  }
 },
 "nbformat": 4,
 "nbformat_minor": 5
}
