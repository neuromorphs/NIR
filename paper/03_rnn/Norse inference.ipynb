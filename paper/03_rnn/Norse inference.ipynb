{
 "cells": [
  {
   "cell_type": "code",
   "execution_count": 15,
   "id": "32a36e5c-e173-44f4-a26d-41146c88bf60",
   "metadata": {},
   "outputs": [],
   "source": [
    "import json\n",
    "import numpy as np\n",
    "import torch\n",
    "from torch.utils.data import DataLoader, TensorDataset\n",
    "import norse\n",
    "import matplotlib.pyplot as plt"
   ]
  },
  {
   "cell_type": "code",
   "execution_count": 27,
   "id": "9dc6de51-8cd1-4781-bad8-6876e9352e03",
   "metadata": {},
   "outputs": [
    {
     "data": {
      "text/plain": [
       "NIRGraph(nodes={'fc1': Linear(weight=array([[-7.05236793e-02, -2.61315942e-01, -5.26689172e-01,\n",
       "        -2.45954826e-01, -4.40458059e-01, -3.80396217e-01,\n",
       "        -5.68148315e-01, -2.27071315e-01, -9.20756757e-02,\n",
       "        -4.10928190e-01, -3.07744265e-01, -2.65883446e-01],\n",
       "       [ 5.01341186e-02, -2.18999848e-01, -1.68351129e-01,\n",
       "        -3.23840916e-01, -5.61923981e-02, -2.19903871e-01,\n",
       "        -3.86022836e-01, -1.73844993e-01, -2.75734633e-01,\n",
       "        -1.64522469e-01, -4.27448958e-01, -1.87260064e-03],\n",
       "       [-1.02292430e+00, -1.31440580e+00, -1.40579808e+00,\n",
       "        -1.26523030e+00, -6.06915116e-01, -1.37908447e+00,\n",
       "        -5.43509364e-01, -1.19199538e+00, -3.49371970e-01,\n",
       "        -6.08964205e-01, -1.33212364e+00, -1.05917525e+00],\n",
       "       [ 1.47333503e-01,  4.61688414e-02, -4.52450849e-02,\n",
       "        -3.77458218e-03,  1.31274452e-02,  3.26349348e-01,\n",
       "         2.24451181e-02,  4.09200713e-02,  1.35334834e-01,\n",
       "         3.00461352e-01, -1.31671891e-01, -9.50157762e-01],\n",
       "       [-2.82712787e-01, -4.18892801e-01, -5.05171239e-01,\n",
       "        -2.50619441e-01, -6.27933621e-01,  2.60822654e-01,\n",
       "         9.99774113e-02, -2.90455520e-01, -9.83736385e-03,\n",
       "        -1.82027325e-01, -1.21751893e-02, -3.51257682e-01],\n",
       "       [-2.35409960e-01, -5.08104861e-01,  4.19707566e-01,\n",
       "        -1.35979369e-01, -5.04462481e-01, -1.37908757e-01,\n",
       "         3.65371734e-01, -1.26892895e-01, -8.92474353e-01,\n",
       "        -3.67635459e-01, -8.54215845e-02, -2.12220907e-01],\n",
       "       [ 4.55305636e-01,  1.35489777e-01, -1.17485261e+00,\n",
       "        -2.38049328e-01, -6.38518408e-02, -1.34005749e+00,\n",
       "         3.56094092e-01,  1.44448886e-02, -8.64345908e-01,\n",
       "        -1.67763376e+00, -4.04442400e-02,  1.42378965e-02],\n",
       "       [-2.11609706e-01, -3.03404748e-01, -2.76367720e-02,\n",
       "        -5.21181107e-01, -5.29620409e-01,  1.37306556e-01,\n",
       "        -1.81305170e-01, -8.56394097e-02,  1.79813996e-01,\n",
       "        -2.06344962e-01, -3.36008161e-01, -5.01644373e-01],\n",
       "       [ 7.61440814e-01, -2.49907628e-01, -2.50431359e-01,\n",
       "        -2.55762607e-01, -9.13563848e-01, -5.93030378e-02,\n",
       "        -1.51902646e-01, -3.69770020e-01, -1.91347265e+00,\n",
       "        -1.83129978e+00, -3.26276720e-01, -1.46450448e+00],\n",
       "       [-2.47810912e+00, -1.66508228e-01,  4.86772776e-01,\n",
       "        -1.60717309e-01,  1.57183647e-01, -7.31480360e-01,\n",
       "        -1.95518121e-01, -3.00099039e+00, -9.67543125e-01,\n",
       "        -1.89156461e+00,  2.52825886e-01, -2.58433759e-01],\n",
       "       [ 2.95249879e-01, -5.06525040e-01, -2.15821639e-01,\n",
       "        -7.00598359e-01, -1.04841506e+00, -5.89030325e-01,\n",
       "        -6.43918693e-01,  4.59772684e-02,  6.99557662e-01,\n",
       "        -2.15502456e-01,  4.84082431e-01,  8.29448402e-02],\n",
       "       [-4.78753567e-01,  9.31972563e-02, -2.04721391e-01,\n",
       "         1.40205681e-01, -2.71579653e-01, -3.27684432e-01,\n",
       "        -3.32880951e-02, -2.28141174e-01, -8.12378407e-01,\n",
       "        -2.30430031e+00,  1.50706805e-02, -1.64502114e-01],\n",
       "       [-3.57030839e-01, -3.13173562e-01, -1.34626016e-01,\n",
       "         2.41737425e-01, -5.66022517e-03, -5.50252080e-01,\n",
       "        -5.06805360e-01,  4.40273583e-01, -5.95103741e-01,\n",
       "        -2.03334838e-01,  2.46924832e-01, -1.32770336e+00],\n",
       "       [-1.21775001e-01, -2.77570844e-01, -2.93536782e-01,\n",
       "        -5.67749500e-01, -9.38984603e-02, -3.08009565e-01,\n",
       "        -3.48338544e-01, -6.78087294e-01, -1.56198308e-01,\n",
       "        -2.11717680e-01, -6.27777755e-01, -7.22647011e-02],\n",
       "       [-4.92818326e-01, -6.83763087e-01, -5.63320339e-01,\n",
       "        -5.32013131e-03,  3.35503131e-01, -7.22822770e-02,\n",
       "        -3.95204663e-01, -6.54549539e-01, -4.87811178e-01,\n",
       "         3.14269304e-01,  2.67094165e-01, -6.97776377e-01],\n",
       "       [-3.73455107e-01,  1.33293778e-01,  1.25133440e-01,\n",
       "        -4.59197342e-01, -4.78220403e-01,  3.44446748e-01,\n",
       "         2.16860306e-02, -5.99794209e-01, -1.49880838e+00,\n",
       "         7.98788201e-03, -5.53451300e-01, -5.38949490e-01],\n",
       "       [ 6.43145442e-01,  2.03986064e-01, -2.56773829e-01,\n",
       "         1.15145501e-02, -4.27904129e-01, -1.89543620e-01,\n",
       "        -1.93629757e-01, -1.47987008e-01, -9.87227023e-01,\n",
       "        -4.82732430e-02,  1.89313740e-01,  5.64416535e-02],\n",
       "       [-8.80684197e-01,  5.18108048e-02, -5.74612558e-01,\n",
       "        -8.46628308e-01, -4.31069046e-01,  2.01926589e-01,\n",
       "        -3.04667484e-02, -4.60599102e-02, -1.02220523e+00,\n",
       "        -1.46724448e-01,  1.21850176e-02,  6.71873629e-01],\n",
       "       [ 2.87758440e-01,  3.93615104e-02,  1.06944151e-01,\n",
       "        -1.60219043e-01, -7.56545186e-01,  3.60005349e-01,\n",
       "        -7.42557496e-02, -4.16056216e-01, -1.63719487e+00,\n",
       "        -9.98841643e-01,  4.43025321e-01, -8.41611624e-01],\n",
       "       [-1.58848894e+00, -7.56913602e-01, -8.27553034e-01,\n",
       "         3.22764069e-01,  5.58449268e-01, -8.06342959e-01,\n",
       "         4.01935548e-01,  2.77046617e-02,  4.56380963e-01,\n",
       "        -1.03329873e+00, -7.54802883e-01, -7.13292360e-01],\n",
       "       [-1.38857257e+00, -1.52455127e+00, -1.46741104e+00,\n",
       "        -1.79026866e+00, -1.35809851e+00, -1.56083012e+00,\n",
       "        -1.68714035e+00, -1.17591393e+00, -8.66105437e-01,\n",
       "        -1.72665507e-01, -1.31065631e+00, -1.76734245e+00],\n",
       "       [-5.82408868e-02, -3.05529565e-01, -7.45031118e-01,\n",
       "         7.53359348e-02,  4.88753885e-01, -4.08176392e-01,\n",
       "         6.27035320e-01,  1.54204518e-01, -3.64569694e-01,\n",
       "         1.50250718e-01, -3.62147778e-01, -2.12068033e+00],\n",
       "       [ 5.98803699e-01,  2.39630669e-01, -4.15443242e-01,\n",
       "         2.41382942e-01, -6.14732206e-01, -1.67177486e+00,\n",
       "         2.31254816e-01, -5.10975301e-01,  2.73806173e-02,\n",
       "        -6.81064904e-01, -1.17853153e-02, -2.21303344e-01],\n",
       "       [-1.89845836e+00,  8.08076710e-02,  2.02648491e-01,\n",
       "        -7.35209167e-01, -1.17390275e+00, -4.78993624e-01,\n",
       "        -5.54330982e-02, -8.31124902e-01, -1.85042322e+00,\n",
       "         3.32027376e-01,  1.87696204e-01,  4.71112847e-01],\n",
       "       [ 9.46088314e-01,  1.34675428e-01, -1.01131491e-01,\n",
       "        -2.31393725e-01, -1.26493454e+00, -1.14271700e+00,\n",
       "         3.50162871e-02, -8.77813220e-01, -1.32348490e+00,\n",
       "         8.49248648e-01, -6.54144108e-01,  3.63767729e-03],\n",
       "       [-2.49231100e-01, -5.59994042e-01, -6.94857240e-01,\n",
       "        -6.53792560e-01, -7.54008591e-01, -1.69629902e-01,\n",
       "        -6.34953380e-01, -2.95799315e-01, -3.39296401e-01,\n",
       "        -7.46219233e-02, -9.75968316e-02, -2.24761963e-01],\n",
       "       [-9.24551487e-01,  4.02529202e-02,  1.98101684e-01,\n",
       "         4.24981266e-02, -5.94330370e-01,  2.08428502e-01,\n",
       "         2.59880811e-01, -1.88857421e-01, -9.00847673e-01,\n",
       "         9.64980870e-02, -1.02989241e-01,  8.84660333e-02],\n",
       "       [-8.93390298e-01, -7.37826526e-01, -2.60406762e-01,\n",
       "        -8.17785025e-01, -5.75917244e-01, -6.27428949e-01,\n",
       "        -1.89852882e-02, -5.51581442e-01, -1.09824312e+00,\n",
       "        -1.14322591e+00,  1.30522013e-01, -7.72874475e-01],\n",
       "       [-1.02321923e+00,  3.72877508e-01, -8.38349223e-01,\n",
       "        -1.26624596e+00, -5.18046498e-01, -1.11103915e-01,\n",
       "        -2.35943452e-01, -1.71315730e+00, -9.80151355e-01,\n",
       "        -4.08608109e-01,  3.89733881e-01, -1.02541566e+00],\n",
       "       [-4.75058347e-01, -3.19856703e-01, -3.64979148e-01,\n",
       "        -2.94164032e-01, -2.28469089e-01, -3.16738218e-01,\n",
       "        -6.12285256e-01, -3.06541622e-01, -2.08965436e-01,\n",
       "        -3.40271086e-01, -5.77862203e-01, -6.51217625e-02],\n",
       "       [-3.75879645e-01, -2.59636551e-01, -1.14842331e+00,\n",
       "        -3.18933874e-01, -3.08101714e-01, -5.32484949e-01,\n",
       "        -5.67861386e-02, -1.24601185e+00, -6.09112501e-01,\n",
       "        -3.26183230e-01,  4.76479650e-01, -1.34779036e-01],\n",
       "       [ 5.36593735e-01, -8.75221193e-02, -2.61775732e-01,\n",
       "        -5.22844672e-01,  1.87897742e-01, -9.06820595e-02,\n",
       "         3.35986316e-01, -7.03212678e-01, -1.29898882e+00,\n",
       "        -5.78675628e-01,  3.32230002e-01,  2.86432981e-01],\n",
       "       [-5.08783996e-01,  4.62543458e-01, -7.24594295e-01,\n",
       "         1.34407356e-01,  1.36398405e-01, -3.10878456e-01,\n",
       "        -4.18403476e-01, -6.20003343e-01,  1.20425560e-01,\n",
       "         4.94767398e-01,  2.63844371e-01, -9.90901887e-01],\n",
       "       [-7.10797191e-01, -2.22840190e-01, -1.97557434e-01,\n",
       "        -4.42062527e-01, -3.36847991e-01, -8.44326243e-02,\n",
       "        -2.48476103e-01, -3.14657032e-01, -3.68865043e-01,\n",
       "        -6.93195879e-01, -5.75329483e-01, -6.45860493e-01],\n",
       "       [-5.69410086e-01, -2.33964533e-01, -6.44759387e-02,\n",
       "        -6.17966130e-02,  5.44479012e-01,  1.55971155e-01,\n",
       "         4.42012936e-01, -1.59455404e-01, -2.19421315e+00,\n",
       "        -2.06069410e-01, -3.41654658e-01, -2.57131743e+00],\n",
       "       [-1.97378680e-01, -5.19824743e-01, -8.00623417e-01,\n",
       "        -1.81764200e-01, -1.20675221e-01, -4.50266212e-01,\n",
       "        -4.61106062e-01, -6.52997673e-01, -4.37069565e-01,\n",
       "        -1.13239601e-01, -2.12443337e-01, -2.34863684e-01],\n",
       "       [-6.26881868e-02,  4.29087311e-01, -1.44973382e-01,\n",
       "         4.90941763e-01, -1.28411925e+00, -1.24202482e-02,\n",
       "        -1.64735615e-01,  1.06258802e-01, -1.82608403e-02,\n",
       "        -3.56598556e-01, -7.17303038e-01, -1.13210358e-01],\n",
       "       [ 9.34098542e-01, -2.96396852e-01, -2.75117218e-01,\n",
       "         4.73359644e-01,  2.64561921e-01, -5.47444150e-02,\n",
       "        -1.06604800e-01, -3.22196811e-01, -1.66244164e-01,\n",
       "        -3.30599993e-01, -8.97738859e-02,  5.68833292e-01],\n",
       "       [-2.79522389e-01, -7.69558698e-02, -3.34471971e-01,\n",
       "        -4.63082016e-01, -3.07917714e-01, -2.58865416e-01,\n",
       "        -2.36881122e-01, -4.44257408e-01, -7.74714649e-02,\n",
       "        -2.59490252e-01, -5.21730721e-01, -4.10867542e-01],\n",
       "       [ 1.80011377e-01, -6.62746653e-02,  1.10539228e-01,\n",
       "        -3.98593396e-02,  4.92525786e-01, -1.14876010e-01,\n",
       "        -3.74200106e-01, -3.52660120e-01,  2.60815650e-01,\n",
       "        -7.05850184e-01, -4.25897181e-01, -4.35345173e-01]], dtype=float32)), 'fc2': Linear(weight=array([[-7.35305026e-02,  8.64096731e-03,  1.42899826e-02,\n",
       "         2.32199319e-02,  9.61530879e-02,  1.60862785e-02,\n",
       "        -3.03982884e-01,  4.02474077e-03,  3.76023889e-01,\n",
       "        -1.79434073e+00,  3.58824193e-01, -1.04108131e+00,\n",
       "        -2.35432208e-01, -1.62814949e-02,  2.47002319e-02,\n",
       "        -1.98852912e-01, -1.64933205e-02,  2.91690111e-01,\n",
       "        -6.21494353e-01,  3.83334458e-01, -2.39740685e-02,\n",
       "        -3.98082793e-01,  1.36148676e-01, -1.81956923e+00,\n",
       "         1.34992793e-01,  4.09138724e-02, -3.67188185e-01,\n",
       "         5.41724600e-02, -9.93687928e-01, -1.68111727e-01,\n",
       "        -1.39498368e-01,  5.35405695e-01, -2.74122179e-01,\n",
       "        -7.37832785e-02, -1.55701685e+00, -9.90622118e-02,\n",
       "        -1.92364365e-01,  6.19473279e-01, -1.13094123e-02,\n",
       "         2.25681558e-01],\n",
       "       [-1.86235993e-03, -2.04382941e-01, -1.13053486e-01,\n",
       "        -1.16191876e+00, -9.16257799e-02,  3.75712216e-01,\n",
       "        -4.21235025e-01, -1.96504280e-01,  1.51800767e-01,\n",
       "         1.04071712e+00,  4.56220329e-01,  4.65713665e-02,\n",
       "        -5.87205635e-03,  8.20493773e-02,  7.38514662e-02,\n",
       "         3.61984938e-01, -5.81840277e-01, -1.39667280e-02,\n",
       "         5.18432200e-01, -4.75361526e-01,  8.48897919e-02,\n",
       "        -1.93162426e-01,  2.60631796e-02,  2.79047012e-01,\n",
       "        -7.01110065e-02, -7.34806508e-02, -9.47531387e-02,\n",
       "         3.70318741e-01,  3.79838049e-01, -1.36661589e-01,\n",
       "        -2.36599986e-02,  5.01098752e-01,  3.96465331e-01,\n",
       "        -3.47597264e-02,  4.88746971e-01, -2.02975839e-01,\n",
       "        -2.92411298e-01, -6.53052688e-01, -6.95007816e-02,\n",
       "        -2.44986847e-01],\n",
       "       [-1.19271753e-02, -7.36029595e-02,  1.20119378e-02,\n",
       "         2.49077126e-01,  5.22996634e-02, -3.16921979e-01,\n",
       "         2.80593067e-01, -7.03430772e-02,  1.31792396e-01,\n",
       "         1.50082767e-01, -1.12750387e+00,  1.51493743e-01,\n",
       "        -2.57092744e-01, -1.79080427e-01, -1.06923664e+00,\n",
       "         6.61644399e-01, -5.75842150e-03, -1.71758965e-01,\n",
       "         6.69007123e-01, -8.04909598e-03, -1.23097688e-01,\n",
       "         4.09550250e-01, -7.03116879e-03, -2.88346320e-01,\n",
       "        -2.80258596e-01, -7.46808723e-02,  1.40533075e-01,\n",
       "        -1.61182702e-01,  1.64965481e-01,  1.29919827e-01,\n",
       "        -2.26310804e-01,  7.05524743e-01,  1.27930298e-01,\n",
       "         5.87157682e-02,  4.56560582e-01, -1.02985635e-01,\n",
       "         2.36828133e-01, -1.74362823e-01,  3.01561691e-02,\n",
       "        -3.41689348e-01],\n",
       "       [-4.46653254e-02, -1.69332787e-01,  2.69777644e-02,\n",
       "         3.66622150e-01,  5.70182204e-02,  1.85842723e-01,\n",
       "         6.62183762e-01,  3.55510473e-01,  5.70304036e-01,\n",
       "         9.01020542e-02,  1.94782212e-01,  2.58525223e-01,\n",
       "         8.28165829e-01,  3.87511845e-03,  6.87652528e-01,\n",
       "         1.73025206e-01,  1.79659277e-01,  2.26225972e-01,\n",
       "        -4.06557173e-01,  1.57396889e+00, -7.71314353e-02,\n",
       "         2.74043411e-01, -5.56173503e-01, -1.87270284e-01,\n",
       "         1.52178204e+00, -3.07975225e-02,  5.58961868e-01,\n",
       "         1.69770643e-01,  4.12618637e-01,  2.11389780e-01,\n",
       "         6.66307151e-01,  1.99226186e-01,  1.48775294e-01,\n",
       "         1.25532612e-01,  2.87297487e-01, -1.18398204e-01,\n",
       "        -1.77917676e-03, -1.60303187e+00,  7.73872882e-02,\n",
       "        -2.44520262e-01],\n",
       "       [-3.27824615e-02, -9.87468585e-02,  8.41119960e-02,\n",
       "         4.46971416e-01,  9.16126966e-02,  5.49376048e-02,\n",
       "        -1.56615198e+00,  8.51657167e-02, -1.79074764e+00,\n",
       "         7.76423737e-02,  4.66513813e-01,  1.08528798e-02,\n",
       "        -2.34433025e-01,  3.08275446e-02,  2.70382702e-01,\n",
       "        -8.67777407e-01, -1.17421158e-01, -1.79517657e-01,\n",
       "         3.43780845e-01, -1.51763201e+00,  1.10187739e-01,\n",
       "         4.51576948e-01, -1.14820383e-01,  7.64055848e-01,\n",
       "        -1.44673988e-01,  3.67436297e-02,  1.58379182e-01,\n",
       "        -6.69270009e-02, -9.15495381e-02, -7.43553042e-02,\n",
       "        -1.40481129e-01, -5.54151833e-01,  3.81811440e-01,\n",
       "         9.34585631e-02, -1.48009747e-01, -6.61907569e-02,\n",
       "         7.19463170e-01,  2.43575886e-01,  2.52712891e-03,\n",
       "         5.85858524e-01],\n",
       "       [ 2.01306771e-02,  2.67225667e-03,  8.08443427e-02,\n",
       "         8.71776491e-02,  1.42027244e-01,  3.78130049e-01,\n",
       "        -3.37026529e-02,  7.49293447e-01, -6.04287302e-03,\n",
       "        -4.60431159e-01, -3.47453475e-01,  2.84784168e-01,\n",
       "         3.12691405e-02, -3.87762971e-02, -1.13461822e-01,\n",
       "         3.53646576e-01,  5.47945976e-01,  5.72488129e-01,\n",
       "         3.81325811e-01, -1.33511460e+00, -1.08489819e-01,\n",
       "        -4.95929360e-01, -3.32643926e-01,  3.33745837e-01,\n",
       "        -1.53117096e+00,  4.54188734e-02,  7.06894159e-01,\n",
       "         3.62725377e-01,  9.64095294e-01, -1.05897337e-01,\n",
       "        -1.15726627e-01,  6.10849440e-01, -3.22600484e-01,\n",
       "        -1.61990121e-01, -1.30300260e+00, -4.02343012e-02,\n",
       "         5.93454242e-01,  4.97930199e-01, -6.90514073e-02,\n",
       "         1.73182175e-01],\n",
       "       [-1.54604673e-01, -1.88041478e-02, -1.56525195e-01,\n",
       "        -6.52577460e-01, -6.72360510e-02, -1.69483036e-01,\n",
       "         7.87497222e-01, -3.89308572e-01,  2.08527565e-01,\n",
       "         5.36397159e-01,  4.81033236e-01,  3.65217894e-01,\n",
       "        -1.87547654e-01, -6.05333745e-02, -2.31468957e-02,\n",
       "         2.41773218e-01, -5.48589706e-01, -6.94553480e-02,\n",
       "        -1.96274787e-01,  4.72219288e-01, -1.52553260e-01,\n",
       "         8.27092603e-02,  6.04952157e-01,  3.46909165e-01,\n",
       "         8.60755622e-01,  4.15378064e-02,  7.11207449e-01,\n",
       "        -9.79279578e-01, -2.62580901e-01, -4.60487232e-02,\n",
       "         5.58245070e-02,  6.26000389e-02, -1.94137156e-01,\n",
       "         8.56528953e-02, -1.00791957e-02,  6.17810823e-02,\n",
       "         4.05769199e-01,  3.96217018e-01,  1.38505757e-01,\n",
       "        -1.84587330e-01]], dtype=float32)), 'input': Input(input_type={'input': array([12])}), 'lif1.lif': CubaLIF(tau_syn=array([0.0004, 0.0004, 0.0004, 0.0004, 0.0004, 0.0004, 0.0004, 0.0004,\n",
       "       0.0004, 0.0004, 0.0004, 0.0004, 0.0004, 0.0004, 0.0004, 0.0004,\n",
       "       0.0004, 0.0004, 0.0004, 0.0004, 0.0004, 0.0004, 0.0004, 0.0004,\n",
       "       0.0004, 0.0004, 0.0004, 0.0004, 0.0004, 0.0004, 0.0004, 0.0004,\n",
       "       0.0004, 0.0004, 0.0004, 0.0004, 0.0004, 0.0004, 0.0004, 0.0004]), tau_mem=array([0.00066667, 0.00066667, 0.00066667, 0.00066667, 0.00066667,\n",
       "       0.00066667, 0.00066667, 0.00066667, 0.00066667, 0.00066667,\n",
       "       0.00066667, 0.00066667, 0.00066667, 0.00066667, 0.00066667,\n",
       "       0.00066667, 0.00066667, 0.00066667, 0.00066667, 0.00066667,\n",
       "       0.00066667, 0.00066667, 0.00066667, 0.00066667, 0.00066667,\n",
       "       0.00066667, 0.00066667, 0.00066667, 0.00066667, 0.00066667,\n",
       "       0.00066667, 0.00066667, 0.00066667, 0.00066667, 0.00066667,\n",
       "       0.00066667, 0.00066667, 0.00066667, 0.00066667, 0.00066667]), r=array([6.66666773, 6.66666773, 6.66666773, 6.66666773, 6.66666773,\n",
       "       6.66666773, 6.66666773, 6.66666773, 6.66666773, 6.66666773,\n",
       "       6.66666773, 6.66666773, 6.66666773, 6.66666773, 6.66666773,\n",
       "       6.66666773, 6.66666773, 6.66666773, 6.66666773, 6.66666773,\n",
       "       6.66666773, 6.66666773, 6.66666773, 6.66666773, 6.66666773,\n",
       "       6.66666773, 6.66666773, 6.66666773, 6.66666773, 6.66666773,\n",
       "       6.66666773, 6.66666773, 6.66666773, 6.66666773, 6.66666773,\n",
       "       6.66666773, 6.66666773, 6.66666773, 6.66666773, 6.66666773]), v_leak=array([0., 0., 0., 0., 0., 0., 0., 0., 0., 0., 0., 0., 0., 0., 0., 0., 0.,\n",
       "       0., 0., 0., 0., 0., 0., 0., 0., 0., 0., 0., 0., 0., 0., 0., 0., 0.,\n",
       "       0., 0., 0., 0., 0., 0.]), v_threshold=array([1., 1., 1., 1., 1., 1., 1., 1., 1., 1., 1., 1., 1., 1., 1., 1., 1.,\n",
       "       1., 1., 1., 1., 1., 1., 1., 1., 1., 1., 1., 1., 1., 1., 1., 1., 1.,\n",
       "       1., 1., 1., 1., 1., 1.]), w_in=array([4., 4., 4., 4., 4., 4., 4., 4., 4., 4., 4., 4., 4., 4., 4., 4., 4.,\n",
       "       4., 4., 4., 4., 4., 4., 4., 4., 4., 4., 4., 4., 4., 4., 4., 4., 4.,\n",
       "       4., 4., 4., 4., 4., 4.])), 'lif1.w_rec': Linear(weight=array([[-0.09206945, -0.00610573, -0.03186178, ..., -0.41431713,\n",
       "         0.07258335,  0.07014831],\n",
       "       [ 0.0914842 ,  0.07446281, -0.02700176, ..., -0.35446247,\n",
       "         0.11730811, -0.0289953 ],\n",
       "       [-0.11703656,  0.05255548, -0.1806816 , ..., -1.0814627 ,\n",
       "        -0.18135646, -0.12542179],\n",
       "       ...,\n",
       "       [ 0.0073339 , -0.06453346,  0.12149727, ..., -0.5568414 ,\n",
       "         0.04187693,  0.33452725],\n",
       "       [-0.03548701, -0.16206522, -0.15327527, ..., -0.41350865,\n",
       "         0.01400763,  0.03219759],\n",
       "       [-0.13786262,  0.06637163, -0.09750799, ..., -0.21823251,\n",
       "         0.05300799,  0.1756823 ]], dtype=float32)), 'lif2': CubaLIF(tau_syn=array([0.00018182, 0.00018182, 0.00018182, 0.00018182, 0.00018182,\n",
       "       0.00018182, 0.00018182]), tau_mem=array([0.00033333, 0.00033333, 0.00033333, 0.00033333, 0.00033333,\n",
       "       0.00033333, 0.00033333]), r=array([3.3333332, 3.3333332, 3.3333332, 3.3333332, 3.3333332, 3.3333332,\n",
       "       3.3333332]), v_leak=array([0., 0., 0., 0., 0., 0., 0.]), v_threshold=array([1., 1., 1., 1., 1., 1., 1.]), w_in=array([1.81818178, 1.81818178, 1.81818178, 1.81818178, 1.81818178,\n",
       "       1.81818178, 1.81818178])), 'output': Output(output_type={'output': array([7])})}, edges=[('lif1.w_rec', 'lif1.lif'), ('fc2', 'lif2'), ('lif1.lif', 'lif1.w_rec'), ('lif2', 'output'), ('input', 'fc1'), ('fc1', 'lif1.lif'), ('lif1.lif', 'fc2')])"
      ]
     },
     "execution_count": 27,
     "metadata": {},
     "output_type": "execute_result"
    }
   ],
   "source": [
    "### TEST DATA\n",
    "test_data_path = \"data/ds_test.pt\"\n",
    "ds_test = torch.load(test_data_path)\n",
    "\n",
    "letter_written = ['Space', 'A', 'E', 'I', 'O', 'U', 'Y']\n",
    "device = \"cpu\"\n",
    "### LOSS FUNCTION\n",
    "loss_fn = torch.nn.functional.cross_entropy\n",
    "### OPTIMAL HYPERPARAMETERS\n",
    "parameters_path = \"data/parameters_ref_zero.json\"\n",
    "\n",
    "with open(parameters_path) as f:\n",
    "   parameters = json.load(f)\n",
    "\n",
    "import nir\n",
    "nir_graph = nir.read(\"braille_noDelay_noBias_subtract.nir\")\n",
    "nir_graph"
   ]
  },
  {
   "cell_type": "code",
   "execution_count": 32,
   "id": "0f65eb99-2ee0-42f6-b849-aa3781d553ce",
   "metadata": {},
   "outputs": [
    {
     "data": {
      "text/plain": [
       "[nir.ir.Linear,\n",
       " nir.ir.Linear,\n",
       " nir.ir.Input,\n",
       " nir.ir.CubaLIF,\n",
       " nir.ir.Linear,\n",
       " nir.ir.CubaLIF,\n",
       " nir.ir.Output]"
      ]
     },
     "execution_count": 32,
     "metadata": {},
     "output_type": "execute_result"
    }
   ],
   "source": [
    "[type(x) for x in nir_graph.nodes.values()]"
   ]
  },
  {
   "cell_type": "code",
   "execution_count": 33,
   "id": "a10f6aff-6acd-461a-ac2a-c3da05b89a60",
   "metadata": {},
   "outputs": [
    {
     "data": {
      "text/plain": [
       "GraphExecutor(\n",
       "  (fc1): Linear(in_features=40, out_features=12, bias=False)\n",
       "  (fc2): Linear(in_features=7, out_features=40, bias=False)\n",
       "  (input): Identity()\n",
       "  (lif1_lif): CubaLIF(\n",
       "    (synapse): LIBoxCell(\n",
       "      p=LIBoxParameters(tau_mem_inv=tensor([2500., 2500., 2500., 2500., 2500., 2500., 2500., 2500., 2500., 2500.,\n",
       "              2500., 2500., 2500., 2500., 2500., 2500., 2500., 2500., 2500., 2500.,\n",
       "              2500., 2500., 2500., 2500., 2500., 2500., 2500., 2500., 2500., 2500.,\n",
       "              2500., 2500., 2500., 2500., 2500., 2500., 2500., 2500., 2500., 2500.]), v_leak=tensor([0., 0., 0., 0., 0., 0., 0., 0., 0., 0., 0., 0., 0., 0., 0., 0., 0., 0., 0., 0., 0., 0., 0., 0.,\n",
       "              0., 0., 0., 0., 0., 0., 0., 0., 0., 0., 0., 0., 0., 0., 0., 0.])), dt=0.0001\n",
       "    )\n",
       "    (lif): LIFBoxCell(\n",
       "      p=LIFBoxParameters(tau_mem_inv=tensor([1499.9998, 1499.9998, 1499.9998, 1499.9998, 1499.9998, 1499.9998,\n",
       "              1499.9998, 1499.9998, 1499.9998, 1499.9998, 1499.9998, 1499.9998,\n",
       "              1499.9998, 1499.9998, 1499.9998, 1499.9998, 1499.9998, 1499.9998,\n",
       "              1499.9998, 1499.9998, 1499.9998, 1499.9998, 1499.9998, 1499.9998,\n",
       "              1499.9998, 1499.9998, 1499.9998, 1499.9998, 1499.9998, 1499.9998,\n",
       "              1499.9998, 1499.9998, 1499.9998, 1499.9998, 1499.9998, 1499.9998,\n",
       "              1499.9998, 1499.9998, 1499.9998, 1499.9998]), v_leak=tensor([0., 0., 0., 0., 0., 0., 0., 0., 0., 0., 0., 0., 0., 0., 0., 0., 0., 0., 0., 0., 0., 0., 0., 0.,\n",
       "              0., 0., 0., 0., 0., 0., 0., 0., 0., 0., 0., 0., 0., 0., 0., 0.]), v_th=tensor([1., 1., 1., 1., 1., 1., 1., 1., 1., 1., 1., 1., 1., 1., 1., 1., 1., 1.,\n",
       "              1., 1., 1., 1., 1., 1., 1., 1., 1., 1., 1., 1., 1., 1., 1., 1., 1., 1.,\n",
       "              1., 1., 1., 1.]), v_reset=tensor(0.), method='super', alpha=tensor(100.), reset_method=<function reset_value at 0x7f6dbffe8790>), dt=0.0001\n",
       "    )\n",
       "  )\n",
       "  (lif1_w_rec): Linear(in_features=40, out_features=40, bias=False)\n",
       "  (lif2): CubaLIF(\n",
       "    (synapse): LIBoxCell(p=LIBoxParameters(tau_mem_inv=tensor([5500., 5500., 5500., 5500., 5500., 5500., 5500.]), v_leak=tensor([0., 0., 0., 0., 0., 0., 0.])), dt=0.0001)\n",
       "    (lif): LIFBoxCell(p=LIFBoxParameters(tau_mem_inv=tensor([3000., 3000., 3000., 3000., 3000., 3000., 3000.]), v_leak=tensor([0., 0., 0., 0., 0., 0., 0.]), v_th=tensor([1., 1., 1., 1., 1., 1., 1.]), v_reset=tensor(0.), method='super', alpha=tensor(100.), reset_method=<function reset_value at 0x7f6dbffe8790>), dt=0.0001)\n",
       "  )\n",
       "  (output): Identity()\n",
       ")"
      ]
     },
     "execution_count": 33,
     "metadata": {},
     "output_type": "execute_result"
    }
   ],
   "source": [
    "net = norse.torch.from_nir(nir_graph, dt=1e-4)\n",
    "net"
   ]
  },
  {
   "cell_type": "code",
   "execution_count": 34,
   "id": "405cc988-2b56-4e09-b617-5cbacf2a034b",
   "metadata": {},
   "outputs": [
    {
     "data": {
      "text/plain": [
       "dict_keys(['fc1', 'fc2', 'input', 'lif1.lif', 'lif1.w_rec', 'lif2', 'output'])"
      ]
     },
     "execution_count": 34,
     "metadata": {},
     "output_type": "execute_result"
    }
   ],
   "source": [
    "nir_graph.nodes.keys()"
   ]
  },
  {
   "cell_type": "markdown",
   "id": "5024410b-8078-496e-b585-14e1f4ee49bb",
   "metadata": {},
   "source": [
    "# Save activity of first layer"
   ]
  },
  {
   "cell_type": "code",
   "execution_count": 37,
   "id": "82c101fe-dbce-4ed3-8a1c-f214c62b90db",
   "metadata": {},
   "outputs": [
    {
     "data": {
      "text/plain": [
       "torch.Size([256, 38])"
      ]
     },
     "execution_count": 37,
     "metadata": {},
     "output_type": "execute_result"
    }
   ],
   "source": [
    "def record_layer1(graph, reset_method):\n",
    "    net = norse.torch.from_nir(graph, dt=1e-4, reset_method=reset_method)\n",
    "    lin_out = net.fc1(ds_test[0][0])\n",
    "    lin_out.shape\n",
    "    lif1_out = []\n",
    "    state = None\n",
    "    for i, t in enumerate(lin_out):\n",
    "        if i == 0:\n",
    "            try:\n",
    "                t = t + net.lif1_w_rec.bias\n",
    "            except:\n",
    "                pass\n",
    "        else:\n",
    "            t = net.lif1_w_rec(t)\n",
    "        z, state = net.lif1_lif(t, state)\n",
    "        lif1_out.append(z)\n",
    "    return torch.stack(lif1_out).detach()\n",
    "zero_out = record_layer1(\"braille_noDelay_bias_zero.nir\", reset_method=norse.torch.functional.reset_value)\n",
    "zero_out.shape"
   ]
  },
  {
   "cell_type": "code",
   "execution_count": 48,
   "id": "1b85720a-f790-4064-be3c-a7b893fd96ca",
   "metadata": {},
   "outputs": [],
   "source": [
    "np.save(\"norse_activity_noDelay_bias_zero.npy\", zero_out.numpy())"
   ]
  },
  {
   "cell_type": "code",
   "execution_count": 39,
   "id": "21bf3e6a-f1f1-4a6e-8b27-cb8e49bb7262",
   "metadata": {},
   "outputs": [
    {
     "data": {
      "text/plain": [
       "<matplotlib.image.AxesImage at 0x7f6db55656c0>"
      ]
     },
     "execution_count": 39,
     "metadata": {},
     "output_type": "execute_result"
    },
    {
     "data": {
      "image/png": "[encoded data removed]",
      "text/plain": [
       "<Figure size 640x480 with 1 Axes>"
      ]
     },
     "metadata": {},
     "output_type": "display_data"
    }
   ],
   "source": [
    "plt.imshow(zero_out.T, interpolation=\"none\", aspect=4)"
   ]
  },
  {
   "cell_type": "code",
   "execution_count": 49,
   "id": "863a8c00-03d6-4c0a-ba9f-53a28b5f72a8",
   "metadata": {},
   "outputs": [
    {
     "data": {
      "text/plain": [
       "torch.Size([256, 40])"
      ]
     },
     "execution_count": 49,
     "metadata": {},
     "output_type": "execute_result"
    }
   ],
   "source": [
    "subtract_out = record_layer1(\"braille_noDelay_noBias_subtract.nir\", reset_method=norse.torch.functional.reset_subtract)\n",
    "np.save(\"norse_activity_noDelay_noBias_subtract.npy\", subtract_out.numpy())\n",
    "subtract_out.shape"
   ]
  },
  {
   "cell_type": "code",
   "execution_count": 41,
   "id": "b8c56d73-aef4-4bcb-bc0c-0ba8ccc8d6f5",
   "metadata": {},
   "outputs": [
    {
     "data": {
      "text/plain": [
       "<matplotlib.image.AxesImage at 0x7f6db53d77c0>"
      ]
     },
     "execution_count": 41,
     "metadata": {},
     "output_type": "execute_result"
    },
    {
     "data": {
      "image/png": "[encoded data removed]",
      "text/plain": [
       "<Figure size 1200x400 with 1 Axes>"
      ]
     },
     "metadata": {},
     "output_type": "display_data"
    }
   ],
   "source": [
    "def apply(net, data):\n",
    "    state = None\n",
    "    hid_rec = []\n",
    "    out = []\n",
    "    for i, t in enumerate(data):\n",
    "        z, state = net(t, state)\n",
    "        out.append(z)\n",
    "        hid_rec.append(state)\n",
    "    spk_out = torch.stack(out)\n",
    "    # hid_rec = torch.stack(hid_rec)\n",
    "    return spk_out, hid_rec\n",
    "plt.figure(figsize=(12, 4))\n",
    "plt.imshow(apply(net, ds_test[0][0])[0].detach().T, aspect=10, interpolation=\"none\")"
   ]
  },
  {
   "cell_type": "markdown",
   "id": "251db4e6-841a-4878-8135-840628b058ce",
   "metadata": {},
   "source": [
    "# Run inference"
   ]
  },
  {
   "cell_type": "code",
   "execution_count": 42,
   "id": "5d0652cd-4f57-4988-a626-88a340a4a1a4",
   "metadata": {},
   "outputs": [],
   "source": [
    "def val_test_loop(dataset, batch_size, net, loss_fn, device, shuffle=True, saved_state_dict=None, label_probabilities=False, regularization=None):\n",
    "  \n",
    "  with torch.no_grad():\n",
    "    if saved_state_dict != None:\n",
    "        net.load_state_dict(saved_state_dict)\n",
    "    net.eval()\n",
    "\n",
    "    loader = torch.utils.data.DataLoader(dataset, batch_size=batch_size, shuffle=shuffle, drop_last=False)\n",
    "\n",
    "    batch_loss = []\n",
    "    batch_acc = []\n",
    "\n",
    "    for data, labels in loader:\n",
    "        data = data.to(device).swapaxes(1, 0)\n",
    "        labels = labels.to(device)\n",
    "\n",
    "        spk_out, hid_rec = apply(net, data)\n",
    "\n",
    "        # Validation loss\n",
    "        if regularization != None:\n",
    "            # L1 loss on spikes per neuron from the hidden layer\n",
    "            reg_loss = regularization[0]*torch.mean(torch.sum(hid_rec, 0))\n",
    "            # L2 loss on total number of spikes from the hidden layer\n",
    "            reg_loss = reg_loss + regularization[1]*torch.mean(torch.sum(torch.sum(hid_rec, dim=0), dim=1)**2)\n",
    "            loss_val = loss_fn(spk_out, labels) + reg_loss\n",
    "        else:\n",
    "            loss_val = loss_fn(spk_out.sum(0), labels)\n",
    "\n",
    "        batch_loss.append(loss_val.detach().cpu().item())\n",
    "\n",
    "        # Accuracy\n",
    "        act_total_out = torch.sum(spk_out, 0)  # sum over time\n",
    "        _, neuron_max_act_total_out = torch.max(act_total_out, 1)  # argmax over output units to compare to labels\n",
    "        batch_acc.extend((neuron_max_act_total_out == labels).detach().cpu().numpy()) # batch_acc.append(np.mean((neuron_max_act_total_out == labels).detach().cpu().numpy()))\n",
    "    \n",
    "    if label_probabilities:\n",
    "        log_softmax_fn = nn.LogSoftmax(dim=-1)\n",
    "        log_p_y = log_softmax_fn(act_total_out)\n",
    "        return [np.mean(batch_loss), np.mean(batch_acc)], torch.exp(log_p_y)\n",
    "    else:\n",
    "        return [np.mean(batch_loss), np.mean(batch_acc)]"
   ]
  },
  {
   "cell_type": "code",
   "execution_count": 43,
   "id": "91d083db-7860-4332-ad11-cf9276406226",
   "metadata": {},
   "outputs": [],
   "source": [
    "### INFERENCE ON TEST SET\n",
    "\n",
    "batch_size = 64\n",
    "\n",
    "input_size = 12 \n",
    "num_steps = next(iter(ds_test))[0].shape[0]\n",
    "regularization = [parameters[\"reg_l1\"], parameters[\"reg_l2\"]]"
   ]
  },
  {
   "cell_type": "code",
   "execution_count": 44,
   "id": "5c9b252a-05e6-4943-8f79-fe2059281871",
   "metadata": {},
   "outputs": [],
   "source": [
    "def load_and_val(graph, reset_method):\n",
    "    net = norse.torch.from_nir(graph, reset_method=reset_method, dt=1e-4)\n",
    "    return val_test_loop(ds_test, batch_size, net, loss_fn, device, shuffle=False)#, regularization=regularization)    "
   ]
  },
  {
   "cell_type": "code",
   "execution_count": 45,
   "id": "ca4c4fb1-a425-4164-b86f-6d47bb343a1c",
   "metadata": {},
   "outputs": [
    {
     "name": "stdout",
     "output_type": "stream",
     "text": [
      "Test accuracy: 93.57%\n"
     ]
    }
   ],
   "source": [
    "test_results = load_and_val(\"braille_noDelay_noBias_subtract.nir\", reset_method=norse.torch.functional.reset_subtract)\n",
    "np.save(\"norse_accuracy_noDelay_noBias_subtract.npy\", np.round(test_results[1]*100,2))\n",
    "print(\"Test accuracy: {}%\".format(np.round(test_results[1]*100,2)))"
   ]
  },
  {
   "cell_type": "code",
   "execution_count": 47,
   "id": "262a74e4-f972-4516-a5ad-8680b77d09e7",
   "metadata": {},
   "outputs": [
    {
     "name": "stdout",
     "output_type": "stream",
     "text": [
      "Test accuracy: 94.29%\n"
     ]
    }
   ],
   "source": [
    "test_results = load_and_val(\"braille_noDelay_bias_zero.nir\", reset_method=norse.torch.functional.reset_value)\n",
    "np.save(\"norse_accuracy_noDelay_bias_zero.npy\", np.round(test_results[1]*100,2))\n",
    "print(\"Test accuracy: {}%\".format(np.round(test_results[1]*100,2)))"
   ]
  }
 ],
 "metadata": {
  "kernelspec": {
   "display_name": "Python 3 (ipykernel)",
   "language": "python",
   "name": "python3"
  },
  "language_info": {
   "codemirror_mode": {
    "name": "ipython",
    "version": 3
   },
   "file_extension": ".py",
   "mimetype": "text/x-python",
   "name": "python",
   "nbconvert_exporter": "python",
   "pygments_lexer": "ipython3",
   "version": "3.10.12"
  }
 },
 "nbformat": 4,
 "nbformat_minor": 5
}
