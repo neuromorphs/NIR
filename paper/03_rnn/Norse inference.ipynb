{
 "cells": [
  {
   "cell_type": "code",
   "execution_count": 1,
   "id": "32a36e5c-e173-44f4-a26d-41146c88bf60",
   "metadata": {},
   "outputs": [],
   "source": [
    "import json\n",
    "import numpy as np\n",
    "import torch\n",
    "from torch.utils.data import DataLoader, TensorDataset\n",
    "import norse\n",
    "import matplotlib.pyplot as plt"
   ]
  },
  {
   "cell_type": "code",
   "execution_count": 2,
   "id": "9422e9db-9b3b-4b6a-b90c-98793a526059",
   "metadata": {},
   "outputs": [],
   "source": [
    "### TEST DATA\n",
    "test_data_path = \"data/ds_test.pt\"\n",
    "ds_test = torch.load(test_data_path)\n",
    "\n",
    "letter_written = ['Space', 'A', 'E', 'I', 'O', 'U', 'Y']\n",
    "device = \"cpu\"\n",
    "### LOSS FUNCTION\n",
    "loss_fn = torch.nn.functional.cross_entropy\n",
    "### OPTIMAL HYPERPARAMETERS\n",
    "parameters_path = \"data/parameters_ref_zero.json\"\n",
    "\n",
    "with open(parameters_path) as f:\n",
    "   parameters = json.load(f)"
   ]
  },
  {
   "cell_type": "code",
   "execution_count": 3,
   "id": "ff088fcf-e7b8-4767-8171-84335cf67db9",
   "metadata": {},
   "outputs": [
    {
     "data": {
      "text/plain": [
       "dict_keys(['fc1', 'fc2', 'input', 'lif1.lif', 'lif1.w_rec', 'lif2', 'output'])"
      ]
     },
     "execution_count": 3,
     "metadata": {},
     "output_type": "execute_result"
    }
   ],
   "source": [
    "import nir\n",
    "nir_graph = nir.read(\"braille_noDelay_noBias_subtract.nir\")\n",
    "nir_graph.nodes.keys()"
   ]
  },
  {
   "cell_type": "code",
   "execution_count": 4,
   "id": "567c9568-631a-4dda-bd9e-951aec604749",
   "metadata": {},
   "outputs": [
    {
     "data": {
      "text/plain": [
       "array([4., 4., 4., 4., 4., 4., 4., 4., 4., 4., 4., 4., 4., 4., 4., 4., 4.,\n",
       "       4., 4., 4., 4., 4., 4., 4., 4., 4., 4., 4., 4., 4., 4., 4., 4., 4.,\n",
       "       4., 4., 4., 4., 4., 4.])"
      ]
     },
     "execution_count": 4,
     "metadata": {},
     "output_type": "execute_result"
    }
   ],
   "source": [
    "nir_graph.nodes[\"lif1.lif\"].w_in"
   ]
  },
  {
   "cell_type": "code",
   "execution_count": 5,
   "id": "e4453dd1-eaaf-4d31-9405-da128684f462",
   "metadata": {},
   "outputs": [
    {
     "data": {
      "text/plain": [
       "array([2.22222228, 2.22222228, 2.22222228, 2.22222228, 2.22222228,\n",
       "       2.22222228, 2.22222228, 2.22222228, 2.22222228, 2.22222228,\n",
       "       2.22222228, 2.22222228, 2.22222228, 2.22222228, 2.22222228,\n",
       "       2.22222228, 2.22222228, 2.22222228, 2.22222228, 2.22222228,\n",
       "       2.22222228, 2.22222228, 2.22222228, 2.22222228, 2.22222228,\n",
       "       2.22222228, 2.22222228, 2.22222228, 2.22222228, 2.22222228,\n",
       "       2.22222228, 2.22222228, 2.22222228, 2.22222228, 2.22222228,\n",
       "       2.22222228, 2.22222228, 2.22222228])"
      ]
     },
     "execution_count": 5,
     "metadata": {},
     "output_type": "execute_result"
    }
   ],
   "source": [
    "nir_graph = nir.read(\"braille_noDelay_bias_zero.nir\")\n",
    "nir_graph.nodes[\"lif1.lif\"].w_in"
   ]
  },
  {
   "cell_type": "code",
   "execution_count": 6,
   "id": "b77aafb7-6924-4ca1-82cc-a286882c7273",
   "metadata": {},
   "outputs": [
    {
     "data": {
      "text/plain": [
       "0.00022222"
      ]
     },
     "execution_count": 6,
     "metadata": {},
     "output_type": "execute_result"
    }
   ],
   "source": [
    "(0.00022222)"
   ]
  },
  {
   "cell_type": "code",
   "execution_count": 7,
   "id": "a2c46bae-45ea-4891-b465-850875740ce6",
   "metadata": {},
   "outputs": [
    {
     "data": {
      "text/plain": [
       "4500.000000000045"
      ]
     },
     "execution_count": 7,
     "metadata": {},
     "output_type": "execute_result"
    }
   ],
   "source": [
    "1 / 0.00022222222222222"
   ]
  },
  {
   "cell_type": "code",
   "execution_count": 8,
   "id": "95e05e26-d842-4b19-8447-17a31008eecd",
   "metadata": {},
   "outputs": [
    {
     "data": {
      "text/plain": [
       "[<matplotlib.lines.Line2D at 0x7fc8d32ca9e0>]"
      ]
     },
     "execution_count": 8,
     "metadata": {},
     "output_type": "execute_result"
    },
    {
     "data": {
      "image/png": "[encoded data removed]",
      "text/plain": [
       "<Figure size 640x480 with 1 Axes>"
      ]
     },
     "metadata": {},
     "output_type": "display_data"
    }
   ],
   "source": [
    "t = torch.ones(100, 1)\n",
    "out = []\n",
    "state = None\n",
    "c = norse.torch.LIBoxCell(p=norse.torch.LIParameters(tau_mem_inv=10000), dt=1e-4)\n",
    "for x in t:\n",
    "    y, state = c(x, state)\n",
    "    out.append(y.detach())\n",
    "plt.plot(out)"
   ]
  },
  {
   "cell_type": "code",
   "execution_count": 9,
   "id": "0f65eb99-2ee0-42f6-b849-aa3781d553ce",
   "metadata": {},
   "outputs": [
    {
     "data": {
      "text/plain": [
       "[nir.ir.Affine,\n",
       " nir.ir.Affine,\n",
       " nir.ir.Input,\n",
       " nir.ir.CubaLIF,\n",
       " nir.ir.Affine,\n",
       " nir.ir.CubaLIF,\n",
       " nir.ir.Output]"
      ]
     },
     "execution_count": 9,
     "metadata": {},
     "output_type": "execute_result"
    }
   ],
   "source": [
    "[type(x) for x in nir_graph.nodes.values()]"
   ]
  },
  {
   "cell_type": "code",
   "execution_count": 10,
   "id": "54d55232-a357-4e1f-bf8c-63189a411413",
   "metadata": {},
   "outputs": [
    {
     "data": {
      "text/plain": [
       "1000.0"
      ]
     },
     "execution_count": 10,
     "metadata": {},
     "output_type": "execute_result"
    }
   ],
   "source": [
    "1 / 1e-3"
   ]
  },
  {
   "cell_type": "code",
   "execution_count": 11,
   "id": "a10f6aff-6acd-461a-ac2a-c3da05b89a60",
   "metadata": {},
   "outputs": [
    {
     "data": {
      "text/plain": [
       "GraphExecutor(\n",
       "  (fc1): Linear(in_features=12, out_features=38, bias=True)\n",
       "  (fc2): Linear(in_features=38, out_features=7, bias=True)\n",
       "  (input): Identity()\n",
       "  (lif1_lif): CubaLIF(\n",
       "    (synapse): LIBoxCell(\n",
       "      p=LIBoxParameters(tau_mem_inv=tensor([4500., 4500., 4500., 4500., 4500., 4500., 4500., 4500., 4500., 4500.,\n",
       "              4500., 4500., 4500., 4500., 4500., 4500., 4500., 4500., 4500., 4500.,\n",
       "              4500., 4500., 4500., 4500., 4500., 4500., 4500., 4500., 4500., 4500.,\n",
       "              4500., 4500., 4500., 4500., 4500., 4500., 4500., 4500.]), v_leak=tensor([0., 0., 0., 0., 0., 0., 0., 0., 0., 0., 0., 0., 0., 0., 0., 0., 0., 0., 0., 0., 0., 0., 0., 0.,\n",
       "              0., 0., 0., 0., 0., 0., 0., 0., 0., 0., 0., 0., 0., 0.])), dt=0.0001\n",
       "    )\n",
       "    (lif): LIFBoxCell(\n",
       "      p=LIFBoxParameters(tau_mem_inv=tensor([1000.0002, 1000.0002, 1000.0002, 1000.0002, 1000.0002, 1000.0002,\n",
       "              1000.0002, 1000.0002, 1000.0002, 1000.0002, 1000.0002, 1000.0002,\n",
       "              1000.0002, 1000.0002, 1000.0002, 1000.0002, 1000.0002, 1000.0002,\n",
       "              1000.0002, 1000.0002, 1000.0002, 1000.0002, 1000.0002, 1000.0002,\n",
       "              1000.0002, 1000.0002, 1000.0002, 1000.0002, 1000.0002, 1000.0002,\n",
       "              1000.0002, 1000.0002, 1000.0002, 1000.0002, 1000.0002, 1000.0002,\n",
       "              1000.0002, 1000.0002]), v_leak=tensor([0., 0., 0., 0., 0., 0., 0., 0., 0., 0., 0., 0., 0., 0., 0., 0., 0., 0., 0., 0., 0., 0., 0., 0.,\n",
       "              0., 0., 0., 0., 0., 0., 0., 0., 0., 0., 0., 0., 0., 0.]), v_th=tensor([1., 1., 1., 1., 1., 1., 1., 1., 1., 1., 1., 1., 1., 1., 1., 1., 1., 1.,\n",
       "              1., 1., 1., 1., 1., 1., 1., 1., 1., 1., 1., 1., 1., 1., 1., 1., 1., 1.,\n",
       "              1., 1.]), v_reset=tensor(0.), method='super', alpha=tensor(100.), reset_method=<function reset_value at 0x7fc8d4edc790>), dt=0.0001\n",
       "    )\n",
       "  )\n",
       "  (lif1_w_rec): Linear(in_features=38, out_features=38, bias=True)\n",
       "  (lif2): CubaLIF(\n",
       "    (synapse): LIBoxCell(p=LIBoxParameters(tau_mem_inv=tensor([5000., 5000., 5000., 5000., 5000., 5000., 5000.]), v_leak=tensor([0., 0., 0., 0., 0., 0., 0.])), dt=0.0001)\n",
       "    (lif): LIFBoxCell(p=LIFBoxParameters(tau_mem_inv=tensor([4500., 4500., 4500., 4500., 4500., 4500., 4500.]), v_leak=tensor([0., 0., 0., 0., 0., 0., 0.]), v_th=tensor([1., 1., 1., 1., 1., 1., 1.]), v_reset=tensor(0.), method='super', alpha=tensor(100.), reset_method=<function reset_value at 0x7fc8d4edc790>), dt=0.0001)\n",
       "  )\n",
       "  (output): Identity()\n",
       ")"
      ]
     },
     "execution_count": 11,
     "metadata": {},
     "output_type": "execute_result"
    }
   ],
   "source": [
    "net = norse.torch.from_nir(nir_graph, dt=1e-4)\n",
    "net"
   ]
  },
  {
   "cell_type": "code",
   "execution_count": 12,
   "id": "405cc988-2b56-4e09-b617-5cbacf2a034b",
   "metadata": {},
   "outputs": [
    {
     "data": {
      "text/plain": [
       "dict_keys(['fc1', 'fc2', 'input', 'lif1.lif', 'lif1.w_rec', 'lif2', 'output'])"
      ]
     },
     "execution_count": 12,
     "metadata": {},
     "output_type": "execute_result"
    }
   ],
   "source": [
    "nir_graph.nodes.keys()"
   ]
  },
  {
   "cell_type": "markdown",
   "id": "5024410b-8078-496e-b585-14e1f4ee49bb",
   "metadata": {},
   "source": [
    "# Save activity of first layer"
   ]
  },
  {
   "cell_type": "code",
   "execution_count": 77,
   "id": "80d4b323-a9ed-44a6-9189-c77a322e0e2a",
   "metadata": {},
   "outputs": [],
   "source": [
    "def record_layer(graph, reset):\n",
    "    net = norse.torch.from_nir(graph, dt=1e-4, reset_method=norse.torch.functional.reset_value)\n",
    "    out = []\n",
    "    states = []\n",
    "    state = None\n",
    "    for i in ds_test[0][0]:\n",
    "        z, state = net(i, state)\n",
    "        states.append(state)\n",
    "        out.append(z)\n",
    "    return np.array([s.cache[\"lif1_lif\"].detach() for s in states])"
   ]
  },
  {
   "cell_type": "code",
   "execution_count": 78,
   "id": "e9ddc07c-aa90-4aa5-9f10-cee336f5633d",
   "metadata": {},
   "outputs": [
    {
     "data": {
      "text/plain": [
       "<matplotlib.image.AxesImage at 0x7fc8b05b77c0>"
      ]
     },
     "execution_count": 78,
     "metadata": {},
     "output_type": "execute_result"
    },
    {
     "data": {
      "image/png": "[encoded data removed]",
      "text/plain": [
       "<Figure size 640x480 with 1 Axes>"
      ]
     },
     "metadata": {},
     "output_type": "display_data"
    }
   ],
   "source": [
    "zero_out = record_layer(\"braille_noDelay_bias_zero.nir\", norse.torch.functional.reset_subtract)\n",
    "plt.imshow(np.array(spikes).T, aspect=4, interpolation=\"none\")"
   ]
  },
  {
   "cell_type": "code",
   "execution_count": 79,
   "id": "1b85720a-f790-4064-be3c-a7b893fd96ca",
   "metadata": {},
   "outputs": [],
   "source": [
    "np.save(\"norse_activity_noDelay_bias_zero.npy\", zero_out)"
   ]
  },
  {
   "cell_type": "code",
   "execution_count": 80,
   "id": "863a8c00-03d6-4c0a-ba9f-53a28b5f72a8",
   "metadata": {},
   "outputs": [
    {
     "data": {
      "text/plain": [
       "(256, 40)"
      ]
     },
     "execution_count": 80,
     "metadata": {},
     "output_type": "execute_result"
    }
   ],
   "source": [
    "subtract_out = record_layer(\"braille_noDelay_noBias_subtract.nir\", norse.torch.functional.reset_subtract)\n",
    "np.save(\"norse_activity_noDelay_noBias_subtract.npy\", subtract_out)\n",
    "subtract_out.shape"
   ]
  },
  {
   "cell_type": "code",
   "execution_count": 81,
   "id": "ca411c55-36b5-4b20-b07b-f3d64ba808de",
   "metadata": {},
   "outputs": [
    {
     "data": {
      "text/plain": [
       "<matplotlib.image.AxesImage at 0x7fc8b010b400>"
      ]
     },
     "execution_count": 81,
     "metadata": {},
     "output_type": "execute_result"
    },
    {
     "data": {
      "image/png": "[encoded data removed]",
      "text/plain": [
       "<Figure size 1200x400 with 1 Axes>"
      ]
     },
     "metadata": {},
     "output_type": "display_data"
    }
   ],
   "source": [
    "plt.figure(figsize=(12, 4))\n",
    "plt.imshow(subtract_out.T, aspect=3, interpolation=\"none\", cmap=\"gray\")"
   ]
  },
  {
   "cell_type": "code",
   "execution_count": 18,
   "id": "b8c56d73-aef4-4bcb-bc0c-0ba8ccc8d6f5",
   "metadata": {},
   "outputs": [
    {
     "data": {
      "text/plain": [
       "<matplotlib.image.AxesImage at 0x7fc8c86eb6a0>"
      ]
     },
     "execution_count": 18,
     "metadata": {},
     "output_type": "execute_result"
    },
    {
     "data": {
      "image/png": "[encoded data removed]",
      "text/plain": [
       "<Figure size 1200x400 with 1 Axes>"
      ]
     },
     "metadata": {},
     "output_type": "display_data"
    }
   ],
   "source": [
    "def apply(net, data):\n",
    "    state = None\n",
    "    hid_rec = []\n",
    "    out = []\n",
    "    for i, t in enumerate(data):\n",
    "        z, state = net(t, state)\n",
    "        out.append(z)\n",
    "        hid_rec.append(state)\n",
    "    spk_out = torch.stack(out)\n",
    "    # hid_rec = torch.stack(hid_rec)\n",
    "    return spk_out, hid_rec\n",
    "plt.figure(figsize=(12, 4))\n",
    "plt.imshow(apply(net, ds_test[0][0])[0].detach().T, aspect=14, interpolation=\"none\")"
   ]
  },
  {
   "cell_type": "markdown",
   "id": "251db4e6-841a-4878-8135-840628b058ce",
   "metadata": {},
   "source": [
    "# Run inference"
   ]
  },
  {
   "cell_type": "code",
   "execution_count": 19,
   "id": "5d0652cd-4f57-4988-a626-88a340a4a1a4",
   "metadata": {},
   "outputs": [],
   "source": [
    "def val_test_loop(dataset, batch_size, net, loss_fn, device, shuffle=True, saved_state_dict=None, label_probabilities=False, regularization=None):\n",
    "  \n",
    "  with torch.no_grad():\n",
    "    if saved_state_dict != None:\n",
    "        net.load_state_dict(saved_state_dict)\n",
    "    net.eval()\n",
    "\n",
    "    loader = torch.utils.data.DataLoader(dataset, batch_size=batch_size, shuffle=shuffle, drop_last=False)\n",
    "\n",
    "    batch_loss = []\n",
    "    batch_acc = []\n",
    "\n",
    "    for data, labels in loader:\n",
    "        data = data.to(device).swapaxes(1, 0)\n",
    "        labels = labels.to(device)\n",
    "\n",
    "        spk_out, hid_rec = apply(net, data)\n",
    "\n",
    "        # Validation loss\n",
    "        if regularization != None:\n",
    "            # L1 loss on spikes per neuron from the hidden layer\n",
    "            reg_loss = regularization[0]*torch.mean(torch.sum(hid_rec, 0))\n",
    "            # L2 loss on total number of spikes from the hidden layer\n",
    "            reg_loss = reg_loss + regularization[1]*torch.mean(torch.sum(torch.sum(hid_rec, dim=0), dim=1)**2)\n",
    "            loss_val = loss_fn(spk_out, labels) + reg_loss\n",
    "        else:\n",
    "            loss_val = loss_fn(spk_out.sum(0), labels)\n",
    "\n",
    "        batch_loss.append(loss_val.detach().cpu().item())\n",
    "\n",
    "        # Accuracy\n",
    "        act_total_out = torch.sum(spk_out, 0)  # sum over time\n",
    "        _, neuron_max_act_total_out = torch.max(act_total_out, 1)  # argmax over output units to compare to labels\n",
    "        batch_acc.extend((neuron_max_act_total_out == labels).detach().cpu().numpy()) # batch_acc.append(np.mean((neuron_max_act_total_out == labels).detach().cpu().numpy()))\n",
    "    \n",
    "    if label_probabilities:\n",
    "        log_softmax_fn = nn.LogSoftmax(dim=-1)\n",
    "        log_p_y = log_softmax_fn(act_total_out)\n",
    "        return [np.mean(batch_loss), np.mean(batch_acc)], torch.exp(log_p_y)\n",
    "    else:\n",
    "        return [np.mean(batch_loss), np.mean(batch_acc)]"
   ]
  },
  {
   "cell_type": "code",
   "execution_count": 20,
   "id": "91d083db-7860-4332-ad11-cf9276406226",
   "metadata": {},
   "outputs": [],
   "source": [
    "### INFERENCE ON TEST SET\n",
    "\n",
    "batch_size = 64\n",
    "\n",
    "input_size = 12 \n",
    "num_steps = next(iter(ds_test))[0].shape[0]\n",
    "regularization = [parameters[\"reg_l1\"], parameters[\"reg_l2\"]]"
   ]
  },
  {
   "cell_type": "code",
   "execution_count": 21,
   "id": "5c9b252a-05e6-4943-8f79-fe2059281871",
   "metadata": {},
   "outputs": [],
   "source": [
    "def load_and_val(graph, reset_method):\n",
    "    net = norse.torch.from_nir(graph, reset_method=reset_method, dt=1e-4)\n",
    "    return val_test_loop(ds_test, batch_size, net, loss_fn, device, shuffle=False)#, regularization=regularization)    "
   ]
  },
  {
   "cell_type": "code",
   "execution_count": 22,
   "id": "ca4c4fb1-a425-4164-b86f-6d47bb343a1c",
   "metadata": {},
   "outputs": [
    {
     "name": "stdout",
     "output_type": "stream",
     "text": [
      "Test accuracy: 93.57%\n"
     ]
    }
   ],
   "source": [
    "test_results = load_and_val(\"braille_noDelay_noBias_subtract.nir\", reset_method=norse.torch.functional.reset_subtract)\n",
    "np.save(\"norse_accuracy_noDelay_noBias_subtract.npy\", np.round(test_results[1]*100,2))\n",
    "print(\"Test accuracy: {}%\".format(np.round(test_results[1]*100,2)))"
   ]
  },
  {
   "cell_type": "code",
   "execution_count": 23,
   "id": "262a74e4-f972-4516-a5ad-8680b77d09e7",
   "metadata": {},
   "outputs": [
    {
     "name": "stdout",
     "output_type": "stream",
     "text": [
      "Test accuracy: 94.29%\n"
     ]
    }
   ],
   "source": [
    "test_results = load_and_val(\"braille_noDelay_bias_zero.nir\", reset_method=norse.torch.functional.reset_value)\n",
    "np.save(\"norse_accuracy_noDelay_bias_zero.npy\", np.round(test_results[1]*100,2))\n",
    "print(\"Test accuracy: {}%\".format(np.round(test_results[1]*100,2)))"
   ]
  },
  {
   "cell_type": "code",
   "execution_count": null,
   "id": "f626ccb2-0df9-497a-96ae-23ebaa3d265a",
   "metadata": {},
   "outputs": [],
   "source": []
  }
 ],
 "metadata": {
  "kernelspec": {
   "display_name": "Python 3 (ipykernel)",
   "language": "python",
   "name": "python3"
  },
  "language_info": {
   "codemirror_mode": {
    "name": "ipython",
    "version": 3
   },
   "file_extension": ".py",
   "mimetype": "text/x-python",
   "name": "python",
   "nbconvert_exporter": "python",
   "pygments_lexer": "ipython3",
   "version": "3.10.12"
  }
 },
 "nbformat": 4,
 "nbformat_minor": 5
}
