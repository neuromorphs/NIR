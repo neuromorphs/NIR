{
 "cells": [
  {
   "cell_type": "code",
   "execution_count": 1,
   "id": "1a8d33fd",
   "metadata": {},
   "outputs": [],
   "source": [
    "import spyx\n",
    "import spyx.nn as snn\n",
    "\n",
    "import jax\n",
    "import jax.numpy as jnp\n",
    "import numpy as np\n",
    "\n",
    "import nir"
   ]
  },
  {
   "cell_type": "code",
   "execution_count": 2,
   "id": "efe2092b",
   "metadata": {},
   "outputs": [],
   "source": [
    "isis = [\n",
    "    6, 15, 4, 3, 0, 2, 1, 2, 0, 1, 0, 0, 0, 0, 0, 0, 0, \n",
    "    0, 0, 0, 13, 0, 0, 0, 0, 0, 0, 0, 0, 0, 0, 0, 5, 0, 14\n",
    "]\n",
    "d1 = list(np.concatenate([isi*[0]+[1] for isi in isis]))[:100]\n",
    "d = jnp.array([[e] + 9*[0] for e in d1], dtype=jnp.uint8).reshape(1, -1)"
   ]
  },
  {
   "cell_type": "code",
   "execution_count": 3,
   "id": "69c6d834",
   "metadata": {},
   "outputs": [],
   "source": [
    "data = jnp.expand_dims(d, -1)"
   ]
  },
  {
   "cell_type": "code",
   "execution_count": 4,
   "id": "434dbd74",
   "metadata": {},
   "outputs": [
    {
     "data": {
      "text/plain": [
       "(1, 1000, 1)"
      ]
     },
     "execution_count": 4,
     "metadata": {},
     "output_type": "execute_result"
    }
   ],
   "source": [
    "data.shape"
   ]
  },
  {
   "cell_type": "code",
   "execution_count": 5,
   "id": "d79e9724",
   "metadata": {},
   "outputs": [],
   "source": [
    "nir_net = nir.read(\"./lif_norse.nir\")"
   ]
  },
  {
   "cell_type": "code",
   "execution_count": 6,
   "id": "24e1b945",
   "metadata": {},
   "outputs": [
    {
     "data": {
      "text/plain": [
       "{'0': Affine(weight=array([[1.]], dtype=float32), bias=array([0.], dtype=float32)),\n",
       " '1': LIF(tau=array([0.0025], dtype=float32), r=array([1.], dtype=float32), v_leak=array([0.], dtype=float32), v_threshold=array([0.1], dtype=float32)),\n",
       " 'input': Input(input_type={'input': array([1])}),\n",
       " 'output': Output(output_type={'output': array([1])})}"
      ]
     },
     "execution_count": 6,
     "metadata": {},
     "output_type": "execute_result"
    }
   ],
   "source": [
    "nir_net.nodes"
   ]
  },
  {
   "cell_type": "code",
   "execution_count": 7,
   "id": "e2e624f3",
   "metadata": {},
   "outputs": [
    {
     "data": {
      "text/plain": [
       "{'linear': {'w': Array([[0.04]], dtype=float32),\n",
       "  'b': Array([0.], dtype=float32)},\n",
       " 'LIF': {'beta': array([0.96], dtype=float32)}}"
      ]
     },
     "execution_count": 7,
     "metadata": {},
     "output_type": "execute_result"
    }
   ],
   "source": [
    "SNN, params = spyx.nir.from_nir(nir_net, data.astype(jnp.float32), dt=1e-4, return_all_states=True)\n",
    "params"
   ]
  },
  {
   "cell_type": "code",
   "execution_count": 8,
   "id": "805b587b",
   "metadata": {},
   "outputs": [],
   "source": [
    "spikes, voltage_trace = SNN.apply(params, data)"
   ]
  },
  {
   "cell_type": "code",
   "execution_count": 9,
   "id": "1af658bd",
   "metadata": {},
   "outputs": [
    {
     "data": {
      "text/plain": [
       "Array([0.04      , 0.0384    , 0.036864  , 0.03538944, 0.03397386,\n",
       "       0.03261491, 0.03131031, 0.0300579 , 0.02885558, 0.02770136],      dtype=float32)"
      ]
     },
     "execution_count": 9,
     "metadata": {},
     "output_type": "execute_result"
    }
   ],
   "source": [
    "voltage_trace[0].flatten()[60:70]"
   ]
  },
  {
   "cell_type": "code",
   "execution_count": 10,
   "id": "5bc28e5c",
   "metadata": {},
   "outputs": [
    {
     "data": {
      "image/png": "[encoded data removed]",
      "text/plain": [
       "<Figure size 432x288 with 2 Axes>"
      ]
     },
     "metadata": {
      "needs_background": "light"
     },
     "output_type": "display_data"
    }
   ],
   "source": [
    "import matplotlib.pyplot as plt\n",
    "spk, mem = spikes.flatten(), voltage_trace[0].flatten()\n",
    "\n",
    "fig, axs = plt.subplots(2, 1, sharex=True)\n",
    "axs[0].eventplot(np.where(spk == 1))\n",
    "axs[1].plot(mem)\n",
    "plt.show();"
   ]
  },
  {
   "cell_type": "code",
   "execution_count": 11,
   "id": "372a5fa5",
   "metadata": {},
   "outputs": [],
   "source": [
    "with open(f'lif_spyx.csv', 'w') as fw:\n",
    "    for idx in range(d.shape[1]):\n",
    "        fw.write(f'{d[0,idx]},{mem[idx]},{spk[idx]}\\n')"
   ]
  },
  {
   "cell_type": "code",
   "execution_count": 13,
   "id": "e003b5fa",
   "metadata": {},
   "outputs": [
    {
     "data": {
      "text/plain": [
       "NIRGraph(nodes={'input': Input(input_type={'input': array([   1, 1000,    1])}), 'output': Output(output_type={'output': array([1])}), 'linear': Affine(weight=array([[0.04]], dtype=float32), bias=array([0.], dtype=float32)), 'LIF': LIF(tau=array([0.0025], dtype=float32), r=array([0.96], dtype=float32), v_leak=array([0.], dtype=float32), v_threshold=array([1.], dtype=float32))}, edges=[('input', 'linear'), ('linear', 'LIF'), ('LIF', 'output')])"
      ]
     },
     "execution_count": 13,
     "metadata": {},
     "output_type": "execute_result"
    }
   ],
   "source": [
    "spyx.nir.to_nir(params, data.shape, (1,), dt=1e-4)"
   ]
  }
 ],
 "metadata": {
  "kernelspec": {
   "display_name": "Python 3 (ipykernel)",
   "language": "python",
   "name": "python3"
  },
  "language_info": {
   "codemirror_mode": {
    "name": "ipython",
    "version": 3
   },
   "file_extension": ".py",
   "mimetype": "text/x-python",
   "name": "python",
   "nbconvert_exporter": "python",
   "pygments_lexer": "ipython3",
   "version": "3.10.12"
  }
 },
 "nbformat": 4,
 "nbformat_minor": 5
}
