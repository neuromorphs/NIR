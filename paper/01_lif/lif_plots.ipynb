{
 "cells": [
  {
   "cell_type": "markdown",
   "metadata": {},
   "source": [
    "# LIF comparison"
   ]
  },
  {
   "cell_type": "markdown",
   "metadata": {},
   "source": [
    "## setup"
   ]
  },
  {
   "cell_type": "code",
   "execution_count": 1,
   "metadata": {},
   "outputs": [],
   "source": [
    "import numpy as np\n",
    "import matplotlib as mpl\n",
    "import matplotlib.pyplot as plt\n",
    "import seaborn\n",
    "import matplotlib\n",
    "\n",
    "filenames = [\n",
    "    [\"Exact\", \"lif_exact.csv\"],\n",
    "    ['Lava (CPU)', 'lif_lava_cpu_float.csv'],\n",
    "    ['Nengo', 'lif_nengo.csv'],\n",
    "    ['Norse', 'lif_norse.csv'],\n",
    "    ['Rockpool', 'lif_rockpool.csv'],\n",
    "    ['Sinabs', 'lif_sinabs.csv'],\n",
    "    ['snnTorch', 'lif_snntorch.csv'],\n",
    "    ['Spyx', 'lif_spyx.csv'],\n",
    "    ['Lava (Loihi)', 'lif_lava_loihi_fixed.csv'],\n",
    "    ['SpiNNaker2', 'lif_spinnaker2.csv'],\n",
    "]\n",
    "data = {\n",
    "    name: np.loadtxt(filename, delimiter=',')\n",
    "    for name, filename in filenames\n",
    "}\n",
    "SKIP_TIMESTEPS = 0\n",
    "voltages = [\n",
    "    (name, data[name][SKIP_TIMESTEPS:, 1] / data[name][:, 1].max()) for name in data.keys()\n",
    "]\n",
    "spikes = [\n",
    "    (name, np.where(data[name][SKIP_TIMESTEPS:, 2] == 1)[0]) for name in data.keys()\n",
    "]\n",
    "input_data = data['Norse'][SKIP_TIMESTEPS:, 0]"
   ]
  },
  {
   "cell_type": "code",
   "execution_count": 2,
   "metadata": {},
   "outputs": [
    {
     "name": "stdout",
     "output_type": "stream",
     "text": [
      "debug_spike_representation  lif_lava_loihi_fixed.png  lif_rockpool.png\n",
      "lif_comparison.ipynb\t    lif_nengo.csv\t      lif_sinabs.csv\n",
      "lif_exact.csv\t\t    lif_nengo.ipynb\t      lif_sinabs.ipynb\n",
      "lif_exact_sim.ipynb\t    lif_nengo.png\t      lif_snntorch.csv\n",
      "lif_exact_sim.py\t    lif_norse.csv\t      lif_snntorch.ipynb\n",
      "lif_lava_cpu_fixed.csv\t    lif_norse.ipynb\t      lif_spinnaker2.csv\n",
      "lif_lava_cpu_fixed.png\t    lif_norse.nir\t      lif_spinnaker2.py\n",
      "lif_lava_cpu_float.csv\t    lif_norse.png\t      lif_spyx.csv\n",
      "lif_lava_cpu_float.png\t    lif_rockpool.csv\t      lif_spyx.ipynb\n",
      "lif_lava.ipynb\t\t    lif_rockpool.ipynb\t      README.md\n",
      "lif_lava_loihi_fixed.csv    lif_rockpool.nir\n"
     ]
    }
   ],
   "source": [
    "!ls"
   ]
  },
  {
   "cell_type": "markdown",
   "metadata": {},
   "source": [
    "## 2D comparison plot"
   ]
  },
  {
   "cell_type": "code",
   "execution_count": 3,
   "metadata": {},
   "outputs": [
    {
     "ename": "NameError",
     "evalue": "name 'legend' is not defined",
     "output_type": "error",
     "traceback": [
      "\u001b[0;31m---------------------------------------------------------------------------\u001b[0m",
      "\u001b[0;31mNameError\u001b[0m                                 Traceback (most recent call last)",
      "Cell \u001b[0;32mIn[3], line 1\u001b[0m\n\u001b[0;32m----> 1\u001b[0m \u001b[43mlegend\u001b[49m\u001b[38;5;241m.\u001b[39mget_frame()\u001b[38;5;241m.\u001b[39mset_edgecolor\n",
      "\u001b[0;31mNameError\u001b[0m: name 'legend' is not defined"
     ]
    }
   ],
   "source": [
    "legend.get_frame().set_edgecolor"
   ]
  },
  {
   "cell_type": "code",
   "execution_count": null,
   "metadata": {},
   "outputs": [],
   "source": [
    "# plt.style.use(\"../plots.mplstyle\")\n",
    "# seaborn.set_context(\"paper\", font_scale=1)\n",
    "# plt.style.use(\"seaborn-v0_8-paper\")\n",
    "seaborn.set_style(\"whitegrid\")\n",
    "font = {'family' : 'CMU Sans Serif',\n",
    "        'weight' : 'normal',\n",
    "        'size'   : 20}\n",
    "\n",
    "matplotlib.rc('font', **font)\n",
    "matplotlib.rcParams[\"axes.edgecolor\"] = \"black\"\n",
    "matplotlib.rcParams[\"axes.linewidth\"] = 1.5\n",
    "matplotlib.rcParams[\"legend.edgecolor\"] = \"black\"\n",
    "\n",
    "colors = plt.rcParams['axes.prop_cycle'].by_key()['color']\n",
    "\n",
    "# fig.suptitle('Comparison of Leaky Integrate-and-Fire dynamics')\n",
    "spec = mpl.gridspec.GridSpec(ncols=1, nrows=3, height_ratios=[1.5, 6, 2])\n",
    "#fig = plt.figure(figsize=(12, 6), dpi=300)\n",
    "fig, (ax0, ax1, ax3) = plt.subplots(3, 1, gridspec_kw={\"height_ratios\": [1, 6, 2], \"hspace\": 0.1}, sharex=True, figsize=(16, 6), dpi=300)\n",
    "\n",
    "ax0.set_title(\"Single leaky integrate-and-fire neuron\", pad=15, fontsize=30)\n",
    "\n",
    "# ax0 = fig.add_subplot(spec[0])\n",
    "ax0.set_ylabel('Input')\n",
    "ax0.set_yticks([])\n",
    "ax0.eventplot(np.where(input_data == 1.)[0], colors='k')\n",
    "ax0.set_ylim(0, 2)\n",
    "ax0.set_xlim(0, 1000)\n",
    "\n",
    "# ax1 = fig.add_subplot(spec[1], sharex=ax0)\n",
    "# handles = []\n",
    "for idx, (name, voltage) in enumerate(voltages):\n",
    "    if idx == 0:\n",
    "        r = plt.Rectangle((1, -idx - 0.2), 998, 1.5, facecolor=\"#a0d6f2\", edgecolor=\"black\", linestyle=\"dotted\")\n",
    "        ax1.add_artist(r)\n",
    "        offset = 0\n",
    "    else:\n",
    "        offset = -idx - 0.2\n",
    "    ax1.plot(voltage * 0.85 + offset, label=name, linewidth=2)\n",
    "    \n",
    "ax1.set_ylabel('Voltage')\n",
    "ax1.set_yticks([])\n",
    "# ax1.set_yticklabels([])\n",
    "ax1.grid(axis='y', alpha=0.5)\n",
    "\n",
    "# ax3 = fig.add_subplot(spec[2], sharex=ax1)\n",
    "ax3.set_ylabel('Spikes')\n",
    "for idx, (name, spike) in enumerate(spikes[::-1]):\n",
    "    yval = 1 + idx / (len(spikes)-1)\n",
    "    ax3.scatter(spike, np.ones_like(spike) * yval, s=50, marker='+', color=colors[len(spikes) - idx - 1], linewidths=2)\n",
    "ax3.set_ylim(0.9, 2.1)\n",
    "ax3.set_yticklabels([])\n",
    "ax3.set_yticks([])\n",
    "ax3.grid(axis='y', alpha=0.5)\n",
    "ax3.set_xlabel('Timestep', labelpad=-6)\n",
    "\n",
    "legend = fig.legend(bbox_to_anchor=(0.87, -0.097, 0.2, 1), fontsize=20, labelspacing=0.73)\n",
    "legend.get_frame().set_linewidth(1.5)\n",
    "for l in legend.legend_handles:\n",
    "    l.set_linewidth(2.5)\n",
    "    \n",
    "# fig.legend(bbox_to_anchor=(1, 1), ncols=len(voltages))\n",
    "plt.tight_layout()\n",
    "plt.savefig('../figures/lif_comparison.pdf', dpi=300, bbox_inches=\"tight\")\n",
    "plt.show()"
   ]
  },
  {
   "cell_type": "code",
   "execution_count": null,
   "metadata": {},
   "outputs": [],
   "source": []
  }
 ],
 "metadata": {
  "kernelspec": {
   "display_name": "Python 3 (ipykernel)",
   "language": "python",
   "name": "python3"
  },
  "language_info": {
   "codemirror_mode": {
    "name": "ipython",
    "version": 3
   },
   "file_extension": ".py",
   "mimetype": "text/x-python",
   "name": "python",
   "nbconvert_exporter": "python",
   "pygments_lexer": "ipython3",
   "version": "3.10.12"
  }
 },
 "nbformat": 4,
 "nbformat_minor": 4
}
