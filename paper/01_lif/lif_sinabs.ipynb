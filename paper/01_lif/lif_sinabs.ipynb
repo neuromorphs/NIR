{
 "cells": [
  {
   "cell_type": "code",
   "execution_count": null,
   "metadata": {},
   "outputs": [],
   "source": [
    "import torch\n",
    "import torch.nn as nn\n",
    "import sinabs\n",
    "from sinabs.nir import from_nir\n",
    "import numpy as np\n",
    "import nir"
   ]
  },
  {
   "cell_type": "code",
   "execution_count": null,
   "metadata": {},
   "outputs": [],
   "source": [
    "graph = nir.read('lif_norse.nir')\n",
    "for nkey, node in graph.nodes.items():\n",
    "    print(f\"{nkey:7} {node}\")"
   ]
  },
  {
   "cell_type": "code",
   "execution_count": null,
   "metadata": {},
   "outputs": [],
   "source": [
    "isis = [\n",
    "    6, 15, 4, 3, 0, 2, 1, 2, 0, 1, 0, 0, 0, 0, 0, 0, 0, \n",
    "    0, 0, 0, 13, 0, 0, 0, 0, 0, 0, 0, 0, 0, 0, 0, 5, 0, 14\n",
    "]\n",
    "d1 = list(np.concatenate([isi*[0]+[1] for isi in isis]))[:100]\n",
    "d = torch.tensor([[e] + 9*[0] for e in d1], dtype=torch.float).reshape(-1, 1)\n",
    "d *= 0.04\n",
    "dt = 1e-4"
   ]
  },
  {
   "cell_type": "code",
   "execution_count": null,
   "metadata": {},
   "outputs": [],
   "source": [
    "# - Generate sinabs model\n",
    "sinabs_model = from_nir(graph, batch_size=1)"
   ]
  },
  {
   "cell_type": "code",
   "execution_count": null,
   "metadata": {},
   "outputs": [],
   "source": [
    "# - Make LIF layer record its membrane potential\n",
    "lif_layer = sinabs_model.execution_order[2].elem  # Handle to LIF layer\n",
    "lif_layer.record_states = True\n",
    "# - Scale time constant according to dt of data\n",
    "lif_layer.tau_mem.data /= dt"
   ]
  },
  {
   "cell_type": "code",
   "execution_count": null,
   "metadata": {},
   "outputs": [],
   "source": [
    "output = sinabs_model(d).detach().numpy()[:, 0]\n",
    "v_mem = lif_layer.recordings[\"v_mem\"][0, : , 0].detach().numpy()"
   ]
  },
  {
   "cell_type": "code",
   "execution_count": null,
   "metadata": {},
   "outputs": [],
   "source": [
    "import matplotlib.pyplot as plt\n",
    "fig, axs = plt.subplots(2, 1, sharex=True)\n",
    "axs[0].eventplot(np.where(output > 0)[0])\n",
    "axs[1].plot(v_mem)\n",
    "plt.show();"
   ]
  },
  {
   "cell_type": "code",
   "execution_count": null,
   "metadata": {},
   "outputs": [],
   "source": [
    "with open(f'lif_sinabs.csv', 'w') as fw:\n",
    "    for idx in range(d.shape[0]):\n",
    "        fw.write(f'{d[idx, 0]},{v_mem[idx]},{output[idx]}\\n')"
   ]
  },
  {
   "cell_type": "code",
   "execution_count": null,
   "metadata": {},
   "outputs": [],
   "source": []
  }
 ],
 "metadata": {
  "kernelspec": {
   "display_name": "Python 3 (ipykernel)",
   "language": "python",
   "name": "python3"
  },
  "language_info": {
   "codemirror_mode": {
    "name": "ipython",
    "version": 3
   },
   "file_extension": ".py",
   "mimetype": "text/x-python",
   "name": "python",
   "nbconvert_exporter": "python",
   "pygments_lexer": "ipython3",
   "version": "3.8.10"
  }
 },
 "nbformat": 4,
 "nbformat_minor": 4
}
