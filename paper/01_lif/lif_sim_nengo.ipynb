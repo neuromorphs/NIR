{
 "cells": [
  {
   "cell_type": "code",
   "execution_count": 1,
   "metadata": {},
   "outputs": [
    {
     "name": "stdout",
     "output_type": "stream",
     "text": [
      "0       Affine(weight=array([[1.]], dtype=float32), bias=array([0.], dtype=float32))\n",
      "1       LIF(tau=array([0.0025], dtype=float32), r=array([1.], dtype=float32), v_leak=array([0.], dtype=float32), v_threshold=array([0.1], dtype=float32))\n",
      "input   Input(input_type={'input': array([1], dtype=int64)})\n",
      "output  Output(output_type={'output': array([1], dtype=int64)})\n"
     ]
    }
   ],
   "source": [
    "from nir.read import read\n",
    "from nir.ir import LIF\n",
    "\n",
    "import nir\n",
    "\n",
    "graph = read('lif_norse.nir')\n",
    "for nkey, node in graph.nodes.items():\n",
    "    print(f\"{nkey:7} {node}\")"
   ]
  },
  {
   "cell_type": "code",
   "execution_count": 2,
   "metadata": {},
   "outputs": [],
   "source": [
    "import nengo\n",
    "import numpy as np\n",
    "\n",
    "def nir_to_nengo(n):\n",
    "    nengo_map = {}\n",
    "\n",
    "    model = nengo.Network()\n",
    "    with model:\n",
    "        filters = {}\n",
    "        for name, obj in n.nodes.items():\n",
    "            if isinstance(obj, nir.Input):\n",
    "                node = nengo.Node(None, size_in=obj.input_type['input'][0], label=f\"Input {name} {obj.input_type['input']}\")\n",
    "                nengo_map[name] = node\n",
    "            elif isinstance(obj, nir.LIF):\n",
    "                assert np.all(obj.r == 1)\n",
    "                assert np.all(obj.v_leak == 0)\n",
    "                N = obj.tau.flatten().shape[0]\n",
    "                ens = nengo.Ensemble(\n",
    "                    n_neurons=N,\n",
    "                    dimensions=1,\n",
    "                    label=f\"LIF {name}\",\n",
    "                    neuron_type = nengo.LIF(tau_rc=obj.tau[0], tau_ref=0, initial_state={\"voltage\": nengo.dists.Choice([0])}),\n",
    "                    gain=np.ones(N)/obj.v_threshold,\n",
    "                    bias=np.zeros(N),\n",
    "                )\n",
    "                nengo_map[name] = ens.neurons\n",
    "            elif isinstance(obj, nir.LI):\n",
    "                filt = nengo.Node(\n",
    "                    None,\n",
    "                    size_in=obj.tau.flatten().shape[0],\n",
    "                    label=f\"LI {name} {obj.tau.shape}\",\n",
    "                )\n",
    "                filters[filt] = nengo.synapses.Lowpass(obj.tau[0])\n",
    "                nengo_map[name] = filt\n",
    "            elif isinstance(obj, nir.Affine):\n",
    "                w = nengo.Node(\n",
    "                    lambda t, x, obj=obj: obj.weight @ x + obj.bias,\n",
    "                    size_in=obj.weight.shape[1],\n",
    "                    size_out=obj.weight.shape[0],\n",
    "                    label=f\"({obj.weight.shape[0]}x{obj.weight.shape[1]})\",\n",
    "                )\n",
    "                nengo_map[name] = w\n",
    "            elif isinstance(obj, nir.Output):\n",
    "                nengo_map[name] = nengo.Node(None, size_in=obj.output_type['output'][0], label=f\"Output {name} {obj.input_type['input']}\")\n",
    "        for pre, post in n.edges:\n",
    "            synapse = filters.get(nengo_map[post], None)\n",
    "\n",
    "            if nengo_map[pre].size_out != nengo_map[post].size_in:\n",
    "                print(\"Error\")\n",
    "                print(\"pre\", nengo_map[pre])\n",
    "                print(\"post\", nengo_map[post])\n",
    "                1 / 0\n",
    "\n",
    "            else:\n",
    "                nengo.Connection(nengo_map[pre], nengo_map[post], synapse=synapse)\n",
    "\n",
    "    return model, nengo_map\n"
   ]
  },
  {
   "cell_type": "code",
   "execution_count": 3,
   "metadata": {},
   "outputs": [
    {
     "data": {
      "application/vdom.v1+json": {
       "attributes": {},
       "tagName": "div"
      },
      "text/html": [
       "\n",
       "                <script>\n",
       "                    if (Jupyter.version.split(\".\")[0] < 5) {\n",
       "                        var pb = document.getElementById(\"4869f112-b668-4ba8-96f6-43812dde4a64\");\n",
       "                        var text = document.createTextNode(\n",
       "                            \"HMTL progress bar requires Jupyter Notebook >= \" +\n",
       "                            \"5.0 or Jupyter Lab. Alternatively, you can use \" +\n",
       "                            \"TerminalProgressBar().\");\n",
       "                        pb.parentNode.insertBefore(text, pb);\n",
       "                    }\n",
       "                </script>\n",
       "                <div id=\"4869f112-b668-4ba8-96f6-43812dde4a64\" style=\"\n",
       "                    width: 100%;\n",
       "                    border: 1px solid #cfcfcf;\n",
       "                    border-radius: 4px;\n",
       "                    text-align: center;\n",
       "                    position: relative;\">\n",
       "                  <div class=\"pb-text\" style=\"\n",
       "                      position: absolute;\n",
       "                      width: 100%;\">\n",
       "                    0%\n",
       "                  </div>\n",
       "                  <div class=\"pb-fill\" style=\"\n",
       "                      background-color: #bdd2e6;\n",
       "                      width: 0%;\">\n",
       "                    <style type=\"text/css\" scoped=\"scoped\">\n",
       "                        @keyframes pb-fill-anim {\n",
       "                            0% { background-position: 0 0; }\n",
       "                            100% { background-position: 100px 0; }\n",
       "                        }\n",
       "                    </style>\n",
       "                    &nbsp;\n",
       "                  </div>\n",
       "                </div>"
      ],
      "text/plain": [
       "HtmlProgressBar cannot be displayed. Please use the TerminalProgressBar. It can be enabled with `nengo.rc['progress']['progress_bar'] = 'nengo.utils.progress.TerminalProgressBar'`."
      ]
     },
     "metadata": {},
     "output_type": "display_data"
    },
    {
     "data": {
      "application/vdom.v1+json": {
       "attributes": {
        "id": "8a1c845a-5915-4686-8568-f2221943d098",
        "style": {
         "border": "1px solid #cfcfcf",
         "borderRadius": "4px",
         "boxSizing": "border-box",
         "position": "relative",
         "textAlign": "center",
         "width": "100%"
        }
       },
       "children": [
        {
         "attributes": {
          "class": "pb-text",
          "style": {
           "position": "absolute",
           "width": "100%"
          }
         },
         "children": [
          "Build finished in 0:00:01."
         ],
         "tagName": "div"
        },
        {
         "attributes": {
          "class": "pb-fill",
          "style": {
           "animation": "none",
           "backgroundColor": "#bdd2e6",
           "backgroundImage": "none",
           "backgroundSize": "100px 100%",
           "width": "100%"
          }
         },
         "children": [
          {
           "attributes": {
            "scoped": "scoped",
            "type": "text/css"
           },
           "children": [
            "\n                        @keyframes pb-fill-anim {\n                            0% { background-position: 0 0; }\n                            100% { background-position: 100px 0; }\n                        }}"
           ],
           "tagName": "style"
          },
          " "
         ],
         "tagName": "div"
        }
       ],
       "tagName": "div"
      },
      "text/html": [
       "<script>\n",
       "              (function () {\n",
       "                  var root = document.getElementById('4869f112-b668-4ba8-96f6-43812dde4a64');\n",
       "                  var text = root.getElementsByClassName('pb-text')[0];\n",
       "                  var fill = root.getElementsByClassName('pb-fill')[0];\n",
       "\n",
       "                  text.innerHTML = 'Build finished in 0:00:01.';\n",
       "                  \n",
       "            fill.style.width = '100%';\n",
       "            fill.style.animation = 'pb-fill-anim 2s linear infinite';\n",
       "            fill.style.backgroundSize = '100px 100%';\n",
       "            fill.style.backgroundImage = 'repeating-linear-gradient(' +\n",
       "                '90deg, #bdd2e6, #edf2f8 40%, #bdd2e6 80%, #bdd2e6)';\n",
       "        \n",
       "                  \n",
       "                fill.style.animation = 'none';\n",
       "                fill.style.backgroundImage = 'none';\n",
       "            \n",
       "              })();\n",
       "        </script>"
      ]
     },
     "metadata": {},
     "output_type": "display_data"
    },
    {
     "data": {
      "application/vdom.v1+json": {
       "attributes": {},
       "tagName": "div"
      },
      "text/html": [
       "\n",
       "                <script>\n",
       "                    if (Jupyter.version.split(\".\")[0] < 5) {\n",
       "                        var pb = document.getElementById(\"578b21df-5338-423b-b827-bd3b37d3602d\");\n",
       "                        var text = document.createTextNode(\n",
       "                            \"HMTL progress bar requires Jupyter Notebook >= \" +\n",
       "                            \"5.0 or Jupyter Lab. Alternatively, you can use \" +\n",
       "                            \"TerminalProgressBar().\");\n",
       "                        pb.parentNode.insertBefore(text, pb);\n",
       "                    }\n",
       "                </script>\n",
       "                <div id=\"578b21df-5338-423b-b827-bd3b37d3602d\" style=\"\n",
       "                    width: 100%;\n",
       "                    border: 1px solid #cfcfcf;\n",
       "                    border-radius: 4px;\n",
       "                    text-align: center;\n",
       "                    position: relative;\">\n",
       "                  <div class=\"pb-text\" style=\"\n",
       "                      position: absolute;\n",
       "                      width: 100%;\">\n",
       "                    0%\n",
       "                  </div>\n",
       "                  <div class=\"pb-fill\" style=\"\n",
       "                      background-color: #bdd2e6;\n",
       "                      width: 0%;\">\n",
       "                    <style type=\"text/css\" scoped=\"scoped\">\n",
       "                        @keyframes pb-fill-anim {\n",
       "                            0% { background-position: 0 0; }\n",
       "                            100% { background-position: 100px 0; }\n",
       "                        }\n",
       "                    </style>\n",
       "                    &nbsp;\n",
       "                  </div>\n",
       "                </div>"
      ],
      "text/plain": [
       "HtmlProgressBar cannot be displayed. Please use the TerminalProgressBar. It can be enabled with `nengo.rc['progress']['progress_bar'] = 'nengo.utils.progress.TerminalProgressBar'`."
      ]
     },
     "metadata": {},
     "output_type": "display_data"
    },
    {
     "data": {
      "application/vdom.v1+json": {
       "attributes": {
        "id": "8fdedae7-5e38-4798-887d-f6bc38b5bfac",
        "style": {
         "border": "1px solid #cfcfcf",
         "borderRadius": "4px",
         "boxSizing": "border-box",
         "position": "relative",
         "textAlign": "center",
         "width": "100%"
        }
       },
       "children": [
        {
         "attributes": {
          "class": "pb-text",
          "style": {
           "position": "absolute",
           "width": "100%"
          }
         },
         "children": [
          "Simulation finished in 0:00:01."
         ],
         "tagName": "div"
        },
        {
         "attributes": {
          "class": "pb-fill",
          "style": {
           "animation": "none",
           "backgroundColor": "#bdd2e6",
           "backgroundImage": "none",
           "transition": "width 0.1s linear",
           "width": "100%"
          }
         },
         "children": [
          {
           "attributes": {
            "scoped": "scoped",
            "type": "text/css"
           },
           "children": [
            "\n                        @keyframes pb-fill-anim {\n                            0% { background-position: 0 0; }\n                            100% { background-position: 100px 0; }\n                        }}"
           ],
           "tagName": "style"
          },
          " "
         ],
         "tagName": "div"
        }
       ],
       "tagName": "div"
      },
      "text/html": [
       "<script>\n",
       "              (function () {\n",
       "                  var root = document.getElementById('578b21df-5338-423b-b827-bd3b37d3602d');\n",
       "                  var text = root.getElementsByClassName('pb-text')[0];\n",
       "                  var fill = root.getElementsByClassName('pb-fill')[0];\n",
       "\n",
       "                  text.innerHTML = 'Simulation finished in 0:00:01.';\n",
       "                  \n",
       "            if (100.0 > 0.) {\n",
       "                fill.style.transition = 'width 0.1s linear';\n",
       "            } else {\n",
       "                fill.style.transition = 'none';\n",
       "            }\n",
       "\n",
       "            fill.style.width = '100.0%';\n",
       "            fill.style.animation = 'none';\n",
       "            fill.style.backgroundImage = 'none'\n",
       "        \n",
       "                  \n",
       "                fill.style.animation = 'none';\n",
       "                fill.style.backgroundImage = 'none';\n",
       "            \n",
       "              })();\n",
       "        </script>"
      ]
     },
     "metadata": {},
     "output_type": "display_data"
    }
   ],
   "source": [
    "model, nengo_map = nir_to_nengo(graph)\n",
    "\n",
    "d0 = [0, 0, 0, 0, 0, 0, 1, 0, 0, 0, 0, 0, 0, 0, 0, 0, 0, 0, 0, 0, 0, 0, 1, 0, 0, 0, 0, 1, 0, 0, 0, 1, 1, 0, 0, 1, 0, 1, 0, 0, 1, 1, 0, 1, 1, 1, 1, 1, 1, 1, 1, 1, 1, 1, 0, 0, 0, 0, 0, 0, 0, 0, 0, 0, 0, 0, 0, 1, 1, 1, 1, 1, 1, 1, 1, 1, 1, 1, 1, 0, 0, 0, 0, 0, 1, 1, 0, 0, 0, 0, 0, 0, 0, 0, 0, 0, 0, 0, 0, 0]\n",
    "d = []\n",
    "for t in d0:\n",
    "    d.append(t)\n",
    "    for i in range(9):\n",
    "        d.append(0)\n",
    "\n",
    "dt = 1e-4\n",
    "                \n",
    "with model:\n",
    "    stim = nengo.Node(nengo.processes.PresentInput(d, presentation_time=dt))\n",
    "    nengo.Connection(stim, nengo_map['input'], synapse=None, transform=1)\n",
    "    \n",
    "    p_stim = nengo.Probe(stim)\n",
    "    p_output = nengo.Probe(nengo_map['output'])\n",
    "    p_membrane = nengo.Probe(nengo_map['1'], 'voltage')\n",
    "    \n",
    "    \n",
    "sim = nengo.Simulator(model, dt)\n",
    "with sim:\n",
    "    sim.run(len(d)*dt)"
   ]
  },
  {
   "cell_type": "code",
   "execution_count": 4,
   "metadata": {},
   "outputs": [],
   "source": [
    "%matplotlib inline\n",
    "import matplotlib.pyplot as plt\n"
   ]
  },
  {
   "cell_type": "code",
   "execution_count": 5,
   "metadata": {
    "scrolled": true
   },
   "outputs": [
    {
     "data": {
      "image/png": "[encoded data removed]",
      "text/plain": [
       "<Figure size 1440x288 with 1 Axes>"
      ]
     },
     "metadata": {
      "needs_background": "light"
     },
     "output_type": "display_data"
    }
   ],
   "source": [
    "spikes = np.argwhere(sim.data[p_output] > 0)\n",
    "plt.figure(figsize=(20, 4))\n",
    "plt.plot(sim.data[p_membrane]*0.1)\n",
    "plt.scatter(spikes, np.ones_like(spikes) * 0.1, marker=\"|\", c=\"red\", s=400)\n",
    "plt.savefig(\"lif_trace_nengo.png\")"
   ]
  },
  {
   "cell_type": "code",
   "execution_count": 6,
   "metadata": {},
   "outputs": [],
   "source": [
    "import pandas\n",
    "pandas.DataFrame(np.concatenate([sim.data[p_stim], \n",
    "                                 sim.data[p_membrane], \n",
    "                                 sim.data[p_output]*dt], axis=1)).to_csv(\"lif_nengo.csv\", index=False, header=False)"
   ]
  },
  {
   "cell_type": "code",
   "execution_count": null,
   "metadata": {},
   "outputs": [],
   "source": []
  }
 ],
 "metadata": {
  "kernelspec": {
   "display_name": "Python 3",
   "language": "python",
   "name": "python3"
  },
  "language_info": {
   "codemirror_mode": {
    "name": "ipython",
    "version": 3
   },
   "file_extension": ".py",
   "mimetype": "text/x-python",
   "name": "python",
   "nbconvert_exporter": "python",
   "pygments_lexer": "ipython3",
   "version": "3.8.5"
  }
 },
 "nbformat": 4,
 "nbformat_minor": 4
}
